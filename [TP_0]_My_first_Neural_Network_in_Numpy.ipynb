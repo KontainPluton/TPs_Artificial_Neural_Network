{
  "nbformat": 4,
  "nbformat_minor": 0,
  "metadata": {
    "colab": {
      "provenance": [],
      "collapsed_sections": [],
      "include_colab_link": true
    },
    "kernelspec": {
      "name": "python3",
      "display_name": "Python 3"
    }
  },
  "cells": [
    {
      "cell_type": "markdown",
      "metadata": {
        "id": "view-in-github",
        "colab_type": "text"
      },
      "source": [
        "<a href=\"https://colab.research.google.com/github/KontainPluton/TPs_Artificial_Neural_Network/blob/main/%5BTP_0%5D_My_first_Neural_Network_in_Numpy.ipynb\" target=\"_parent\"><img src=\"https://colab.research.google.com/assets/colab-badge.svg\" alt=\"Open In Colab\"/></a>"
      ]
    },
    {
      "cell_type": "markdown",
      "metadata": {
        "id": "OUqc1_wsWsWi"
      },
      "source": [
        "# My First Artificial Neural Network\n",
        "\n",
        "**Objective** The goal of this practical session is to implement a simple but fully functional artificial neural network (ANN). It will probably be a first for you so be excited! This session will also be the opportunity to recall some important notions related to Machine Learning. \n",
        "\n",
        "**Prerequisites**: introductory level in machine learning, basics of calculus and linear algebra, a first quick introduction to ANNs, basic Python skills, and well, as usual, motivation!\n",
        "\n",
        "**Estimated time**: 3 hours (generous)\n",
        "\n",
        "****"
      ]
    },
    {
      "cell_type": "markdown",
      "metadata": {
        "id": "K4rVbB4mTpNa"
      },
      "source": [
        "\n",
        "\n",
        "## Introduction to the session\n",
        "\n",
        "You'll be asked to implement several *tricky* details by hand. \n",
        "It will (i) force you to deeply understand the basics of neural neworks, and (ii) help you to fully understand what's happening under the hood when you'll be using high-level frameworks such as TensorFlow or PyTorch. \n",
        "\n",
        "*Important*: please, don't give up if you find it hard at first, we can ensure you that you've the skills and adapted background to achieve this (easily). Take your time, find your pace, try to fully understand what we are doing at each step.\n",
        "\n",
        "As we will see later introducing PyTorch (a framework commonly used to implement ANN you're not supposed to know yet), the development process of our ANNs will be highly simplified. But for now, we will only use the Numpy library to implement the neural network.\n",
        "\n",
        "*NumPy is a library for the Python programming language, adding support for large, multi-dimensional arrays and matrices, along with a large collection of high-level mathematical functions to operate on these arrays.* https://numpy.org/. It is not a prerequesite to master Numpy to understand the content of this session. The duration of this session has been defined to allow you to spend extra time learning about tools or concepts that we will use, so do not hesite to find extra resources to learn about Numpy for instance. \n",
        "\n",
        "This tutorial is based on https://pytorch.org/tutorials/beginner/pytorch_with_examples.html. Several modifications have been made, and extra content added to match, as much as possible, with the content given in this course and your background. \n",
        "\n",
        "Recall the terminology:\n",
        "* supervised machine learning: the setting we will consider in which we do have a set of pairs of the form (input, label), e.g. in a binary classification task related to cancerous tumor detection in image we would have a set of pairs (image, boolean value).\n",
        "* training set: labeled inputs we will use to train our network. \n",
        "* batch: group of input values processed in a iteration. \n",
        "\n",
        "Our aim is to obtain a predictive model, here a neural network, able to perform good predictions while used in production. It is important to stress that we don't only want our model to be good on the training set (that would be memorizing); we want our model to provide good predictions on unseen input values too. Our model should therefore generalize well.  \n",
        "\n",
        "The flow of this session will be the following: \n",
        "1. We will define a neural network architecture in accordance with the input data we will have to deal with. Several design choices will be defined arbitrarily at this step.\n",
        "\n",
        "2. We will define the training procedure that will be used to train the parameters of the networks using training data. You should already be familiar with the training objective classically considered in a supervised setting (i.e. minimizing a loss function; if it's not the case do not hesitate to go back to our introductory course about linear models).\n"
      ]
    },
    {
      "cell_type": "markdown",
      "metadata": {
        "id": "axdQtlZBZSd9"
      },
      "source": [
        "## Context : Supervised setting, **Regression**\n",
        "\n",
        "First we will define the context we will consider.\n",
        "\n",
        "We will place ourself in a regression setting in which we want a predictor $\\hat{f} :\\mathbb{R}^{3} \\rightarrow \\mathbb{R}^{3}$.\n",
        "\n",
        "For this illustration we will consider that we have the (x,y,z) coordinates of an object at time $t$ and that we want to predict its coordinates at time $t+1$, not knowing the dynamics of the underlying system (i.e. how the objects move in the corresponding 3D space). \n",
        "\n",
        "Our model should therefore be able to take inputs of the form $x_i \\in \\mathbb{R}^{3}$ and to produce outputs $\\hat{y}_i \\in \\mathbb{R}^{3}$ such that $\\hat{y}_i \\approx y_i$. Note that we distinguish the expected output (i.e. label) for $x_i$, denoted $y_i$, from the prediction of our network denoted $\\hat{y}_i$.\n",
        "\n",
        "For pedagological reasons, we will arbitrarily and explicitly define the function ($f :\\mathbb{R}^{3} \\rightarrow \\mathbb{R}^{3}$) we would like to approximate or find using our network. This function will be used to generate the datasets we will use. It is however important for you to understand that you'll never have access to that function in practice; you'll be only given the training set. "
      ]
    },
    {
      "cell_type": "code",
      "metadata": {
        "id": "HAmC2iond5f4",
        "colab": {
          "base_uri": "https://localhost:8080/"
        },
        "outputId": "4fec1f64-686b-4de5-d0cd-7ca5a5b02634"
      },
      "source": [
        "# -*- coding: utf-8 -*-\n",
        "import numpy as np\n",
        "\n",
        "theta = 45\n",
        "\n",
        "# our labeling function\n",
        "def x_axis_theta_rotation(p):\n",
        "  \"\"\" return new (x,y,z) coordinates of the point after a theta-based rotation along the x-axis\n",
        "      Note: understanding this function is not important. \n",
        "      We could also add a random noise\n",
        "  \"\"\"\n",
        "  return np.array([\n",
        "    p[0],\n",
        "    p[1]*np.cos(p[0] * theta) - p[2]*np.sin(p[0] * theta),\n",
        "    p[1]*np.sin(p[0] * theta) + p[2]*np.cos(p[0] * theta)\n",
        "  ])\n",
        "\n",
        "# Generate a label example\n",
        "x_1 = np.random.randn(3)\n",
        "y_1 = x_axis_theta_rotation(x_1)\n",
        "\n",
        "print(\"Input data example\")\n",
        "print(\"x_1\", x_1)\n",
        "print(\"y_1\", y_1)\n"
      ],
      "execution_count": null,
      "outputs": [
        {
          "output_type": "stream",
          "name": "stdout",
          "text": [
            "Input data example\n",
            "x_1 [-0.18169342  0.00183919 -1.07256749]\n",
            "y_1 [-0.18169342 -1.01794913  0.33791121]\n"
          ]
        }
      ]
    },
    {
      "cell_type": "markdown",
      "metadata": {
        "id": "pbWH835ZcjvE"
      },
      "source": [
        "We will have several observations of this form. \n",
        "Let's say we have *N* observations."
      ]
    },
    {
      "cell_type": "code",
      "metadata": {
        "id": "gZGuS3Gfc1c3",
        "colab": {
          "base_uri": "https://localhost:8080/"
        },
        "outputId": "180e4661-307e-49d6-8224-f8be483dcc1b"
      },
      "source": [
        "def get_dataset(N, D_in, D_out):\n",
        "\n",
        "  \"\"\"Create N random input and associated label\"\"\"\n",
        "  x = np.random.randn(N, D_in)\n",
        "  y = np.array([x_axis_theta_rotation(xi) for xi in x]) \n",
        "\n",
        "  return (x,y)\n",
        "\n",
        "N = 1000 # size of the dataset\n",
        "D_in, D_out = 3, 3 # input and output dimensions, we name them to distinguish them hereafter\n",
        "\n",
        "x, y = get_dataset(N, D_in, D_out)\n",
        "\n",
        "print(x.shape)\n",
        "\n",
        "print(\"Data (first 10 elements)\")\n",
        "print(\"Inputs\\n\", x[:10,:])\n",
        "print(\"Labels\\n\", y[:10,:])\n",
        "\n",
        "print(\"\\nExample\")\n",
        "print(\"input 1: \", x[0])\n",
        "print(\"label 1: \", y[0])"
      ],
      "execution_count": null,
      "outputs": [
        {
          "output_type": "stream",
          "name": "stdout",
          "text": [
            "(1000, 3)\n",
            "Data (first 10 elements)\n",
            "Inputs\n",
            " [[-1.10822882  0.06684909  0.73735374]\n",
            " [ 0.72364601  0.25826799 -0.66527554]\n",
            " [ 0.59830268 -0.943151   -0.37862946]\n",
            " [ 0.32039354 -1.30071696 -0.36546543]\n",
            " [-0.310481    0.21726022 -0.33060915]\n",
            " [-1.23305997 -0.71991447  2.05594996]\n",
            " [ 0.34478398 -0.08408758 -2.43803293]\n",
            " [ 1.3478922  -0.1177895  -0.46855784]\n",
            " [-1.33540887 -0.38552227 -1.53757129]\n",
            " [-1.73216597 -0.65330972  1.49689706]]\n",
            "Labels\n",
            " [[-1.10822882 -0.2221694   0.70625781]\n",
            " [ 0.72364601  0.71267067 -0.03734195]\n",
            " [ 0.59830268  0.57539667 -0.83774265]\n",
            " [ 0.32039354  0.71131628 -1.14867695]\n",
            " [-0.310481   -0.29029322 -0.26876432]\n",
            " [-1.23305997 -2.14582972  0.37499585]\n",
            " [ 0.34478398  0.54939986  2.37681196]\n",
            " [ 1.3478922  -0.31806561  0.36366892]\n",
            " [-1.33540887  0.95781737  1.26306721]\n",
            " [-1.73216597  1.37773974 -0.87712464]]\n",
            "\n",
            "Example\n",
            "input 1:  [-1.10822882  0.06684909  0.73735374]\n",
            "label 1:  [-1.10822882 -0.2221694   0.70625781]\n"
          ]
        }
      ]
    },
    {
      "cell_type": "markdown",
      "metadata": {
        "id": "6VBSRKTPZ9xo"
      },
      "source": [
        "## ANN: Feedforward Neural Network"
      ]
    },
    {
      "cell_type": "markdown",
      "metadata": {
        "id": "0XhogCm7ZNYI"
      },
      "source": [
        "### The Model\n",
        "\n",
        "We define the architecture of our network, which can be based on several hyperparameters (number of neurons, layers, activation functions...).\n",
        "\n",
        "We will consider a very simple network composed of a single hidden layer with $H$ neurons using the Relu activation function.\n",
        "\n",
        "***\n",
        "\n",
        "#### Rectified Linear Unit (ReLU)\n",
        "\n",
        "ReLU is a popular [activation function](https://en.wikipedia.org/wiki/Activation_function) that can be used while defining an artificial neuron. \n",
        "\n",
        "$\\phi(z) = max(0,z)$\n",
        "\n",
        "<img src=\"https://upload.wikimedia.org/wikipedia/commons/thumb/6/6c/Rectifier_and_softplus_functions.svg/500px-Rectifier_and_softplus_functions.svg.png\" alt=\"ReLU\" width=\"300\"/>\n",
        "\n",
        "***\n",
        "By convention, we consider inputs to be row vectors (cf. $x \\in \\mathbb{R}^{N \\times D_{in}}$). \n",
        "\n",
        "Input $i$: $x_i \\in \\mathbb{R}^{1 \\times 3}$ \n",
        "\n",
        "The predictive function $\\hat{f} :\\mathbb{R}^{3} \\rightarrow \\mathbb{R}^{3}$  (our neural network) will be:\n",
        "\n",
        "$\\hat{f}(x_i) = \\hat{y}_i = relu(x_i W_{1}) W_{2}$ \n",
        "\n",
        "with: \n",
        "* $W_{1} \\in \\mathbb{R}^{3 \\times H}$\n",
        "* $relu(z) = [max(0,z_0),max(0,z_1), ...]$  \n",
        "* $W_{2} \\in \\mathbb{R}^{H \\times 3}$\n",
        "\n",
        "**In this simple model we do not consider bias.** \n",
        "\n",
        "Note also that setting the number of neurons in this single-layer network, the predictions are deterministically determined by the weights $W_{1}$ and $W_{2}$. It means that the outputs of our model are fully determined by the weights of the network. Those are the sole parameters of our simple MLP (Multilayer Perceptron) model. \n",
        "\n",
        "Note also that we can use this network on a batch of inputs.\n",
        "with $x = [x_0, x_1, ..., x_N]^T \\in \\mathbb{R}^{N \\times 3}$.\n",
        "\n",
        "In the following we will therefore consider: \n",
        "\n",
        "$\\hat{f} :\\mathbb{R}^{N \\times 3} \\rightarrow \\mathbb{R}^{N \\times 3}$\n",
        "\n"
      ]
    },
    {
      "cell_type": "markdown",
      "metadata": {
        "id": "49J5jK5T32HG"
      },
      "source": [
        "### First implementation\n",
        "\n",
        "\n",
        "> **Exercice \"Forward pass\"**:\n",
        "> \n",
        "> The forward pass of a network is used to compute the outputs for a batch of inputs (see $\\hat{f}$ definition above).\n",
        "> \n",
        "> Considering thes simple MLP model we defined, we ask you to implement the forward pass using Numpy.\n",
        "> \n",
        "> Instructions:\n",
        "> * According to our task, both the input and the output must be in $\\mathbb{R}^{N \\times 3}$. You'll denote $D_{in}$ and $D_{out}$, respectively `D_in` and `D_out` the input and output dimensions. As we already said, we here have $D_{in}=D_{out}=3$, but we want our network to be generic so reuse existing `D_in` and `D_out` variables. \n",
        "> * Define a variable `H` to set the number of neurons; we want to be able to modify it.\n",
        "> * Initialize the weights randomly considering a standard normal distribution (mean=0, stdev=1). \n",
        "> * Decompose each step of the forward pass, i.e., do not use a fancy one-line expression. Only use Numpy functions to implement each step.\n",
        "> * Do not define a class now, just code it into a cell.\n",
        "\n",
        "\n"
      ]
    },
    {
      "cell_type": "code",
      "metadata": {
        "id": "6HDjDdAMjuIO",
        "colab": {
          "base_uri": "https://localhost:8080/"
        },
        "outputId": "d4283405-a5fb-455f-8637-0c6449531357"
      },
      "source": [
        "# YOUR TURN!\n",
        "\n",
        "def relu(z):\n",
        "  return np.maximum(0, z);\n",
        "\n",
        "N = 1000 # size of the dataset\n",
        "D_in, D_out = 3, 3 # input and output dimensions, we name them to distinguish them hereafter\n",
        "H = 10 # number of neurons\n",
        "\n",
        "x, y = get_dataset(N, D_in, D_out) # x <> R N*D_in (N lines = elements in dataset / D_in columns = entries)\n",
        "\n",
        "W1 = np.random.standard_normal((D_in,H)) # W <> R D_in*H (D_in lines = entries / H columns = neurons)\n",
        "z = np.dot(x,W1)\n",
        "z = relu(z)\n",
        "\n",
        "W2 = np.random.standard_normal((H,D_out)) # W <> R H*D_out (H lines = entries (1 for each neurons from the previous layer) / D_out columns = expected response)\n",
        "y_pred = np.dot(z,W2)\n",
        "# If you want to apply relu function on the result : \n",
        "#y_pred = relu(y_pred)\n",
        "\n",
        "print(y_pred.shape)\n",
        "print(y_pred)"
      ],
      "execution_count": null,
      "outputs": [
        {
          "output_type": "stream",
          "name": "stdout",
          "text": [
            "(1000, 3)\n",
            "[[-2.64599546 -1.70346041 -0.87333542]\n",
            " [ 0.41460598 -0.8166046   0.55247248]\n",
            " [ 2.59149368  1.86580382 -0.51907514]\n",
            " ...\n",
            " [-5.99220294 -5.39286498 -2.29919941]\n",
            " [ 2.01766761  0.77964877  0.18347276]\n",
            " [ 1.88142889 -4.58173685  2.83048545]]\n"
          ]
        }
      ]
    },
    {
      "cell_type": "markdown",
      "metadata": {
        "id": "dr0iFPdRIkwX"
      },
      "source": [
        "Obviously, the weights being randomly defined, do not expect to have good predictions at this stage. \n",
        "\n",
        "Our job will now be to define a clever procedure to train those parameters in order to obtain a good predictor. "
      ]
    },
    {
      "cell_type": "markdown",
      "metadata": {
        "id": "ibKMhFQuZlkR"
      },
      "source": [
        "## Training procedure"
      ]
    },
    {
      "cell_type": "markdown",
      "metadata": {
        "id": "JwMEDR9I3bog"
      },
      "source": [
        "\n",
        "\n",
        "### Generalities \n",
        "\n",
        "Training the network will aim at finding the $W_{1}$ and $W_{2}$ matrices in order to minimize the loss function, i.e. the function we will use to evaluate the error of our model.\n",
        "\n",
        "This error function (loss function) will be defined this way: \n",
        "\n",
        "$l(\\hat{y}, y) = \\sum_{i=0}^{N-1} \\sum_{j=0}^{D_{out}-1} (\\hat{y}_{i,j} - y_{i,j})^2$\n",
        "\n",
        "*Important*: note that loss function only makes sense in a regression setting. \n",
        "\n",
        "with $\\hat{y}, y \\in \\mathbb{R}^{N \\times D_{out}}$\n",
        "\n",
        "Processing the data, the weights will be iteratively modified in order to reduce the loss.\n",
        "\n",
        "To do so, at each iteration, we will apply two passes: \n",
        "1. Forward pass: compute the loss for the processed input (it can be a subset of the whole training set or even one input). We already know how to do that (see above).\n",
        "2. Backward pass: as we know the expected value for each input processed during the training phase, we can compute the loss for the current set of predictions. As we want to minimize that loss, we will:\n",
        "  *  Compute the partial derivative of the loss with regards to the parameters (here $W_{1}$ and $W_{2}$), also named [gradients](https://en.wikipedia.org/wiki/Gradient) and denoted in our case $\\nabla_{W_1}$ and $\\nabla_{W_2}$. Those gradients will denote the direction of greatest increase of the loss, and can therefore be used to change the parameters to influence the loss (following the opposite direction, we will be able to iteratively minimize the loss). To compute this gradient, we will simply apply the chain rule considering that all functions used in our network have a derivative (chain rule: https://en.wikipedia.org/wiki/Chain_rule) - please put aside consideration induced by the relu function for now, that's not important.\n",
        "  * Adjust the parameters ($W_{1}$ and $W_{2}$) applying an update rule based on the gradient, e.g. considering a constant pre-defined learning rate $\\eta$, this rule could be $W_1 = W_1 - \\eta \\times \\nabla_{W_1}$. This is called backpropagation. \n",
        "\n",
        "Computing the gradients is probably the most technical part, but it should not be a problem as it only requires to compute derivative.\n",
        "We provide a sketch to compute $\\nabla_{W_2}$ (using shortcut notations):\n",
        "\n",
        "\n",
        "\n",
        "$\\frac{\\partial l}{\\partial W_2} = \\frac{\\partial l}{\\partial \\hat{y}} \\frac{\\partial \\hat{y}}{\\partial W_2}$\n",
        "\n",
        "$\\frac{\\partial l}{\\partial \\hat{y}} = 2 (\\hat{y} - y)$ $\\in \\mathbb{R}^{N \\times D_{out}}$ \n",
        "\n",
        "$\\frac{\\partial \\hat{y}}{\\partial W_2} : relu(x_i W_{1})$ $\\in \\mathbb{R}^{N \\times H}$ (shortcut)\n",
        "\n",
        "$\\frac{\\partial l}{\\partial W_2} =  relu(x_i W_{1})^T \\cdot (2 (\\hat{y} - y))$ $\\in \\mathbb{R}^{H \\times D_{out}}$, recall that $W_2 \\in \\mathbb{R}^{H \\times D_{out}}$ \n",
        "\n",
        "Details on how to compute the gradient on linear models (considering multivariate calculus) are provided in that resource: https://web.eecs.umich.edu/~justincj/teaching/eecs442/notes/linear-backprop.html\n"
      ]
    },
    {
      "cell_type": "markdown",
      "metadata": {
        "id": "aKJ1GHh7ZxAz"
      },
      "source": [
        "### First implementation"
      ]
    },
    {
      "cell_type": "markdown",
      "metadata": {
        "id": "S-mcKH4xILx2"
      },
      "source": [
        "> **Exercise: Training procedure implementation**\n",
        ">\n",
        "> You can now try to implement the training procedure"
      ]
    },
    {
      "cell_type": "markdown",
      "metadata": {
        "id": "6fy1LQlt58yU"
      },
      "source": [
        "We define below our first implementation of the training procedure"
      ]
    },
    {
      "cell_type": "code",
      "metadata": {
        "id": "yXeIy6cRTf_U",
        "colab": {
          "base_uri": "https://localhost:8080/",
          "height": 296
        },
        "outputId": "b8a9dd6b-de76-41a3-e381-6c78ed8f7aaa"
      },
      "source": [
        "# YOUR TURN!\n",
        "\n",
        "import matplotlib.pyplot as plt\n",
        "\n",
        "N = 1000 # size of the dataset\n",
        "D_in, D_out = 3, 3 # input and output dimensions, we name them to distinguish them hereafter\n",
        "H = 10 # number of neurons\n",
        "J = 100 # number of iterations\n",
        "eta = 1e-5 # learning rate\n",
        "\n",
        "x, y = get_dataset(N, D_in, D_out) # x <> R N*D_in (N lines = elements in dataset / D_in columns = entries)\n",
        "\n",
        "W1 = np.random.standard_normal((D_in,H)) # W <> R D_in*H (D_in lines = entries / H columns = neurons)\n",
        "W2 = np.random.standard_normal((H,D_out)) # W <> R H*D_out (H lines = entries (1 for each neurons from the previous layer) / D_out columns = expected response)\n",
        "\n",
        "lossForEachIteration = []\n",
        "\n",
        "# ITERATIONS\n",
        "for j in range(0,J):\n",
        "\n",
        "  z = np.dot(x,W1)\n",
        "  z_relu = relu(z)\n",
        "  y_pred = np.dot(z_relu,W2)\n",
        "\n",
        "  # Compute square loss\n",
        "  squaredMatrix = np.square(y_pred - y) # Square up a matrix\n",
        "  loss = squaredMatrix.sum() # Sum of all the elements of the matrix\n",
        "\n",
        "  if j % 1000 == 0:\n",
        "    print(j, loss)\n",
        "\n",
        "  lossForEachIteration = np.append(lossForEachIteration, loss)\n",
        "\n",
        "  # Now we must modify the weights in order to reduce the loss\n",
        "  # We compute the partial derivative applying the chain rule for this\n",
        "  # Backpropagation to compute gradients of w1 and w2 with respect to loss\n",
        "  # This the most technical part \n",
        "  gradient_y_pred = 2 * (y_pred - y)\n",
        "  gradient_W2 = np.dot(z_relu.T,gradient_y_pred)\n",
        "  gradient_z_relu = np.dot(gradient_y_pred,W2.T)\n",
        "  gradient_z_relu[z < 0] = 0\n",
        "  gradient_W1 = np.dot(x.T,gradient_z_relu)\n",
        "\n",
        "  # Update weights using the gradient and the learning rate.\n",
        "  W1 -= eta * gradient_W1\n",
        "  W2 -= eta * gradient_W2\n",
        "\n",
        "plt.plot(np.arange(0,J),lossForEachIteration,color='green')\n",
        "plt.xlabel('iteration')\n",
        "plt.ylabel('loss function')\n",
        "plt.show()"
      ],
      "execution_count": null,
      "outputs": [
        {
          "output_type": "stream",
          "name": "stdout",
          "text": [
            "0 33268.76710554114\n"
          ]
        },
        {
          "output_type": "display_data",
          "data": {
            "text/plain": [
              "<Figure size 432x288 with 1 Axes>"
            ],
            "image/png": "[encoded data removed]"
          },
          "metadata": {
            "needs_background": "light"
          }
        }
      ]
    },
    {
      "cell_type": "markdown",
      "metadata": {
        "id": "lygCcZMfag7t"
      },
      "source": [
        "As we can see, it looks like our network is learning something. \n",
        "\n",
        "To be more precise, the training procedure we defined enables to iteratively minimize the loss (on the training set). "
      ]
    },
    {
      "cell_type": "markdown",
      "metadata": {
        "id": "hsKO0FaVYb2d"
      },
      "source": [
        "## Refactoring / Refinements\n",
        "\n",
        "Let's restructure the code in order to distinguish the different parts.\n",
        "Several approaches could have been chosen (and a lot of choices could be discussed and questioned in term of design, but that's not the aim of the course). "
      ]
    },
    {
      "cell_type": "markdown",
      "metadata": {
        "id": "k6JaASu8asly"
      },
      "source": [
        "### Model implementation\n",
        "\n",
        "\n",
        "> **Exercise: refactoring**\n",
        ">\n",
        "> Refactor the code. Create a class `SimpleANN` with a constructor enabling to define $D_{in}$, $D_{out}$, $H$.\n",
        ">\n",
        "> Define a `forward` method in which you'll implement the forward pass (the method returns the prediction)."
      ]
    },
    {
      "cell_type": "code",
      "metadata": {
        "id": "My7a8bXgZsxZ"
      },
      "source": [
        "# YOUR TURN!\n",
        "\n",
        "class SimpleANN:\n",
        "  \"\"\"\n",
        "    Simple single-layer artificial neural network (ANN) \n",
        "  \"\"\"\n",
        "  def __init__(self,D_in: int, D_out: int, H: int):\n",
        "    \"\"\"\n",
        "      H: number of neurons in the hidden Layer\n",
        "    \"\"\"\n",
        "    self.w1 = np.random.standard_normal((D_in,H))\n",
        "    self.w2 = np.random.standard_normal((H,D_out))\n",
        "    \n",
        "  def forward(self, x):\n",
        "    z = x.dot(self.w1)\n",
        "    z_relu = relu(z)\n",
        "    y_pred = z_relu.dot(self.w2)\n",
        "\n",
        "    return y_pred"
      ],
      "execution_count": null,
      "outputs": []
    },
    {
      "cell_type": "markdown",
      "metadata": {
        "id": "hE22BB_sa1on"
      },
      "source": [
        "### Trainer implementation"
      ]
    },
    {
      "cell_type": "code",
      "metadata": {
        "id": "VcpN30xJa2DA"
      },
      "source": [
        "# YOUR TURN!\n",
        "\n",
        "class Trainer:\n",
        "  \"\"\"\n",
        "    Simple class implementing a Trainer that will be used\n",
        "    to modify our SimpleANN parameter to minimize the loss\n",
        "  \"\"\"\n",
        "\n",
        "  def __init__(self, ann: SimpleANN, training_set):\n",
        "    self.learning_rate = 1e-6 \n",
        "    self.ann = ann\n",
        "    self.x, self.y = training_set\n",
        "\n",
        "  def compute_loss(self, y_pred, y):\n",
        "    return np.square(y_pred - y).sum()\n",
        "    \n",
        "\n",
        "  def step(self):\n",
        "    \n",
        "    y_pred = self.ann.forward(self.x)\n",
        "    loss = self.compute_loss(y_pred, self.y)\n",
        "    \n",
        "    # backward step\n",
        "    # requires some information already computed in the forward step\n",
        "    z = self.x.dot(self.ann.w1)\n",
        "    z_relu = relu(z)\n",
        "\n",
        "    gradient_y_pred = 2.0 * (y_pred - y)\n",
        "    gradient_w2 = z_relu.T.dot(gradient_y_pred)\n",
        "    gradient_z_relu = gradient_y_pred.dot(self.ann.w2.T)\n",
        "    gradient_z_relu[z < 0] = 0\n",
        "    gradient_w1 = self.x.T.dot(gradient_z_relu)\n",
        "\n",
        "    # Update weights using the gradient and the learning rate.\n",
        "    self.ann.w1 -= self.learning_rate * gradient_w1\n",
        "    self.ann.w2 -= self.learning_rate * gradient_w2\n",
        "\n",
        "    return loss\n",
        "\n",
        "  def fit(self, epoch: int, log_frequency: int):\n",
        "\n",
        "    log_loss = [] # we just log the loss\n",
        "\n",
        "    for i in range(epoch+1):\n",
        "      loss = self.step()\n",
        "      if i % log_frequency == 0:\n",
        "        print(i, loss)\n",
        "        log_loss.append((i,loss))\n",
        "    return log_loss"
      ],
      "execution_count": null,
      "outputs": []
    },
    {
      "cell_type": "markdown",
      "metadata": {
        "id": "XVNshkK9bIRN"
      },
      "source": [
        "### Training tests"
      ]
    },
    {
      "cell_type": "markdown",
      "metadata": {
        "id": "5yx5dIj1dyah"
      },
      "source": [
        "We can now easily reimplement the training loop"
      ]
    },
    {
      "cell_type": "code",
      "metadata": {
        "id": "uhGnSij8eh6Y",
        "colab": {
          "base_uri": "https://localhost:8080/",
          "height": 647
        },
        "outputId": "408d5e19-c76e-4396-9255-f9196cb7b7a1"
      },
      "source": [
        "# YOUR TURN!\n",
        "\n",
        "ann = SimpleANN(D_in=3, D_out=3, H=H)\n",
        "\n",
        "trainer = Trainer(ann, (x, y))\n",
        "log_loss = trainer.fit(epoch=20000, log_frequency=1000)\n",
        "\n",
        "# plotting\n",
        "import matplotlib.pyplot as plt\n",
        "del log_loss[0] # we remove the first loss (random weights)\n",
        "res = list(zip(*log_loss)) \n",
        "plt.plot(res[0], res[1])"
      ],
      "execution_count": null,
      "outputs": [
        {
          "output_type": "stream",
          "name": "stdout",
          "text": [
            "0 32533.56223436805\n",
            "1000 2466.951251280512\n",
            "2000 2253.9173754935587\n",
            "3000 2173.240456426336\n",
            "4000 2129.0019786058\n",
            "5000 2094.818551332386\n",
            "6000 2058.933953340004\n",
            "7000 2033.8097122412382\n",
            "8000 2011.5115826983576\n",
            "9000 1993.3791647032185\n",
            "10000 1976.9532765655454\n",
            "11000 1965.2296724797152\n",
            "12000 1957.7448418944953\n",
            "13000 1952.009751999581\n",
            "14000 1947.070129730576\n",
            "15000 1943.2394965315984\n",
            "16000 1940.1558937412633\n",
            "17000 1937.3499675518733\n",
            "18000 1934.3476602303076\n",
            "19000 1931.6252054041106\n",
            "20000 1929.410893219401\n"
          ]
        },
        {
          "output_type": "execute_result",
          "data": {
            "text/plain": [
              "[<matplotlib.lines.Line2D at 0x7f3b904062d0>]"
            ]
          },
          "metadata": {},
          "execution_count": 18
        },
        {
          "output_type": "display_data",
          "data": {
            "text/plain": [
              "<Figure size 432x288 with 1 Axes>"
            ],
            "image/png": "[encoded data removed]"
          },
          "metadata": {
            "needs_background": "light"
          }
        }
      ]
    },
    {
      "cell_type": "markdown",
      "metadata": {
        "id": "2ztMH5bKhFD7"
      },
      "source": [
        "Let's see how our neural network performes on unseen data : the only things that matters for us.\n",
        "\n",
        "To do so we will generate another set of labelled data not used during training."
      ]
    },
    {
      "cell_type": "code",
      "metadata": {
        "id": "M44TaRIAhcFa",
        "colab": {
          "base_uri": "https://localhost:8080/"
        },
        "outputId": "76b9cd5e-9186-4da4-859e-8184bdf6c96c"
      },
      "source": [
        "# YOUR TURN!\n",
        "\n",
        "# recall the loss we finally obtained after the training phase \n",
        "y_pred = ann.forward(x)\n",
        "training_loss = trainer.compute_loss(y_pred, y)\n",
        "\n",
        "# Let's now generate a test set (data not used during training)\n",
        "x_test, y_test = get_dataset(N, D_in, D_out)\n",
        "\n",
        "y_pred_test = ann.forward(x_test)\n",
        "test_loss = trainer.compute_loss(y_pred_test, y_test)\n",
        "\n",
        "# due to the way the loss has been defined the two sets must have the same size\n",
        "# in order for us to compare the loss\n",
        "assert x.shape[0] == x_test.shape[0]\n",
        "\n",
        "print(\"training loss: \", training_loss)\n",
        "print(\"test loss    : \", test_loss)\n",
        "print(\"diff         : \", abs(training_loss - test_loss))"
      ],
      "execution_count": null,
      "outputs": [
        {
          "output_type": "stream",
          "name": "stdout",
          "text": [
            "training loss:  1929.4086458487739\n",
            "test loss    :  2104.621767102415\n",
            "diff         :  175.21312125364125\n"
          ]
        }
      ]
    },
    {
      "cell_type": "markdown",
      "metadata": {
        "id": "pEiz3jeXbYbC"
      },
      "source": [
        "Well... even if results may vary from run to run, it looks like our neural network is pretty good on the training set but fails to perform similarly on the test set... we don't like this at all.\n",
        "We are maybe overfitting, i.e. memorizing the training set. "
      ]
    },
    {
      "cell_type": "markdown",
      "metadata": {
        "id": "KQDBBcTIjwil"
      },
      "source": [
        "### Train, Validation, Test \n",
        "\n",
        "\n",
        "\n",
        "To monitor, and eventually overcome this, we will split our initial labelled dataset into 3 parts: \n",
        "* training set: the data we will use to update the weights of our network\n",
        "* validation set: the data we will use to monitor that we are not overfitting the training set during training\n",
        "* test set: the data we will use to evaluate our trained ANN on data not used during the training phase\n",
        "\n",
        "We will monitor our loss on the validation set during training and stop when the difference between our training and validation losses stresses overfitting.\n",
        "\n",
        "We will modify our trainer to accept a validation set. "
      ]
    },
    {
      "cell_type": "code",
      "metadata": {
        "id": "KARuLVwdnolx"
      },
      "source": [
        "# YOUR TURN!\n",
        "\n",
        "class TrainerAdvanced(Trainer):\n",
        "  \"\"\"\n",
        "    Simple Trainer with validation\n",
        "  \"\"\"\n",
        "\n",
        "  def __init__(self, ann: SimpleANN, training_set, validation_set):\n",
        "    Trainer.__init__(self, ann, training_set)\n",
        "    self.x_val, self.y_val = validation_set\n",
        "    \n",
        "  def fit(self, epoch: int, log_frequency: int):\n",
        "\n",
        "    log_loss = [] # we just log the losses\n",
        "\n",
        "    for i in range(epoch+1):\n",
        "      \n",
        "      loss_train = self.step()\n",
        "\n",
        "      if i % log_frequency == 0:\n",
        "\n",
        "        # validation part\n",
        "        y_pred_val = self.ann.forward(self.x_val)\n",
        "        loss_val = self.compute_loss(y_pred_val, self.y_val)\n",
        "\n",
        "        log_loss.append((i, loss_train, loss_val))\n",
        "        loss_train_evol = 0 if len(log_loss) == 1 else loss_train - log_loss[len(log_loss)-2][1]\n",
        "        loss_val_evol = 0 if len(log_loss) == 1 else loss_val - log_loss[len(log_loss)-2][2]\n",
        "        \n",
        "        print(\"{} train: {:.2f}   valid: {:.2f}   diff: {:.2f}   loss train ev.: {:.2f}   loss val ev.: {:.2f}\".format(i, loss_train, loss_val, loss_train - loss_val, loss_train_evol, loss_val_evol))\n",
        "    return log_loss "
      ],
      "execution_count": null,
      "outputs": []
    },
    {
      "cell_type": "markdown",
      "metadata": {
        "id": "vmU7f4IZpDS3"
      },
      "source": [
        "Let's train our model using that new Trainer.\n",
        "\n",
        "Note that we already have a training set, and test set. \n",
        "We will only create a validation. \n",
        "Generally you'll have to split an initial dataset to obtain those sets."
      ]
    },
    {
      "cell_type": "code",
      "metadata": {
        "id": "rZlHVXcFpIeC",
        "colab": {
          "base_uri": "https://localhost:8080/",
          "height": 1000
        },
        "outputId": "ffb6dcac-6efb-4866-a2f2-dfefa9a52b9d"
      },
      "source": [
        "# YOUR TURN!\n",
        "\n",
        "# we use the network already trained above\n",
        "#ann = SimpleANN(D_in=3, D_out=3, H=H)\n",
        "\n",
        "x_val, y_val = get_dataset(N, D_in, D_out)\n",
        "\n",
        "assert x.shape[0] == x_val.shape[0]\n",
        "\n",
        "trainer = TrainerAdvanced(ann, (x, y), (x_val, y_val))\n",
        "log_loss = trainer.fit(epoch=50000, log_frequency=1000)\n",
        "\n",
        "import matplotlib.pyplot as plt\n",
        "def plot_losses(log_losses):\n",
        "  # del log_loss[0] # remove the first loss if you train a new network\n",
        "  res = list(zip(*log_loss)) \n",
        "  plt.plot(res[0], res[1])\n",
        "  plt.show()\n",
        "  plt.plot(res[0], res[2])\n",
        "\n",
        "plot_losses(log_loss)"
      ],
      "execution_count": null,
      "outputs": [
        {
          "output_type": "stream",
          "name": "stdout",
          "text": [
            "0 train: 1929.41   valid: 2101.63   diff: -172.22   loss train ev.: 0.00   loss val ev.: 0.00\n",
            "1000 train: 1927.29   valid: 2100.31   diff: -173.02   loss train ev.: -2.12   loss val ev.: -1.32\n",
            "2000 train: 1925.49   valid: 2099.08   diff: -173.59   loss train ev.: -1.80   loss val ev.: -1.23\n",
            "3000 train: 1923.88   valid: 2098.08   diff: -174.20   loss train ev.: -1.61   loss val ev.: -1.00\n",
            "4000 train: 1922.43   valid: 2097.40   diff: -174.96   loss train ev.: -1.45   loss val ev.: -0.69\n",
            "5000 train: 1921.44   valid: 2096.77   diff: -175.33   loss train ev.: -1.00   loss val ev.: -0.63\n",
            "6000 train: 1920.58   valid: 2096.51   diff: -175.93   loss train ev.: -0.86   loss val ev.: -0.26\n",
            "7000 train: 1919.86   valid: 2096.43   diff: -176.57   loss train ev.: -0.72   loss val ev.: -0.08\n",
            "8000 train: 1919.30   valid: 2096.50   diff: -177.20   loss train ev.: -0.56   loss val ev.: 0.07\n",
            "9000 train: 1918.81   valid: 2096.60   diff: -177.80   loss train ev.: -0.49   loss val ev.: 0.10\n",
            "10000 train: 1918.39   valid: 2096.69   diff: -178.29   loss train ev.: -0.41   loss val ev.: 0.09\n",
            "11000 train: 1918.06   valid: 2096.71   diff: -178.65   loss train ev.: -0.33   loss val ev.: 0.02\n",
            "12000 train: 1917.74   valid: 2097.03   diff: -179.29   loss train ev.: -0.33   loss val ev.: 0.32\n",
            "13000 train: 1917.43   valid: 2097.38   diff: -179.96   loss train ev.: -0.31   loss val ev.: 0.35\n",
            "14000 train: 1917.18   valid: 2097.46   diff: -180.28   loss train ev.: -0.24   loss val ev.: 0.08\n",
            "15000 train: 1916.96   valid: 2097.58   diff: -180.61   loss train ev.: -0.22   loss val ev.: 0.12\n",
            "16000 train: 1916.74   valid: 2097.86   diff: -181.12   loss train ev.: -0.22   loss val ev.: 0.28\n",
            "17000 train: 1916.53   valid: 2098.08   diff: -181.55   loss train ev.: -0.21   loss val ev.: 0.22\n",
            "18000 train: 1916.23   valid: 2098.23   diff: -182.00   loss train ev.: -0.31   loss val ev.: 0.15\n",
            "19000 train: 1915.93   valid: 2098.31   diff: -182.39   loss train ev.: -0.30   loss val ev.: 0.08\n",
            "20000 train: 1915.68   valid: 2098.33   diff: -182.65   loss train ev.: -0.25   loss val ev.: 0.02\n",
            "21000 train: 1915.47   valid: 2098.59   diff: -183.12   loss train ev.: -0.21   loss val ev.: 0.26\n",
            "22000 train: 1915.30   valid: 2098.96   diff: -183.66   loss train ev.: -0.17   loss val ev.: 0.37\n",
            "23000 train: 1915.16   valid: 2099.11   diff: -183.95   loss train ev.: -0.14   loss val ev.: 0.15\n",
            "24000 train: 1915.00   valid: 2099.43   diff: -184.42   loss train ev.: -0.16   loss val ev.: 0.32\n",
            "25000 train: 1914.79   valid: 2100.22   diff: -185.42   loss train ev.: -0.21   loss val ev.: 0.79\n",
            "26000 train: 1914.61   valid: 2100.85   diff: -186.24   loss train ev.: -0.19   loss val ev.: 0.63\n",
            "27000 train: 1914.39   valid: 2101.62   diff: -187.24   loss train ev.: -0.22   loss val ev.: 0.78\n",
            "28000 train: 1914.25   valid: 2101.70   diff: -187.45   loss train ev.: -0.14   loss val ev.: 0.07\n",
            "29000 train: 1914.11   valid: 2101.80   diff: -187.68   loss train ev.: -0.13   loss val ev.: 0.10\n",
            "30000 train: 1913.96   valid: 2102.06   diff: -188.10   loss train ev.: -0.15   loss val ev.: 0.27\n",
            "31000 train: 1913.82   valid: 2102.22   diff: -188.40   loss train ev.: -0.14   loss val ev.: 0.16\n",
            "32000 train: 1913.68   valid: 2102.29   diff: -188.60   loss train ev.: -0.13   loss val ev.: 0.07\n",
            "33000 train: 1913.55   valid: 2102.32   diff: -188.77   loss train ev.: -0.13   loss val ev.: 0.04\n",
            "34000 train: 1913.42   valid: 2102.34   diff: -188.92   loss train ev.: -0.13   loss val ev.: 0.01\n",
            "35000 train: 1913.29   valid: 2102.34   diff: -189.06   loss train ev.: -0.13   loss val ev.: 0.01\n",
            "36000 train: 1913.16   valid: 2102.22   diff: -189.06   loss train ev.: -0.12   loss val ev.: -0.12\n",
            "37000 train: 1913.04   valid: 2102.02   diff: -188.98   loss train ev.: -0.12   loss val ev.: -0.20\n",
            "38000 train: 1912.93   valid: 2101.73   diff: -188.80   loss train ev.: -0.11   loss val ev.: -0.29\n",
            "39000 train: 1912.82   valid: 2101.48   diff: -188.67   loss train ev.: -0.11   loss val ev.: -0.25\n",
            "40000 train: 1912.71   valid: 2101.31   diff: -188.61   loss train ev.: -0.11   loss val ev.: -0.17\n",
            "41000 train: 1912.60   valid: 2101.17   diff: -188.57   loss train ev.: -0.11   loss val ev.: -0.14\n",
            "42000 train: 1912.49   valid: 2101.05   diff: -188.56   loss train ev.: -0.10   loss val ev.: -0.12\n",
            "43000 train: 1912.39   valid: 2100.91   diff: -188.52   loss train ev.: -0.10   loss val ev.: -0.15\n",
            "44000 train: 1912.29   valid: 2100.79   diff: -188.50   loss train ev.: -0.10   loss val ev.: -0.12\n",
            "45000 train: 1912.20   valid: 2100.69   diff: -188.49   loss train ev.: -0.10   loss val ev.: -0.10\n",
            "46000 train: 1912.10   valid: 2100.60   diff: -188.49   loss train ev.: -0.09   loss val ev.: -0.09\n",
            "47000 train: 1912.01   valid: 2100.52   diff: -188.51   loss train ev.: -0.09   loss val ev.: -0.08\n",
            "48000 train: 1911.92   valid: 2100.41   diff: -188.49   loss train ev.: -0.09   loss val ev.: -0.11\n",
            "49000 train: 1911.84   valid: 2100.32   diff: -188.48   loss train ev.: -0.09   loss val ev.: -0.09\n",
            "50000 train: 1911.75   valid: 2100.24   diff: -188.48   loss train ev.: -0.08   loss val ev.: -0.08\n"
          ]
        },
        {
          "output_type": "display_data",
          "data": {
            "text/plain": [
              "<Figure size 432x288 with 1 Axes>"
            ],
            "image/png": "[encoded data removed]"
          },
          "metadata": {
            "needs_background": "light"
          }
        },
        {
          "output_type": "display_data",
          "data": {
            "text/plain": [
              "<Figure size 432x288 with 1 Axes>"
            ],
            "image/png": "[encoded data removed]"
          },
          "metadata": {
            "needs_background": "light"
          }
        }
      ]
    },
    {
      "cell_type": "markdown",
      "metadata": {
        "id": "pqjSC9Ndqoot"
      },
      "source": [
        "It looks like we indeed obtain a better loss on the training set compared to the one obtained on the validation set. \n",
        "\n",
        "But we are still reducing the validation loss during training (which means we are not overfitting per se).\n",
        "\n",
        "Let's continue training."
      ]
    },
    {
      "cell_type": "code",
      "metadata": {
        "id": "qOr802U2q8Nl"
      },
      "source": [
        "log_loss = trainer.fit(epoch=100000, log_frequency=5000)\n",
        "plot_losses(log_loss)"
      ],
      "execution_count": null,
      "outputs": []
    },
    {
      "cell_type": "markdown",
      "metadata": {
        "id": "vFxSjrtOJIxd"
      },
      "source": [
        "[Optional] Execute the code below to plot the full evolution of the losses training a new network from scratch"
      ]
    },
    {
      "cell_type": "code",
      "metadata": {
        "id": "n-1Y8_vUJOhe"
      },
      "source": [
        "ann = SimpleANN(D_in=3, D_out=3, H=H)\n",
        "trainer = TrainerAdvanced(ann, (x, y), (x_val, y_val))\n",
        "log_loss = trainer.fit(epoch=100000, log_frequency=1000)\n",
        "\n",
        "del log_loss[0]\n",
        "plot_losses(log_loss)"
      ],
      "execution_count": null,
      "outputs": []
    },
    {
      "cell_type": "markdown",
      "metadata": {
        "id": "UdUBr3fJboZL"
      },
      "source": [
        "## Takeaway\n",
        "\n",
        "You've implemented your first ANN. \n",
        "\n",
        "Ok it was a quite simple ANN, but you can still be proud of you!\n",
        "\n",
        "We will now try to extract the main notions you're supposed to grasp having endured that adventure. \n",
        "\n",
        "**A task-dependent ANN model with specific design choices**\n",
        "\n",
        "The architecture of our ANN has been defined based on the task we were adressing. Recall that in our case we were dealing with a specific regression task in which our predictior (ANN) was of the form: $\\hat{f}: \\mathbb{R}^3 \\rightarrow \\mathbb{R}^3$. Always keep in mind what's your goal: given the (x,y,z) 3D coordinates of an object at time $t$, we were asked to predict the location of the object in that same space at time $t+1$.\n",
        "\n",
        "Hence, even if we tried to be as generic as possible, e.g. introducing $D_{in}$ and $D_{out}$ to refer to the input, and output sizes, those values, among others, had to be defined to even think about effectively using the ANN, i.e. to make predictions. This was required to process a given input and produce an output because the shapes of $ W_1 $ and $ W_2 $ were also dependent of these values.\n",
        "\n",
        "In our case we defined $D_{in} = D_{out} = 3$ because of the task we were dealing with ($\\hat{f}: \\mathbb{R}^3 \\rightarrow \\mathbb{R}^3$). Dealing with another task, e.g. classification task, and/or the need to process other types of inputs, or to produce other outputs would require us to make potentially important modifications to our network. This has to be very clear to you.\n",
        "\n",
        "Designing our network, we also arbitrarily defined several things related to its architecture : we chose to only use a single hidden layer, with a specific number of neurons ($H$), that were characterized by a similar activation function (ReLU). The type of ANN we finally defined is called a [feedforward neural network](https://en.wikipedia.org/wiki/Feedforward_neural_network) (no cycles in the flow of information).\n",
        "\n",
        "All these design choices could have been different. We could have changed the number of neurons, the number of layers, the activation function, even the connexions between neurons. Once again, those choices had to be defined in order to obtain a usable network, as they define the way the output will be computed from an input. \n",
        "\n",
        "Expert in machine learning and deep learning knowing the litterature generally have an idea of what types of networks are more susceptible to work dealing with a specific task. They also know how to apply well-defined procedures to train various models and compare their results in a meaningfull way, which is always mandatory in the end to train and obtain a new network trained for a specific task on new data.\n",
        "\n",
        "We therefore distinguish: \n",
        "* Type of networks: feedforward, recurrent...\n",
        "* hyperparameters: number of layers, neurons, types of activation function...\n",
        "* parameters: weights (and bias) of the network that are effectively trainable (values stored in $W_1$ and $W_2$ in our case).  \n",
        "\n",
        "The architecture of the network and the hyperparameters define the way the function mapping the input to the output is constrained (it defines a set of functions). \n",
        "\n",
        "The parameters are implicitly defined by the design of the network, e.g. in our simple network, the hyperparameters $D_{in}$, $D_{out}$ and $H$ are defining the shapes of the matrices $W_1$ and $W_2$ storing the networks' parameters. \n",
        "\n",
        "Once fixed, i.e. assigned to a specific value, the parameters finally fully define the predictor, the function $\\hat{f}$ we will be able to use to map an input to an output.     \n",
        "\n",
        "**The general training procedure is not tight to a specific ANN or Task**\n",
        "\n",
        "The training procedure has been used to find the good values of the parameters with regard to a specific objective we defined. \n",
        "\n",
        "The objective we considered is the minimization of a loss function (it get more complex when we distinguish training, validation and test losses but don't get lost, what we wanted was to minimize a loss considering specific constraints). \n",
        "\n",
        "Recall, the training procedure we used. \n",
        "It worked iteratively as follows: \n",
        "\n",
        "* We iterate several times on the training data (eventually processing splits):\n",
        "  1. Forward pass: The predictor is used to makes predictions on the given inputs.\n",
        "  2. Backward pass: \n",
        "    * We compute the training loss comparing expected values and predictions\n",
        "    * We compute the gradient of the loss function with respect to the parameters of the ANN.\n",
        "    * We modify the parameters using the gradient.  \n",
        "  3. We evaluate a stopping criterion (e.g. based on the loss on a validation set)\n",
        "\n",
        "Obviously, this is a general sketch and each step contains technical aspects. However, the procedure is fully generic considering that: \n",
        "* the ANN is given \n",
        "* the loss is defined\n",
        "* we can compute the gradient of the loss function with respect to the parameters of the ANN (which was in the end the only technical part we had to deal with)\n",
        "\n",
        "\n",
        "Now, read carefully, let's imagine a world where, considering a loss and a set of labeled inputs, computing the gradient of the loss function with respect to the parameters of an ANN would be as easy as calling a function once the forward pass of the ANN is defined. Read again. \n",
        "\n",
        "AS we will see in the nex session, this world exists, it's yours! \n"
      ]
    },
    {
      "cell_type": "markdown",
      "metadata": {
        "id": "w7vgU9gm18rG"
      },
      "source": [
        "> **Exercise \"Explain me what's an ANN.\"**\n",
        ">\n",
        "> Developing ANNs in the following sessions will require you to master the basic concepts. Take a sheet of paper. \n",
        ">  \n",
        "> Considering a supervised setting:\n",
        "> * Introduce what's an ANN; distinguish the main components, illustrate and formalize them.\n",
        "> * Explain how to train an ANN considering a specific dataset.  \n",
        "> * Express an illustration of simple network using Linear Algebra notations we used in the course (it will be important for you to understand this for the next sessions). \n",
        "> "
      ]
    },
    {
      "cell_type": "markdown",
      "metadata": {
        "id": "6IOKJZ6bwSVt"
      },
      "source": [
        "## Resources \n",
        "* [Machine learning](https://en.wikipedia.org/wiki/Machine_learning)\n",
        "* [Supervised learning](https://en.wikipedia.org/wiki/Supervised_learning)\n",
        "* [Feedforward neural networks](https://en.wikipedia.org/wiki/Feedforward_neural_network)\n",
        "* [Backpropagation](https://en.wikipedia.org/wiki/Backpropagation)\n",
        "* [Chain rule](https://en.wikipedia.org/wiki/Chain_rule)\n",
        "\n",
        "\n",
        "********"
      ]
    }
  ]
}