{
  "nbformat": 4,
  "nbformat_minor": 0,
  "metadata": {
    "colab": {
      "provenance": [],
      "collapsed_sections": [],
      "include_colab_link": true
    },
    "kernelspec": {
      "name": "python3",
      "display_name": "Python 3"
    }
  },
  "cells": [
    {
      "cell_type": "markdown",
      "metadata": {
        "id": "view-in-github",
        "colab_type": "text"
      },
      "source": [
        "<a href=\"https://colab.research.google.com/github/KontainPluton/TPs_Artificial_Neural_Network/blob/main/%5BTP_0%5D_%5BCorrection%5D_My_first_Neural_Network_in_Numpy.ipynb\" target=\"_parent\"><img src=\"https://colab.research.google.com/assets/colab-badge.svg\" alt=\"Open In Colab\"/></a>"
      ]
    },
    {
      "cell_type": "markdown",
      "metadata": {
        "id": "OUqc1_wsWsWi"
      },
      "source": [
        "# My First Artificial Neural Network\n",
        "\n",
        "**Objective** The goal of this practical session is to implement a simple but fully functional artificial neural network (ANN). It will probably be a first for you so be excited! This session will also be the opportunity to recall some important notions related to Machine Learning. \n",
        "\n",
        "**Prerequisites**: introductory level in machine learning, basics of calculus and linear algebra, a first quick introduction to ANNs, basic Python skills, and well, as usual, motivation!\n",
        "\n",
        "**Estimated time**: 3 hours (generous)\n",
        "\n",
        "****"
      ]
    },
    {
      "cell_type": "markdown",
      "metadata": {
        "id": "K4rVbB4mTpNa"
      },
      "source": [
        "\n",
        "\n",
        "## Introduction to the session\n",
        "\n",
        "You'll be asked to implement several *tricky* details by hand. \n",
        "It will (i) force you to deeply understand the basics of neural neworks, and (ii) help you to fully understand what's happening under the hood when you'll be using high-level frameworks such as TensorFlow or PyTorch. \n",
        "\n",
        "*Important*: please, don't give up if you find it hard at first, we can ensure you that you've the skills and adapted background to achieve this (easily). Take your time, find your pace, try to fully understand what we are doing at each step.\n",
        "\n",
        "As we will see later introducing PyTorch (a framework commonly used to implement ANN you're not supposed to know yet), the development process of our ANNs will be highly simplified. But for now, we will only use the Numpy library to implement the neural network.\n",
        "\n",
        "*NumPy is a library for the Python programming language, adding support for large, multi-dimensional arrays and matrices, along with a large collection of high-level mathematical functions to operate on these arrays.* https://numpy.org/. It is not a prerequesite to master Numpy to understand the content of this session. The duration of this session has been defined to allow you to spend extra time learning about tools or concepts that we will use, so do not hesite to find extra resources to learn about Numpy for instance. \n",
        "\n",
        "This tutorial is based on https://pytorch.org/tutorials/beginner/pytorch_with_examples.html. Several modifications have been made, and extra content added to match, as much as possible, with the content given in this course and your background. \n",
        "\n",
        "Recall the terminology:\n",
        "* supervised machine learning: the setting we will consider in which we do have a set of pairs of the form (input, label), e.g. in a binary classification task related to cancerous tumor detection in image we would have a set of pairs (image, boolean value).\n",
        "* training set: labeled inputs we will use to train our network. \n",
        "* batch: group of input values processed in a iteration. \n",
        "\n",
        "Our aim is to obtain a predictive model, here a neural network, able to perform good predictions while used in production. It is important to stress that we don't only want our model to be good on the training set (that would be memorizing); we want our model to provide good predictions on unseen input values too. Our model should therefore generalize well.  \n",
        "\n",
        "The flow of this session will be the following: \n",
        "1. We will define a neural network architecture in accordance with the input data we will have to deal with. Several design choices will be defined arbitrarily at this step.\n",
        "\n",
        "2. We will define the training procedure that will be used to train the parameters of the networks using training data. You should already be familiar with the training objective classically considered in a supervised setting (i.e. minimizing a loss function; if it's not the case do not hesitate to go back to our introductory course about linear models).\n"
      ]
    },
    {
      "cell_type": "markdown",
      "metadata": {
        "id": "axdQtlZBZSd9"
      },
      "source": [
        "## Context : Supervised setting, Regression\n",
        "\n",
        "First we will define the context we will consider.\n",
        "\n",
        "We will place ourself in a regression setting in which we want a predictor $\\hat{f} :\\mathbb{R}^{3} \\rightarrow \\mathbb{R}^{3}$.\n",
        "\n",
        "For this illustration we will consider that we have the (x,y,z) coordinates of an object at time $t$ and that we want to predict its coordinates at time $t+1$, not knowing the dynamics of the underlying system (i.e. how the objects move in the corresponding 3D space). \n",
        "\n",
        "Our model should therefore be able to take inputs of the form $x_i \\in \\mathbb{R}^{3}$ and to produce outputs $\\hat{y}_i \\in \\mathbb{R}^{3}$ such that $\\hat{y}_i \\approx y_i$. Note that we distinguish the expected output (i.e. label) for $x_i$, denoted $y_i$, from the prediction of our network denoted $\\hat{y}_i$.\n",
        "\n",
        "For pedagological reasons, we will arbitrarily and explicitly define the function ($f :\\mathbb{R}^{3} \\rightarrow \\mathbb{R}^{3}$) we would like to approximate or find using our network. This function will be used to generate the datasets we will use. It is however important for you to understand that you'll never have access to that function in practice; you'll be only given the training set. "
      ]
    },
    {
      "cell_type": "code",
      "metadata": {
        "id": "HAmC2iond5f4",
        "colab": {
          "base_uri": "https://localhost:8080/"
        },
        "outputId": "0730aaa9-a0c6-4ee1-999e-dc4c9d737bfb"
      },
      "source": [
        "# -*- coding: utf-8 -*-\n",
        "import numpy as np\n",
        "\n",
        "theta = 45\n",
        "\n",
        "# our labeling function\n",
        "def x_axis_theta_rotation(p):\n",
        "  \"\"\" return new (x,y,z) coordinates of the point after a theta-based rotation along the x-axis\n",
        "      Note: understanding this function is not important. \n",
        "      We could also add a random noise\n",
        "  \"\"\"\n",
        "  return np.array([\n",
        "    p[0],\n",
        "    p[1]*np.cos(p[0] * theta) - p[2]*np.sin(p[0] * theta),\n",
        "    p[1]*np.sin(p[0] * theta) + p[2]*np.cos(p[0] * theta)\n",
        "  ])\n",
        "\n",
        "# Generate a label example\n",
        "x_1 = np.random.randn(3)\n",
        "y_1 = x_axis_theta_rotation(x_1)\n",
        "\n",
        "print(\"Input data example\")\n",
        "print(\"x_1\", x_1)\n",
        "print(\"y_1\", y_1)\n"
      ],
      "execution_count": null,
      "outputs": [
        {
          "output_type": "stream",
          "name": "stdout",
          "text": [
            "Input data example\n",
            "x_1 [-0.04206983  1.36035977  1.15684208]\n",
            "y_1 [-0.04206983  0.66630688 -1.6567732 ]\n"
          ]
        }
      ]
    },
    {
      "cell_type": "markdown",
      "metadata": {
        "id": "pbWH835ZcjvE"
      },
      "source": [
        "We will have several observations of this form. \n",
        "Let's say we have *N* observations."
      ]
    },
    {
      "cell_type": "code",
      "metadata": {
        "id": "gZGuS3Gfc1c3",
        "colab": {
          "base_uri": "https://localhost:8080/"
        },
        "outputId": "350c317a-a7e6-47ef-dc3c-e7f726e58525"
      },
      "source": [
        "def get_dataset(N, D_in, D_out):\n",
        "\n",
        "  \"\"\"Create N random input and associated label\"\"\"\n",
        "  x = np.random.randn(N, D_in)\n",
        "  y = np.array([x_axis_theta_rotation(xi) for xi in x]) \n",
        "\n",
        "  return (x,y)\n",
        "\n",
        "N = 1000 # size of the dataset\n",
        "D_in, D_out = 3, 3 # input and output dimensions, we name them to distinguish them hereafter\n",
        "\n",
        "x, y = get_dataset(N, D_in, D_out)\n",
        "\n",
        "print(x.shape)\n",
        "\n",
        "print(\"Data (first 10 elements)\")\n",
        "print(\"Inputs\\n\", x[:10,:])\n",
        "print(\"Labels\\n\", y[:10,:])\n",
        "\n",
        "print(\"\\nExample\")\n",
        "print(\"input 1: \", x[0])\n",
        "print(\"label 1: \", y[0])"
      ],
      "execution_count": null,
      "outputs": [
        {
          "output_type": "stream",
          "name": "stdout",
          "text": [
            "(1000, 3)\n",
            "Data (first 10 elements)\n",
            "Inputs\n",
            " [[ 0.83660813 -0.75502176 -0.02637678]\n",
            " [ 0.43030038  0.39184673  0.8951992 ]\n",
            " [ 0.95516816  1.32740273  0.24174659]\n",
            " [ 0.10547491 -1.27649693 -1.30076677]\n",
            " [-1.20371672  0.60288311 -2.85060821]\n",
            " [-0.37681799 -0.6801406   0.35322583]\n",
            " [ 0.57622441  1.30717166 -0.37635053]\n",
            " [-0.34118747  0.20217514  0.74628517]\n",
            " [ 0.08180843 -0.41013262  0.30714138]\n",
            " [-0.82829617 -0.21922001 -0.29760473]]\n",
            "Labels\n",
            " [[ 0.83660813 -0.75537543  0.01271045]\n",
            " [ 0.43030038 -0.09888556  0.97218677]\n",
            " [ 0.95516816  0.92088798 -0.98610585]\n",
            " [ 0.10547491 -1.34338508  1.23156613]\n",
            " [-1.20371672  1.5272942   2.48129152]\n",
            " [-0.37681799 -0.11986905 -0.75696178]\n",
            " [ 0.57622441  1.18247376  0.67237883]\n",
            " [-0.34118747  0.06946861 -0.77005874]\n",
            " [ 0.08180843  0.50967552 -0.0526826 ]\n",
            " [-0.82829617 -0.07672578 -0.36157868]]\n",
            "\n",
            "Example\n",
            "input 1:  [ 0.83660813 -0.75502176 -0.02637678]\n",
            "label 1:  [ 0.83660813 -0.75537543  0.01271045]\n"
          ]
        }
      ]
    },
    {
      "cell_type": "markdown",
      "metadata": {
        "id": "6VBSRKTPZ9xo"
      },
      "source": [
        "## ANN: Feedforward Neural Network"
      ]
    },
    {
      "cell_type": "markdown",
      "metadata": {
        "id": "0XhogCm7ZNYI"
      },
      "source": [
        "### The Model\n",
        "\n",
        "We define the architecture of our network, which can be based on several hyperparameters (number of neurons, layers, activation functions...).\n",
        "\n",
        "We will consider a very simple network composed of a single hidden layer with $H$ neurons using the Relu activation function.\n",
        "\n",
        "***\n",
        "\n",
        "#### Rectified Linear Unit (ReLU)\n",
        "\n",
        "ReLU is a popular [activation function](https://en.wikipedia.org/wiki/Activation_function) that can be used while defining an artificial neuron. \n",
        "\n",
        "$\\phi(z) = max(0,z)$\n",
        "\n",
        "<img src=\"https://upload.wikimedia.org/wikipedia/commons/thumb/6/6c/Rectifier_and_softplus_functions.svg/500px-Rectifier_and_softplus_functions.svg.png\" alt=\"ReLU\" width=\"300\"/>\n",
        "\n",
        "***\n",
        "By convention, we consider inputs to be row vectors (cf. $x \\in \\mathbb{R}^{N \\times D_{in}}$). \n",
        "\n",
        "Input $i$: $x_i \\in \\mathbb{R}^{1 \\times 3}$ \n",
        "\n",
        "The predictive function $\\hat{f} :\\mathbb{R}^{3} \\rightarrow \\mathbb{R}^{3}$  (our neural network) will be:\n",
        "\n",
        "$\\hat{f}(x_i) = \\hat{y}_i = relu(x_i W_{1}) W_{2}$ \n",
        "\n",
        "with: \n",
        "* $W_{1} \\in \\mathbb{R}^{3 \\times H}$\n",
        "* $relu(z) = [max(0,z_0),max(0,z_1), ...]$  \n",
        "* $W_{2} \\in \\mathbb{R}^{H \\times 3}$\n",
        "\n",
        "In this simple model we do not consider bias. \n",
        "\n",
        "Note also that setting the number of neurons in this single-layer network, the predictions are deterministically determined by the weights $W_{1}$ and $W_{2}$. It means that the outputs of our model are fully determined by the weights of the network. Those are the sole parameters of our simple MLP (Multilayer Perceptron) model. \n",
        "\n",
        "Note also that we can use this network on a batch of inputs.\n",
        "with $x = [x_0, x_1, ..., x_N]^T \\in \\mathbb{R}^{N \\times 3}$.\n",
        "\n",
        "In the following we will therefore consider: \n",
        "\n",
        "$\\hat{f} :\\mathbb{R}^{N \\times 3} \\rightarrow \\mathbb{R}^{N \\times 3}$\n",
        "\n"
      ]
    },
    {
      "cell_type": "markdown",
      "metadata": {
        "id": "49J5jK5T32HG"
      },
      "source": [
        "### First implementation\n",
        "\n",
        "\n",
        "> **Exercice \"Forward pass\"**:\n",
        "> \n",
        "> The forward pass of a network is used to compute the outputs for a batch of inputs (see $\\hat{f}$ definition above).\n",
        "> \n",
        "> Considering thes simple MLP model we defined, we ask you to implement the forward pass using Numpy.\n",
        "> \n",
        "> Instructions:\n",
        "> * According to our task, both the input and the output must be in $\\mathbb{R}^{N \\times 3}$. You'll denote $D_{in}$ and $D_{out}$, respectively `D_in` and `D_out` the input and output dimensions. As we already said, we here have $D_{in}=D_{out}=3$, but we want our network to be generic so reuse existing `D_in` and `D_out` variables. \n",
        "> * Define a variable `H` to set the number of neurons; we want to be able to modify it.\n",
        "> * Initialize the weights randomly considering a standard normal distribution (mean=0, stdev=1). \n",
        "> * Decompose each step of the forward pass, i.e., do not use a fancy one-line expression. Only use Numpy functions to implement each step.\n",
        "> * Do not define a class now, just code it into a cell.\n",
        "\n",
        "\n"
      ]
    },
    {
      "cell_type": "code",
      "metadata": {
        "id": "6HDjDdAMjuIO",
        "colab": {
          "base_uri": "https://localhost:8080/"
        },
        "outputId": "ec062476-940e-43fe-ad36-56ef18b3cab6"
      },
      "source": [
        "# SOLUTION\n",
        "\n",
        "D_in, D_out = 3, 3\n",
        "\n",
        "H = 5\n",
        "\n",
        "w1 = np.random.randn(D_in, H)\n",
        "w2 = np.random.randn(H, D_out)\n",
        "\n",
        "h = x @ w1 # @ matrix multiplication \n",
        "h_relu = np.maximum(0, h)\n",
        "y_pred = h_relu @ w2\n",
        "# f(x) = np.maximum(0, x @ w1) @ w2\n",
        "print(y_pred)\n",
        "\n"
      ],
      "execution_count": null,
      "outputs": [
        {
          "output_type": "stream",
          "name": "stdout",
          "text": [
            "[[ 1.99729752  1.95972765 -1.60319323]\n",
            " [ 1.27463235 -1.36810866  2.47849554]\n",
            " [-0.90800567 -0.93369845  4.42398734]\n",
            " ...\n",
            " [-0.33539063  1.09872114  0.11698592]\n",
            " [-0.49731151  0.02780596  0.43385818]\n",
            " [ 0.          0.          0.        ]]\n"
          ]
        }
      ]
    },
    {
      "cell_type": "markdown",
      "metadata": {
        "id": "dr0iFPdRIkwX"
      },
      "source": [
        "Obviously, the weights being randomly defined, do not expect to have good predictions at this stage. \n",
        "\n",
        "Our job will now be to define a clever procedure to train those parameters in order to obtain a good predictor. "
      ]
    },
    {
      "cell_type": "markdown",
      "metadata": {
        "id": "ibKMhFQuZlkR"
      },
      "source": [
        "## Training procedure"
      ]
    },
    {
      "cell_type": "markdown",
      "metadata": {
        "id": "JwMEDR9I3bog"
      },
      "source": [
        "\n",
        "\n",
        "### Generalities \n",
        "\n",
        "Training the network will aim at finding the $W_{1}$ and $W_{2}$ matrices in order to minimize the loss function, i.e. the function we will use to evaluate the error of our model.\n",
        "\n",
        "This error function (loss function) will be defined this way: \n",
        "\n",
        "$l(\\hat{y}, y) = \\sum_{i=0}^{N-1} \\sum_{j=0}^{D_{out}-1} (\\hat{y}_{i,j} - y_{i,j})^2$\n",
        "\n",
        "*Important*: note that loss function only makes sense in a regression setting. \n",
        "\n",
        "with $\\hat{y}, y \\in \\mathbb{R}^{N \\times D_{out}}$\n",
        "\n",
        "Processing the data, the weights will be iteratively modified in order to reduce the loss.\n",
        "\n",
        "To do so, at each iteration, we will apply two passes: \n",
        "1. Forward pass: compute the loss for the processed input (it can be a subset of the whole training set or even one input). We already know how to do that (see above).\n",
        "2. Backward pass: as we know the expected value for each input processed during the training phase, we can compute the loss for the current set of predictions. As we want to minimize that loss, we will:\n",
        "  *  Compute the partial derivative of the loss with regards to the parameters (here $W_{1}$ and $W_{2}$), also named [gradients](https://en.wikipedia.org/wiki/Gradient) and denoted in our case $\\nabla_{W_1}$ and $\\nabla_{W_2}$. Those gradients will denote the direction of greatest increase of the loss, and can therefore be used to change the parameters to influence the loss (following the opposite direction, we will be able to iteratively minimize the loss). To compute this gradient, we will simply apply the chain rule considering that all functions used in our network have a derivative (chain rule: https://en.wikipedia.org/wiki/Chain_rule) - please put aside consideration induced by the relu function for now, that's not important.\n",
        "  * Adjust the parameters ($W_{1}$ and $W_{2}$) applying an update rule based on the gradient, e.g. considering a constant pre-defined learning rate $\\eta$, this rule could be $W_1 = W_1 - \\eta \\times \\nabla_{W_1}$. This is called backpropagation. \n",
        "\n",
        "Computing the gradients is probably the most technical part, but it should not be a problem as it only requires to compute derivative.\n",
        "We provide a sketch to compute $\\nabla_{W_2}$ (using shortcut notations):\n",
        "\n",
        "\n",
        "\n",
        "$\\frac{\\partial l}{\\partial W_2} = \\frac{\\partial l}{\\partial \\hat{y}} \\frac{\\partial \\hat{y}}{\\partial W_2}$\n",
        "\n",
        "$\\frac{\\partial l}{\\partial \\hat{y}} = 2 (\\hat{y} - y)$ $\\in \\mathbb{R}^{N \\times D_{out}}$ \n",
        "\n",
        "$\\frac{\\partial \\hat{y}}{\\partial W_2} : relu(x_i W_{1})$ $\\in \\mathbb{R}^{N \\times H}$ (shortchut)\n",
        "\n",
        "$\\frac{\\partial l}{\\partial W_2} =  relu(x_i W_{1})^T \\cdot (2 (\\hat{y} - y))$ $\\in \\mathbb{R}^{H \\times D_{out}}$, recall that $W_2 \\in \\mathbb{R}^{H \\times D_{out}}$ \n",
        "\n",
        "Details on how to compute the gradient on linear models (considering multivariate calculus) are provided in that resource: https://web.eecs.umich.edu/~justincj/teaching/eecs442/notes/linear-backprop.html\n"
      ]
    },
    {
      "cell_type": "markdown",
      "metadata": {
        "id": "aKJ1GHh7ZxAz"
      },
      "source": [
        "### First implementation"
      ]
    },
    {
      "cell_type": "markdown",
      "metadata": {
        "id": "S-mcKH4xILx2"
      },
      "source": [
        "> **Exercise: Training procedure implementation**\n",
        ">\n",
        "> You can now try to implement the training procedure"
      ]
    },
    {
      "cell_type": "markdown",
      "metadata": {
        "id": "6fy1LQlt58yU"
      },
      "source": [
        "We define below our first implementation of the training procedure"
      ]
    },
    {
      "cell_type": "code",
      "metadata": {
        "id": "yXeIy6cRTf_U",
        "colab": {
          "base_uri": "https://localhost:8080/"
        },
        "outputId": "1dd331d5-1baa-4d42-ed96-0ba1487df76b"
      },
      "source": [
        "# SOLUTION\n",
        "\n",
        "# H is hidden dimension (number of neurons)\n",
        "H = 60\n",
        "\n",
        "# Randomly initialize weights\n",
        "w1 = np.random.randn(D_in, H)\n",
        "w2 = np.random.randn(H, D_out)\n",
        "\n",
        "learning_rate = 1e-5\n",
        "for t in range(30001): # our training set will be used 30000 times\n",
        "\n",
        "    # Forward pass: compute predicted y\n",
        "    h = x.dot(w1)\n",
        "    h_relu = np.maximum(h, 0)\n",
        "    y_pred = h_relu.dot(w2)\n",
        "\n",
        "    # Compute square loss\n",
        "    loss = np.square(y_pred - y).sum()\n",
        "    if t % 1000 == 0:\n",
        "      print(t, loss)\n",
        "\n",
        "    # Now we must modify the weights in order to reduce the loss\n",
        "    # We compute the partial derivative applying the chain rule for this\n",
        "    # Backpropagation to compute gradients of w1 and w2 with respect to loss\n",
        "    # This the most technical part \n",
        "    grad_y_pred = 2.0 * (y_pred - y)\n",
        "    grad_w2 = h_relu.T.dot(grad_y_pred)\n",
        "    grad_h_relu = grad_y_pred.dot(w2.T)\n",
        "    grad_h_relu[h < 0] = 0\n",
        "    grad_w1 = x.T.dot(grad_h_relu)\n",
        "\n",
        "    # Update weights using the gradient and the learning rate.\n",
        "    w1 -= learning_rate * grad_w1\n",
        "    w2 -= learning_rate * grad_w2"
      ],
      "execution_count": null,
      "outputs": [
        {
          "output_type": "stream",
          "name": "stdout",
          "text": [
            "0 323230.6737072725\n",
            "1000 1904.9151413936142\n",
            "2000 1857.1743997564918\n",
            "3000 1833.8087932910967\n",
            "4000 1818.8848286212772\n",
            "5000 1809.4461154280518\n",
            "6000 1803.524492911144\n",
            "7000 1798.1726861788138\n",
            "8000 1793.9381418544435\n",
            "9000 1789.8691774260594\n",
            "10000 1787.12001542259\n",
            "11000 1784.6339167134893\n",
            "12000 1782.3572920851664\n",
            "13000 1779.9742597595919\n",
            "14000 1775.9701699606185\n",
            "15000 1773.182420399929\n",
            "16000 1771.082569796148\n",
            "17000 1769.033359134742\n",
            "18000 1766.8236061115408\n",
            "19000 1764.9219240995544\n",
            "20000 1763.1071346364624\n",
            "21000 1761.530423423128\n",
            "22000 1759.6326557721231\n",
            "23000 1758.0678782943992\n",
            "24000 1756.0748676833705\n",
            "25000 1753.6920607897953\n",
            "26000 1751.7330841840858\n",
            "27000 1750.2390471159981\n",
            "28000 1748.3740958045355\n",
            "29000 1746.9519154729742\n",
            "30000 1745.5872123056527\n"
          ]
        }
      ]
    },
    {
      "cell_type": "markdown",
      "metadata": {
        "id": "lygCcZMfag7t"
      },
      "source": [
        "As we can see, it looks like our network is learning something. \n",
        "\n",
        "To be more precise, the training procedure we defined enables to iteratively minimize the loss (on the training set). "
      ]
    },
    {
      "cell_type": "markdown",
      "metadata": {
        "id": "hsKO0FaVYb2d"
      },
      "source": [
        "## Refactoring / Refinements\n",
        "\n",
        "Let's restructure the code in order to distinguish the different parts.\n",
        "Several approaches could have been chosen (and a lot of choices could be discussed and questioned in term of design, but that's not the aim of the course). "
      ]
    },
    {
      "cell_type": "markdown",
      "metadata": {
        "id": "k6JaASu8asly"
      },
      "source": [
        "### Model implementation\n",
        "\n",
        "\n",
        "> **Exercise: refactoring**\n",
        ">\n",
        "> Refactor the code. Create a class `SimpleANN` with a constructor enabling to define $D_{in}$, $D_{out}$, $H$.\n",
        ">\n",
        "> Define a `forward` method in which you'll implement the forward pass (the method returns the prediction)."
      ]
    },
    {
      "cell_type": "code",
      "metadata": {
        "id": "My7a8bXgZsxZ"
      },
      "source": [
        "#SOLUTION\n",
        "\n",
        "class SimpleANN:\n",
        "  \"\"\"\n",
        "    Simple single-layer artificial neural network (ANN) \n",
        "  \"\"\"\n",
        "  def __init__(self,D_in: int, D_out: int, H: int):\n",
        "    \"\"\"\n",
        "      H: number of neurons in the hidden Layer\n",
        "    \"\"\"\n",
        "    self.w1 = np.random.randn(D_in, H)\n",
        "    self.w2 = np.random.randn(H, D_out)\n",
        "    \n",
        "  def forward(self, x):\n",
        "    h = x.dot(self.w1)\n",
        "    h_relu = np.maximum(h, 0)\n",
        "    y_pred = h_relu.dot(self.w2)\n",
        "\n",
        "    return y_pred"
      ],
      "execution_count": null,
      "outputs": []
    },
    {
      "cell_type": "markdown",
      "metadata": {
        "id": "hE22BB_sa1on"
      },
      "source": [
        "### Trainer implementation"
      ]
    },
    {
      "cell_type": "code",
      "metadata": {
        "id": "VcpN30xJa2DA"
      },
      "source": [
        "class Trainer:\n",
        "  \"\"\"\n",
        "    Simple class implementing a Trainer that will be used\n",
        "    to modify our SimpleANN parameter to minimize the loss\n",
        "  \"\"\"\n",
        "\n",
        "  def __init__(self, ann: SimpleANN, training_set):\n",
        "    self.learning_rate = 1e-6 \n",
        "    self.ann = ann\n",
        "    self.x, self.y = training_set\n",
        "\n",
        "  def compute_loss(self, y_pred, y):\n",
        "    return np.square(y_pred - y).sum()\n",
        "    \n",
        "\n",
        "  def step(self):\n",
        "    \n",
        "    y_pred = self.ann.forward(self.x)\n",
        "    loss = self.compute_loss(y_pred, self.y)\n",
        "    \n",
        "    # backward step\n",
        "    # requires some information already computed in the forward step\n",
        "    h = self.x.dot(self.ann.w1)\n",
        "    h_relu = np.maximum(h, 0)\n",
        "\n",
        "    grad_y_pred = 2.0 * (y_pred - y)\n",
        "    grad_w2 = h_relu.T.dot(grad_y_pred)\n",
        "    grad_h_relu = grad_y_pred.dot(self.ann.w2.T)\n",
        "    grad_h_relu[h < 0] = 0\n",
        "    grad_w1 = self.x.T.dot(grad_h_relu)\n",
        "\n",
        "    # Update weights using the gradient and the learning rate.\n",
        "    self.ann.w1 -= self.learning_rate * grad_w1\n",
        "    self.ann.w2 -= self.learning_rate * grad_w2\n",
        "\n",
        "    return loss\n",
        "\n",
        "  def fit(self, epoch: int, log_frequency: int):\n",
        "\n",
        "    log_loss = [] # we just log the loss\n",
        "\n",
        "    for i in range(epoch+1):\n",
        "      loss = self.step()\n",
        "      if i % log_frequency == 0:\n",
        "        print(i, loss)\n",
        "        log_loss.append((i,loss))\n",
        "    return log_loss"
      ],
      "execution_count": null,
      "outputs": []
    },
    {
      "cell_type": "markdown",
      "metadata": {
        "id": "XVNshkK9bIRN"
      },
      "source": [
        "### Training tests"
      ]
    },
    {
      "cell_type": "markdown",
      "metadata": {
        "id": "5yx5dIj1dyah"
      },
      "source": [
        "We can now easily reimplement the training loop"
      ]
    },
    {
      "cell_type": "code",
      "metadata": {
        "id": "uhGnSij8eh6Y",
        "colab": {
          "base_uri": "https://localhost:8080/",
          "height": 659
        },
        "outputId": "1bbd1c59-b28f-4bef-82a9-525c815f57a1"
      },
      "source": [
        "ann = SimpleANN(D_in=3, D_out=3, H=H)\n",
        "\n",
        "trainer = Trainer(ann, (x, y))\n",
        "log_loss = trainer.fit(epoch=20000, log_frequency=1000)\n",
        "\n",
        "# plotting\n",
        "import matplotlib.pyplot as plt\n",
        "del log_loss[0] # we remove the first loss (random weights)\n",
        "res = list(zip(*log_loss)) \n",
        "plt.plot(res[0], res[1])"
      ],
      "execution_count": null,
      "outputs": [
        {
          "output_type": "stream",
          "name": "stdout",
          "text": [
            "0 402716.8811440432\n",
            "1000 2412.240191934913\n",
            "2000 2192.1813225950655\n",
            "3000 2089.7128729475794\n",
            "4000 2026.9931272983765\n",
            "5000 1984.1460575088404\n",
            "6000 1952.4429650241805\n",
            "7000 1929.7451689778209\n",
            "8000 1911.9202618334718\n",
            "9000 1897.2938637556304\n",
            "10000 1886.0252106510093\n",
            "11000 1876.464341413849\n",
            "12000 1869.5342610955568\n",
            "13000 1863.7952926996277\n",
            "14000 1858.8767565373364\n",
            "15000 1854.3841192447553\n",
            "16000 1850.0778060099406\n",
            "17000 1846.3096701458853\n",
            "18000 1842.8818180361811\n",
            "19000 1839.7657112775184\n",
            "20000 1836.8966219873614\n"
          ]
        },
        {
          "output_type": "execute_result",
          "data": {
            "text/plain": [
              "[<matplotlib.lines.Line2D at 0x7efe2a2a4850>]"
            ]
          },
          "metadata": {},
          "execution_count": 9
        },
        {
          "output_type": "display_data",
          "data": {
            "text/plain": [
              "<Figure size 432x288 with 1 Axes>"
            ],
            "image/png": "[encoded data removed]"
          },
          "metadata": {
            "needs_background": "light"
          }
        }
      ]
    },
    {
      "cell_type": "markdown",
      "metadata": {
        "id": "2ztMH5bKhFD7"
      },
      "source": [
        "Let's see how our neural network performes on unseen data : the only things that matters for us.\n",
        "\n",
        "To do so we will generate another set of labelled data not used during training."
      ]
    },
    {
      "cell_type": "code",
      "metadata": {
        "id": "M44TaRIAhcFa",
        "colab": {
          "base_uri": "https://localhost:8080/"
        },
        "outputId": "a5e6a469-3aff-401b-e79d-195f23684471"
      },
      "source": [
        "# recall the loss we finally obtained after the training phase \n",
        "y_pred = ann.forward(x)\n",
        "training_loss = trainer.compute_loss(y_pred, y)\n",
        "\n",
        "# Let's now generate a test set (data not used during training)\n",
        "x_test, y_test = get_dataset(N, D_in, D_out)\n",
        "\n",
        "y_pred_test = ann.forward(x_test)\n",
        "test_loss = trainer.compute_loss(y_pred_test, y_test)\n",
        "\n",
        "# due to the way the loss has been defined the two sets must have the same size\n",
        "# in order for us to compare the loss\n",
        "assert x.shape[0] == x_test.shape[0]\n",
        "\n",
        "print(\"training loss: \", training_loss)\n",
        "print(\"test loss    : \", test_loss)\n",
        "print(\"diff         : \", abs(training_loss - test_loss))"
      ],
      "execution_count": null,
      "outputs": [
        {
          "output_type": "stream",
          "name": "stdout",
          "text": [
            "training loss:  1836.8936169643168\n",
            "test loss    :  2155.9029110875736\n",
            "diff         :  319.0092941232567\n"
          ]
        }
      ]
    },
    {
      "cell_type": "markdown",
      "metadata": {
        "id": "pEiz3jeXbYbC"
      },
      "source": [
        "Well... even if results may vary from run to run, it looks like our neural network is pretty good on the training set but fails to perform similarly on the test set... we don't like this at all.\n",
        "We are maybe overfitting, i.e. memorizing the training set. "
      ]
    },
    {
      "cell_type": "markdown",
      "metadata": {
        "id": "KQDBBcTIjwil"
      },
      "source": [
        "### Train, Validation, Test \n",
        "\n",
        "\n",
        "\n",
        "To monitor, and eventually overcome this, we will split our initial labelled dataset into 3 parts: \n",
        "* training set: the data we will use to update the weights of our network\n",
        "* validation set: the data we will use to monitor that we are not overfitting the training set during training\n",
        "* test set: the data we will use to evaluate our trained ANN on data not used during the training phase\n",
        "\n",
        "We will monitor our loss on the validation set during training and stop when the difference between our training and validation losses stresses overfitting.\n",
        "\n",
        "We will modify our trainer to accept a validation set. "
      ]
    },
    {
      "cell_type": "code",
      "metadata": {
        "id": "KARuLVwdnolx"
      },
      "source": [
        "class TrainerAdvanced(Trainer):\n",
        "  \"\"\"\n",
        "    Simple Trainer with validation\n",
        "  \"\"\"\n",
        "\n",
        "  def __init__(self, ann: SimpleANN, training_set, validation_set):\n",
        "    Trainer.__init__(self, ann, training_set)\n",
        "    self.x_val, self.y_val = validation_set\n",
        "    \n",
        "  def fit(self, epoch: int, log_frequency: int):\n",
        "\n",
        "    log_loss = [] # we just log the losses\n",
        "\n",
        "    for i in range(epoch+1):\n",
        "      \n",
        "      loss_train = self.step()\n",
        "\n",
        "      if i % log_frequency == 0:\n",
        "\n",
        "        # validation part\n",
        "        y_pred_val = self.ann.forward(self.x_val)\n",
        "        loss_val = self.compute_loss(y_pred_val, self.y_val)\n",
        "\n",
        "        log_loss.append((i, loss_train, loss_val))\n",
        "        loss_train_evol = 0 if len(log_loss) == 1 else loss_train - log_loss[len(log_loss)-2][1]\n",
        "        loss_val_evol = 0 if len(log_loss) == 1 else loss_val - log_loss[len(log_loss)-2][2]\n",
        "        \n",
        "        print(\"{} train: {:.2f}   valid: {:.2f}   diff: {:.2f}   loss train ev.: {:.2f}   loss val ev.: {:.2f}\".format(i, loss_train, loss_val, loss_train - loss_val, loss_train_evol, loss_val_evol))\n",
        "    return log_loss "
      ],
      "execution_count": null,
      "outputs": []
    },
    {
      "cell_type": "markdown",
      "metadata": {
        "id": "vmU7f4IZpDS3"
      },
      "source": [
        "Let's train our model using that new Trainer.\n",
        "\n",
        "Note that we already have a training set, and test set. \n",
        "We will only create a validation. \n",
        "Generally you'll have to split an initial dataset to obtain those sets."
      ]
    },
    {
      "cell_type": "code",
      "metadata": {
        "id": "rZlHVXcFpIeC",
        "colab": {
          "base_uri": "https://localhost:8080/",
          "height": 1000
        },
        "outputId": "79fc76f6-70ea-492b-bac5-db47bd908c4f"
      },
      "source": [
        "# we use the network already trained above\n",
        "#ann = SimpleANN(D_in=3, D_out=3, H=H)\n",
        "\n",
        "x_val, y_val = get_dataset(N, D_in, D_out)\n",
        "\n",
        "assert x.shape[0] == x_val.shape[0]\n",
        "\n",
        "trainer = TrainerAdvanced(ann, (x, y), (x_val, y_val))\n",
        "log_loss = trainer.fit(epoch=50000, log_frequency=1000)\n",
        "\n",
        "import matplotlib.pyplot as plt\n",
        "def plot_losses(log_losses):\n",
        "  # del log_loss[0] # remove the first loss if you train a new network\n",
        "  res = list(zip(*log_loss)) \n",
        "  plt.plot(res[0], res[1])\n",
        "  plt.show()\n",
        "  plt.plot(res[0], res[2])\n",
        "\n",
        "plot_losses(log_loss)\n"
      ],
      "execution_count": null,
      "outputs": [
        {
          "output_type": "stream",
          "name": "stdout",
          "text": [
            "0 train: 1836.89   valid: 2164.38   diff: -327.49   loss train ev.: 0.00   loss val ev.: 0.00\n",
            "1000 train: 1833.90   valid: 2163.44   diff: -329.54   loss train ev.: -3.00   loss val ev.: -0.94\n",
            "2000 train: 1831.22   valid: 2162.52   diff: -331.30   loss train ev.: -2.68   loss val ev.: -0.92\n",
            "3000 train: 1828.83   valid: 2161.23   diff: -332.40   loss train ev.: -2.39   loss val ev.: -1.29\n",
            "4000 train: 1826.08   valid: 2159.50   diff: -333.42   loss train ev.: -2.75   loss val ev.: -1.73\n",
            "5000 train: 1824.17   valid: 2157.24   diff: -333.07   loss train ev.: -1.91   loss val ev.: -2.26\n",
            "6000 train: 1822.57   valid: 2155.43   diff: -332.85   loss train ev.: -1.60   loss val ev.: -1.81\n",
            "7000 train: 1821.27   valid: 2154.26   diff: -332.99   loss train ev.: -1.31   loss val ev.: -1.17\n",
            "8000 train: 1820.22   valid: 2153.73   diff: -333.51   loss train ev.: -1.05   loss val ev.: -0.53\n",
            "9000 train: 1819.25   valid: 2153.45   diff: -334.20   loss train ev.: -0.97   loss val ev.: -0.28\n",
            "10000 train: 1818.29   valid: 2152.97   diff: -334.68   loss train ev.: -0.96   loss val ev.: -0.47\n",
            "11000 train: 1817.34   valid: 2152.47   diff: -335.12   loss train ev.: -0.95   loss val ev.: -0.50\n",
            "12000 train: 1816.33   valid: 2152.26   diff: -335.92   loss train ev.: -1.01   loss val ev.: -0.21\n",
            "13000 train: 1815.11   valid: 2152.61   diff: -337.49   loss train ev.: -1.22   loss val ev.: 0.35\n",
            "14000 train: 1813.87   valid: 2153.25   diff: -339.38   loss train ev.: -1.25   loss val ev.: 0.64\n",
            "15000 train: 1812.61   valid: 2153.96   diff: -341.35   loss train ev.: -1.25   loss val ev.: 0.71\n",
            "16000 train: 1811.58   valid: 2154.58   diff: -343.00   loss train ev.: -1.03   loss val ev.: 0.62\n",
            "17000 train: 1810.64   valid: 2155.35   diff: -344.72   loss train ev.: -0.94   loss val ev.: 0.77\n",
            "18000 train: 1809.78   valid: 2155.85   diff: -346.07   loss train ev.: -0.86   loss val ev.: 0.49\n",
            "19000 train: 1809.05   valid: 2155.80   diff: -346.75   loss train ev.: -0.73   loss val ev.: -0.04\n",
            "20000 train: 1808.37   valid: 2155.82   diff: -347.45   loss train ev.: -0.68   loss val ev.: 0.01\n",
            "21000 train: 1807.73   valid: 2155.78   diff: -348.06   loss train ev.: -0.65   loss val ev.: -0.04\n",
            "22000 train: 1807.08   valid: 2155.69   diff: -348.60   loss train ev.: -0.64   loss val ev.: -0.10\n",
            "23000 train: 1806.43   valid: 2155.56   diff: -349.13   loss train ev.: -0.66   loss val ev.: -0.13\n",
            "24000 train: 1805.78   valid: 2155.45   diff: -349.68   loss train ev.: -0.65   loss val ev.: -0.10\n",
            "25000 train: 1805.14   valid: 2155.48   diff: -350.34   loss train ev.: -0.64   loss val ev.: 0.02\n",
            "26000 train: 1804.47   valid: 2155.48   diff: -351.01   loss train ev.: -0.67   loss val ev.: 0.00\n",
            "27000 train: 1803.82   valid: 2155.52   diff: -351.70   loss train ev.: -0.65   loss val ev.: 0.04\n",
            "28000 train: 1803.19   valid: 2155.66   diff: -352.47   loss train ev.: -0.62   loss val ev.: 0.14\n",
            "29000 train: 1802.52   valid: 2156.44   diff: -353.92   loss train ev.: -0.67   loss val ev.: 0.78\n",
            "30000 train: 1801.91   valid: 2156.91   diff: -355.00   loss train ev.: -0.61   loss val ev.: 0.47\n",
            "31000 train: 1801.28   valid: 2157.51   diff: -356.23   loss train ev.: -0.63   loss val ev.: 0.60\n",
            "32000 train: 1800.69   valid: 2157.95   diff: -357.26   loss train ev.: -0.59   loss val ev.: 0.44\n",
            "33000 train: 1800.11   valid: 2158.12   diff: -358.01   loss train ev.: -0.58   loss val ev.: 0.17\n",
            "34000 train: 1799.55   valid: 2158.25   diff: -358.71   loss train ev.: -0.56   loss val ev.: 0.13\n",
            "35000 train: 1799.00   valid: 2158.38   diff: -359.38   loss train ev.: -0.55   loss val ev.: 0.12\n",
            "36000 train: 1798.46   valid: 2158.48   diff: -360.02   loss train ev.: -0.54   loss val ev.: 0.10\n",
            "37000 train: 1797.88   valid: 2158.81   diff: -360.93   loss train ev.: -0.58   loss val ev.: 0.33\n",
            "38000 train: 1797.30   valid: 2159.54   diff: -362.24   loss train ev.: -0.58   loss val ev.: 0.73\n",
            "39000 train: 1796.78   valid: 2159.98   diff: -363.19   loss train ev.: -0.52   loss val ev.: 0.43\n",
            "40000 train: 1796.29   valid: 2160.04   diff: -363.75   loss train ev.: -0.49   loss val ev.: 0.07\n",
            "41000 train: 1795.83   valid: 2160.11   diff: -364.28   loss train ev.: -0.47   loss val ev.: 0.07\n",
            "42000 train: 1795.38   valid: 2160.13   diff: -364.75   loss train ev.: -0.45   loss val ev.: 0.02\n",
            "43000 train: 1794.93   valid: 2160.18   diff: -365.25   loss train ev.: -0.45   loss val ev.: 0.05\n",
            "44000 train: 1794.49   valid: 2160.29   diff: -365.80   loss train ev.: -0.44   loss val ev.: 0.11\n",
            "45000 train: 1794.05   valid: 2160.35   diff: -366.30   loss train ev.: -0.44   loss val ev.: 0.06\n",
            "46000 train: 1793.62   valid: 2160.46   diff: -366.84   loss train ev.: -0.43   loss val ev.: 0.11\n",
            "47000 train: 1793.21   valid: 2160.50   diff: -367.29   loss train ev.: -0.42   loss val ev.: 0.04\n",
            "48000 train: 1792.80   valid: 2160.52   diff: -367.71   loss train ev.: -0.40   loss val ev.: 0.02\n",
            "49000 train: 1792.41   valid: 2160.57   diff: -368.17   loss train ev.: -0.40   loss val ev.: 0.06\n",
            "50000 train: 1792.02   valid: 2160.63   diff: -368.61   loss train ev.: -0.39   loss val ev.: 0.06\n"
          ]
        },
        {
          "output_type": "display_data",
          "data": {
            "text/plain": [
              "<Figure size 432x288 with 1 Axes>"
            ],
            "image/png": "[encoded data removed]"
          },
          "metadata": {
            "needs_background": "light"
          }
        },
        {
          "output_type": "display_data",
          "data": {
            "text/plain": [
              "<Figure size 432x288 with 1 Axes>"
            ],
            "image/png": "[encoded data removed]"
          },
          "metadata": {
            "needs_background": "light"
          }
        }
      ]
    },
    {
      "cell_type": "markdown",
      "metadata": {
        "id": "pqjSC9Ndqoot"
      },
      "source": [
        "It looks like we indeed obtain a better loss on the training set compared to the one obtained on the validation set. \n",
        "\n",
        "But we are still reducing the validation loss during training (which means we are not overfitting per se).\n",
        "\n",
        "Let's continue training."
      ]
    },
    {
      "cell_type": "code",
      "metadata": {
        "id": "qOr802U2q8Nl",
        "colab": {
          "base_uri": "https://localhost:8080/",
          "height": 889
        },
        "outputId": "a774793d-2d00-461d-bba4-81ccf46bbf37"
      },
      "source": [
        "log_loss = trainer.fit(epoch=100000, log_frequency=5000)\n",
        "plot_losses(log_loss)"
      ],
      "execution_count": null,
      "outputs": [
        {
          "output_type": "stream",
          "name": "stdout",
          "text": [
            "0 train: 1792.02   valid: 2160.64   diff: -368.62   loss train ev.: 0.00   loss val ev.: 0.00\n",
            "5000 train: 1790.06   valid: 2161.76   diff: -371.69   loss train ev.: -1.95   loss val ev.: 1.12\n",
            "10000 train: 1788.15   valid: 2163.34   diff: -375.19   loss train ev.: -1.91   loss val ev.: 1.58\n",
            "15000 train: 1786.31   valid: 2164.25   diff: -377.94   loss train ev.: -1.84   loss val ev.: 0.91\n",
            "20000 train: 1784.52   valid: 2164.44   diff: -379.91   loss train ev.: -1.79   loss val ev.: 0.19\n",
            "25000 train: 1782.68   valid: 2165.67   diff: -382.99   loss train ev.: -1.84   loss val ev.: 1.23\n",
            "30000 train: 1781.05   valid: 2166.28   diff: -385.23   loss train ev.: -1.63   loss val ev.: 0.61\n",
            "35000 train: 1779.52   valid: 2166.33   diff: -386.81   loss train ev.: -1.53   loss val ev.: 0.05\n",
            "40000 train: 1778.00   valid: 2166.42   diff: -388.42   loss train ev.: -1.52   loss val ev.: 0.09\n",
            "45000 train: 1776.55   valid: 2166.62   diff: -390.07   loss train ev.: -1.45   loss val ev.: 0.20\n",
            "50000 train: 1775.17   valid: 2167.10   diff: -391.93   loss train ev.: -1.37   loss val ev.: 0.48\n",
            "55000 train: 1773.85   valid: 2167.34   diff: -393.49   loss train ev.: -1.32   loss val ev.: 0.25\n",
            "60000 train: 1772.47   valid: 2167.67   diff: -395.21   loss train ev.: -1.39   loss val ev.: 0.33\n",
            "65000 train: 1771.21   valid: 2168.11   diff: -396.90   loss train ev.: -1.26   loss val ev.: 0.43\n",
            "70000 train: 1769.99   valid: 2168.57   diff: -398.58   loss train ev.: -1.21   loss val ev.: 0.47\n",
            "75000 train: 1768.79   valid: 2169.00   diff: -400.21   loss train ev.: -1.20   loss val ev.: 0.43\n",
            "80000 train: 1767.61   valid: 2169.60   diff: -401.99   loss train ev.: -1.18   loss val ev.: 0.60\n",
            "85000 train: 1766.47   valid: 2170.23   diff: -403.77   loss train ev.: -1.14   loss val ev.: 0.64\n",
            "90000 train: 1765.37   valid: 2170.91   diff: -405.54   loss train ev.: -1.09   loss val ev.: 0.68\n",
            "95000 train: 1764.32   valid: 2171.66   diff: -407.34   loss train ev.: -1.06   loss val ev.: 0.75\n",
            "100000 train: 1763.29   valid: 2172.36   diff: -409.07   loss train ev.: -1.03   loss val ev.: 0.70\n"
          ]
        },
        {
          "output_type": "display_data",
          "data": {
            "text/plain": [
              "<Figure size 432x288 with 1 Axes>"
            ],
            "image/png": "[encoded data removed]"
          },
          "metadata": {
            "needs_background": "light"
          }
        },
        {
          "output_type": "display_data",
          "data": {
            "text/plain": [
              "<Figure size 432x288 with 1 Axes>"
            ],
            "image/png": "[encoded data removed]"
          },
          "metadata": {
            "needs_background": "light"
          }
        }
      ]
    },
    {
      "cell_type": "markdown",
      "metadata": {
        "id": "vFxSjrtOJIxd"
      },
      "source": [
        "[Optional] Execute the code below to plot the full evolution of the losses training a new network from scratch"
      ]
    },
    {
      "cell_type": "code",
      "metadata": {
        "id": "n-1Y8_vUJOhe",
        "colab": {
          "base_uri": "https://localhost:8080/",
          "height": 1000
        },
        "outputId": "e922f56c-d9dd-441a-f7cf-3e932381b222"
      },
      "source": [
        "ann = SimpleANN(D_in=3, D_out=3, H=H)\n",
        "trainer = TrainerAdvanced(ann, (x, y), (x_val, y_val))\n",
        "log_loss = trainer.fit(epoch=100000, log_frequency=1000)\n",
        "\n",
        "del log_loss[0]\n",
        "plot_losses(log_loss)"
      ],
      "execution_count": null,
      "outputs": [
        {
          "output_type": "stream",
          "name": "stdout",
          "text": [
            "0 train: 404947.35   valid: 324828.59   diff: 80118.76   loss train ev.: 0.00   loss val ev.: 0.00\n",
            "1000 train: 2726.56   valid: 2807.78   diff: -81.22   loss train ev.: -402220.79   loss val ev.: -322020.81\n",
            "2000 train: 2256.20   valid: 2405.98   diff: -149.78   loss train ev.: -470.36   loss val ev.: -401.80\n",
            "3000 train: 2108.96   valid: 2288.93   diff: -179.97   loss train ev.: -147.24   loss val ev.: -117.05\n",
            "4000 train: 2031.47   valid: 2233.18   diff: -201.70   loss train ev.: -77.49   loss val ev.: -55.76\n",
            "5000 train: 1985.69   valid: 2199.70   diff: -214.01   loss train ev.: -45.78   loss val ev.: -33.48\n",
            "6000 train: 1954.00   valid: 2177.60   diff: -223.60   loss train ev.: -31.69   loss val ev.: -22.10\n",
            "7000 train: 1928.35   valid: 2160.56   diff: -232.22   loss train ev.: -25.65   loss val ev.: -17.03\n",
            "8000 train: 1906.00   valid: 2148.74   diff: -242.74   loss train ev.: -22.34   loss val ev.: -11.82\n",
            "9000 train: 1888.58   valid: 2143.07   diff: -254.49   loss train ev.: -17.43   loss val ev.: -5.67\n",
            "10000 train: 1875.29   valid: 2137.47   diff: -262.18   loss train ev.: -13.29   loss val ev.: -5.60\n",
            "11000 train: 1865.80   valid: 2132.63   diff: -266.83   loss train ev.: -9.49   loss val ev.: -4.84\n",
            "12000 train: 1858.02   valid: 2128.93   diff: -270.90   loss train ev.: -7.78   loss val ev.: -3.70\n",
            "13000 train: 1851.43   valid: 2126.32   diff: -274.90   loss train ev.: -6.60   loss val ev.: -2.60\n",
            "14000 train: 1845.93   valid: 2123.90   diff: -277.97   loss train ev.: -5.49   loss val ev.: -2.43\n",
            "15000 train: 1841.36   valid: 2121.75   diff: -280.39   loss train ev.: -4.57   loss val ev.: -2.15\n",
            "16000 train: 1837.17   valid: 2120.35   diff: -283.17   loss train ev.: -4.19   loss val ev.: -1.40\n",
            "17000 train: 1833.28   valid: 2119.36   diff: -286.08   loss train ev.: -3.89   loss val ev.: -0.98\n",
            "18000 train: 1830.25   valid: 2118.46   diff: -288.21   loss train ev.: -3.03   loss val ev.: -0.90\n",
            "19000 train: 1827.13   valid: 2117.40   diff: -290.27   loss train ev.: -3.12   loss val ev.: -1.06\n",
            "20000 train: 1824.22   valid: 2116.47   diff: -292.25   loss train ev.: -2.91   loss val ev.: -0.94\n",
            "21000 train: 1821.59   valid: 2116.04   diff: -294.45   loss train ev.: -2.63   loss val ev.: -0.42\n",
            "22000 train: 1819.14   valid: 2115.67   diff: -296.52   loss train ev.: -2.45   loss val ev.: -0.38\n",
            "23000 train: 1816.86   valid: 2115.14   diff: -298.28   loss train ev.: -2.28   loss val ev.: -0.52\n",
            "24000 train: 1814.67   valid: 2114.40   diff: -299.73   loss train ev.: -2.19   loss val ev.: -0.74\n",
            "25000 train: 1812.60   valid: 2114.05   diff: -301.45   loss train ev.: -2.07   loss val ev.: -0.35\n",
            "26000 train: 1810.61   valid: 2114.29   diff: -303.68   loss train ev.: -1.99   loss val ev.: 0.23\n",
            "27000 train: 1808.45   valid: 2114.65   diff: -306.20   loss train ev.: -2.16   loss val ev.: 0.36\n",
            "28000 train: 1806.26   valid: 2114.41   diff: -308.14   loss train ev.: -2.18   loss val ev.: -0.24\n",
            "29000 train: 1804.27   valid: 2113.96   diff: -309.70   loss train ev.: -2.00   loss val ev.: -0.44\n",
            "30000 train: 1802.40   valid: 2113.95   diff: -311.54   loss train ev.: -1.86   loss val ev.: -0.02\n",
            "31000 train: 1800.42   valid: 2114.10   diff: -313.68   loss train ev.: -1.98   loss val ev.: 0.16\n",
            "32000 train: 1798.50   valid: 2114.24   diff: -315.74   loss train ev.: -1.92   loss val ev.: 0.14\n",
            "33000 train: 1796.65   valid: 2114.95   diff: -318.29   loss train ev.: -1.85   loss val ev.: 0.71\n",
            "34000 train: 1795.20   valid: 2115.20   diff: -320.00   loss train ev.: -1.45   loss val ev.: 0.25\n",
            "35000 train: 1793.70   valid: 2115.64   diff: -321.94   loss train ev.: -1.50   loss val ev.: 0.44\n",
            "36000 train: 1792.40   valid: 2115.97   diff: -323.57   loss train ev.: -1.30   loss val ev.: 0.33\n",
            "37000 train: 1791.25   valid: 2116.33   diff: -325.08   loss train ev.: -1.15   loss val ev.: 0.36\n",
            "38000 train: 1790.22   valid: 2116.60   diff: -326.38   loss train ev.: -1.03   loss val ev.: 0.27\n",
            "39000 train: 1789.34   valid: 2116.80   diff: -327.46   loss train ev.: -0.88   loss val ev.: 0.20\n",
            "40000 train: 1788.46   valid: 2116.80   diff: -328.34   loss train ev.: -0.88   loss val ev.: 0.00\n",
            "41000 train: 1787.70   valid: 2116.91   diff: -329.22   loss train ev.: -0.77   loss val ev.: 0.11\n",
            "42000 train: 1786.98   valid: 2116.99   diff: -330.01   loss train ev.: -0.72   loss val ev.: 0.08\n",
            "43000 train: 1786.29   valid: 2117.08   diff: -330.79   loss train ev.: -0.69   loss val ev.: 0.09\n",
            "44000 train: 1785.60   valid: 2117.17   diff: -331.57   loss train ev.: -0.69   loss val ev.: 0.09\n",
            "45000 train: 1784.88   valid: 2117.25   diff: -332.36   loss train ev.: -0.72   loss val ev.: 0.08\n",
            "46000 train: 1784.19   valid: 2117.49   diff: -333.30   loss train ev.: -0.70   loss val ev.: 0.24\n",
            "47000 train: 1783.55   valid: 2117.88   diff: -334.33   loss train ev.: -0.63   loss val ev.: 0.39\n",
            "48000 train: 1783.00   valid: 2118.20   diff: -335.21   loss train ev.: -0.56   loss val ev.: 0.32\n",
            "49000 train: 1782.47   valid: 2118.49   diff: -336.02   loss train ev.: -0.53   loss val ev.: 0.29\n",
            "50000 train: 1781.96   valid: 2118.74   diff: -336.78   loss train ev.: -0.51   loss val ev.: 0.25\n",
            "51000 train: 1781.45   valid: 2118.98   diff: -337.53   loss train ev.: -0.51   loss val ev.: 0.24\n",
            "52000 train: 1780.94   valid: 2119.06   diff: -338.11   loss train ev.: -0.50   loss val ev.: 0.08\n",
            "53000 train: 1780.43   valid: 2119.12   diff: -338.69   loss train ev.: -0.51   loss val ev.: 0.06\n",
            "54000 train: 1779.93   valid: 2119.35   diff: -339.42   loss train ev.: -0.51   loss val ev.: 0.23\n",
            "55000 train: 1779.22   valid: 2119.01   diff: -339.78   loss train ev.: -0.70   loss val ev.: -0.34\n",
            "56000 train: 1778.67   valid: 2119.19   diff: -340.52   loss train ev.: -0.55   loss val ev.: 0.18\n",
            "57000 train: 1778.13   valid: 2119.28   diff: -341.15   loss train ev.: -0.54   loss val ev.: 0.10\n",
            "58000 train: 1777.59   valid: 2119.32   diff: -341.73   loss train ev.: -0.55   loss val ev.: 0.03\n",
            "59000 train: 1777.05   valid: 2119.43   diff: -342.38   loss train ev.: -0.54   loss val ev.: 0.11\n",
            "60000 train: 1776.51   valid: 2119.68   diff: -343.17   loss train ev.: -0.53   loss val ev.: 0.25\n",
            "61000 train: 1776.02   valid: 2119.93   diff: -343.91   loss train ev.: -0.49   loss val ev.: 0.25\n",
            "62000 train: 1775.55   valid: 2120.15   diff: -344.60   loss train ev.: -0.47   loss val ev.: 0.22\n",
            "63000 train: 1775.06   valid: 2120.31   diff: -345.25   loss train ev.: -0.49   loss val ev.: 0.16\n",
            "64000 train: 1774.60   valid: 2120.47   diff: -345.87   loss train ev.: -0.46   loss val ev.: 0.16\n",
            "65000 train: 1774.10   valid: 2120.60   diff: -346.50   loss train ev.: -0.50   loss val ev.: 0.14\n",
            "66000 train: 1773.33   valid: 2121.50   diff: -348.16   loss train ev.: -0.77   loss val ev.: 0.89\n",
            "67000 train: 1772.49   valid: 2122.41   diff: -349.92   loss train ev.: -0.84   loss val ev.: 0.91\n",
            "68000 train: 1771.73   valid: 2123.19   diff: -351.46   loss train ev.: -0.76   loss val ev.: 0.79\n",
            "69000 train: 1770.87   valid: 2123.91   diff: -353.04   loss train ev.: -0.86   loss val ev.: 0.72\n",
            "70000 train: 1770.31   valid: 2124.28   diff: -353.98   loss train ev.: -0.56   loss val ev.: 0.37\n",
            "71000 train: 1769.82   valid: 2124.69   diff: -354.87   loss train ev.: -0.49   loss val ev.: 0.41\n",
            "72000 train: 1769.40   valid: 2124.88   diff: -355.48   loss train ev.: -0.42   loss val ev.: 0.19\n",
            "73000 train: 1769.03   valid: 2125.12   diff: -356.09   loss train ev.: -0.37   loss val ev.: 0.24\n",
            "74000 train: 1768.66   valid: 2125.23   diff: -356.57   loss train ev.: -0.37   loss val ev.: 0.11\n",
            "75000 train: 1768.30   valid: 2125.31   diff: -357.01   loss train ev.: -0.37   loss val ev.: 0.07\n",
            "76000 train: 1767.95   valid: 2125.40   diff: -357.45   loss train ev.: -0.34   loss val ev.: 0.10\n",
            "77000 train: 1767.63   valid: 2125.55   diff: -357.93   loss train ev.: -0.33   loss val ev.: 0.15\n",
            "78000 train: 1767.28   valid: 2125.67   diff: -358.39   loss train ev.: -0.34   loss val ev.: 0.11\n",
            "79000 train: 1766.93   valid: 2125.74   diff: -358.81   loss train ev.: -0.35   loss val ev.: 0.07\n",
            "80000 train: 1766.58   valid: 2125.84   diff: -359.26   loss train ev.: -0.35   loss val ev.: 0.11\n",
            "81000 train: 1766.26   valid: 2126.01   diff: -359.75   loss train ev.: -0.32   loss val ev.: 0.17\n",
            "82000 train: 1765.96   valid: 2126.19   diff: -360.22   loss train ev.: -0.30   loss val ev.: 0.18\n",
            "83000 train: 1765.68   valid: 2126.42   diff: -360.75   loss train ev.: -0.29   loss val ev.: 0.23\n",
            "84000 train: 1765.39   valid: 2126.62   diff: -361.23   loss train ev.: -0.28   loss val ev.: 0.20\n",
            "85000 train: 1765.12   valid: 2126.81   diff: -361.69   loss train ev.: -0.28   loss val ev.: 0.19\n",
            "86000 train: 1764.85   valid: 2126.99   diff: -362.14   loss train ev.: -0.27   loss val ev.: 0.18\n",
            "87000 train: 1764.58   valid: 2127.15   diff: -362.57   loss train ev.: -0.27   loss val ev.: 0.16\n",
            "88000 train: 1764.31   valid: 2127.27   diff: -362.96   loss train ev.: -0.27   loss val ev.: 0.12\n",
            "89000 train: 1764.01   valid: 2127.25   diff: -363.24   loss train ev.: -0.30   loss val ev.: -0.02\n",
            "90000 train: 1763.73   valid: 2127.31   diff: -363.58   loss train ev.: -0.28   loss val ev.: 0.05\n",
            "91000 train: 1763.46   valid: 2127.42   diff: -363.96   loss train ev.: -0.27   loss val ev.: 0.11\n",
            "92000 train: 1763.20   valid: 2127.54   diff: -364.34   loss train ev.: -0.26   loss val ev.: 0.12\n",
            "93000 train: 1762.94   valid: 2127.69   diff: -364.76   loss train ev.: -0.26   loss val ev.: 0.15\n",
            "94000 train: 1762.68   valid: 2127.85   diff: -365.17   loss train ev.: -0.26   loss val ev.: 0.16\n",
            "95000 train: 1762.37   valid: 2128.21   diff: -365.84   loss train ev.: -0.31   loss val ev.: 0.36\n",
            "96000 train: 1762.03   valid: 2128.50   diff: -366.46   loss train ev.: -0.33   loss val ev.: 0.29\n",
            "97000 train: 1761.69   valid: 2128.70   diff: -367.01   loss train ev.: -0.35   loss val ev.: 0.20\n",
            "98000 train: 1761.35   valid: 2128.79   diff: -367.44   loss train ev.: -0.33   loss val ev.: 0.10\n",
            "99000 train: 1761.05   valid: 2128.96   diff: -367.91   loss train ev.: -0.30   loss val ev.: 0.17\n",
            "100000 train: 1760.74   valid: 2129.09   diff: -368.35   loss train ev.: -0.31   loss val ev.: 0.13\n"
          ]
        },
        {
          "output_type": "display_data",
          "data": {
            "text/plain": [
              "<Figure size 432x288 with 1 Axes>"
            ],
            "image/png": "[encoded data removed]"
          },
          "metadata": {
            "needs_background": "light"
          }
        },
        {
          "output_type": "display_data",
          "data": {
            "text/plain": [
              "<Figure size 432x288 with 1 Axes>"
            ],
            "image/png": "[encoded data removed]"
          },
          "metadata": {
            "needs_background": "light"
          }
        }
      ]
    },
    {
      "cell_type": "markdown",
      "metadata": {
        "id": "UdUBr3fJboZL"
      },
      "source": [
        "## Takeaway\n",
        "\n",
        "You've implemented your first ANN. \n",
        "\n",
        "Ok it was a quite simple ANN, but you can still be proud of you!\n",
        "\n",
        "We will now try extract the main notions you're supposed to grasp having endured that adventure. \n",
        "\n",
        "**A task-dependent ANN model with specific design choices**\n",
        "\n",
        "The architecture of our ANN has been defined based on the task we were adressing. Recall that in our case we were dealing with a specific regression task in which our predictior (ANN) was of the form: $\\hat{f}: \\mathbb{R}^3 \\rightarrow \\mathbb{R}^3$. Always keep in mind what's your goal: given the (x,y,z) 3D coordinates of an object at time $t$, we were asked to predict the location of the object in that same space at time $t+1$.\n",
        "\n",
        "Hence, even if we tried to be as generic as possible, e.g. introducing $D_{in}$ and $D_{out}$ to refer to the input, and output sizes, those values, among others, had to be defined to even think about effectively use the ANN, i.e. to make predictions. This was required to process a given input and produce an output because the shapes of $ W_1 $ and $ W_2 $ were also dependent of these values.\n",
        "\n",
        "In our case we defined $D_{in} = D_{out} = 3$ because the task we were dealing required us to ($\\hat{f}: \\mathbb{R}^3 \\rightarrow \\mathbb{R}^3$). Dealing with another task, e.g. classification task, and/or the need to process other types of inputs, or to produce other outputs would require us to make potentially important modifications to our network. This has to be very clear to you.\n",
        "\n",
        "Designing our network, we also arbitrarily defined several things related to its architecture : we chose to only use a single hidden layer, with a specific number of neurons ($H$), that were characterized by a similar activation function (Relu). The type of ANN we finally defined is called a [feedforward neural network](https://en.wikipedia.org/wiki/Feedforward_neural_network) (no cycles in the flow of information).\n",
        "\n",
        "All these design choices could have been different. We could have changed the number of neurons, the number of layers, the activation function, even the connexions between neurons. Once again, those choices had to be defined in order to obtain a usable network, as they define the way the output will be computed from an input. \n",
        "\n",
        "Expert in machine learning and deep learning know the litterature generally have an idea of what types of networks are more susceptible to work dealing with a specific task. They also know how to apply well-defined procedures to train various models and compare their results in a meaningfull way, which is always mandatory in the end to train and obtain a new network trained for a specific task on new data.\n",
        "\n",
        "We therefore distinguish: \n",
        "* Type of networks: feedforward, recurrent...\n",
        "* hyperparameters: number of layers, neurons, types of activation function...\n",
        "* parameters: weights (and bias) of the network that are effectively trainable (values stored in $W_1$ and $W_2$ in our case).  \n",
        "\n",
        "The architecture of the network and the hyperparameters define the way the function mapping the input to the output is constrained (it defines a set of functions). \n",
        "\n",
        "The parameters are implicitly defined by the design of the network, e.g. in our simple network, the hyperparameters $D_{in}$, $D_{out}$ and $H$ are defining the shapes of the matrices $W_1$ and $W_2$ storing the networks' parameters. \n",
        "\n",
        "Once fixed, i.e. assigned to a specific value, the parameters finally fully define the predictor, the function $\\hat{f}$ we will be able to use to map an input to an output.     \n",
        "\n",
        "**The general training procedure is not tight to a specific ANN or Task**\n",
        "\n",
        "The training procedure has been used to find the good value of the parameters with regard to a specific objective we defined. \n",
        "\n",
        "The objective we considered is the minimization a loss function (it get more complex when we distinguish training, validation and test losses but don't get lost, what we wanted was to minimize a loss considering specific constraints). \n",
        "\n",
        "Recall, the training procedure we used. \n",
        "It worked iteratively as follows: \n",
        "\n",
        "* We iterate several times on the training data (eventually processing splits):\n",
        "  1. Forward pass: The predictor is used to makes predictions on the given inputs.\n",
        "  2. Backward pass: \n",
        "    * We compute the training loss comparing expected values and predictions\n",
        "    * We compute the gradient of the loss function with respect to the parameters of the ANN.\n",
        "    * We modify the parameters using the gradient.  \n",
        "  3. We evaluate a stopping criterion (e.g. based on the loss on a validation set)\n",
        "\n",
        "Obviously, this is a general sketch and each step contains technical aspects. However, the procedure is fully generic considering that: \n",
        "* the ANN is given \n",
        "* the loss is defined\n",
        "* we can compute the gradient of the loss function with respect to the parameters of the ANN (which was in the end the only technical part we had to deal with)\n",
        "\n",
        "\n",
        "Now, read carefully, let's imagine a world where, considering a loss and a set of labeled inputs, computing the gradient of the loss function with respect to the parameters of an ANN would be as easy as calling a function once the forward pass of the ANN is defined. Read again. \n",
        "\n",
        "This world exists, it's yours! \n"
      ]
    },
    {
      "cell_type": "markdown",
      "metadata": {
        "id": "w7vgU9gm18rG"
      },
      "source": [
        "> **Exercise \"Explain me what's an ANN.\"**\n",
        ">\n",
        "> Developing ANNs in the following sessions will require you to master the basic concepts. Take a sheet of paper. \n",
        ">  \n",
        "> Considering a supervised setting:\n",
        "> * Introduce what's an ANN; distinguish the main components, illustrate and formalize them.\n",
        "> * Explain how to train an ANN considering a specific dataset.  \n",
        "> * Express an illustration of simple network using Linear Algebra notations we used in the course (it will be important for you to understand this for the next sessions). \n",
        "> "
      ]
    },
    {
      "cell_type": "markdown",
      "metadata": {
        "id": "6IOKJZ6bwSVt"
      },
      "source": [
        "## Resources \n",
        "* [Machine learning](https://en.wikipedia.org/wiki/Machine_learning)\n",
        "* [Supervised learning](https://en.wikipedia.org/wiki/Supervised_learning)\n",
        "* [Feedforward neural networks](https://en.wikipedia.org/wiki/Feedforward_neural_network)\n",
        "* [Backpropagation](https://en.wikipedia.org/wiki/Backpropagation)\n",
        "* [Chain rule](https://en.wikipedia.org/wiki/Chain_rule)\n",
        "\n",
        "\n",
        "********"
      ]
    }
  ]
}