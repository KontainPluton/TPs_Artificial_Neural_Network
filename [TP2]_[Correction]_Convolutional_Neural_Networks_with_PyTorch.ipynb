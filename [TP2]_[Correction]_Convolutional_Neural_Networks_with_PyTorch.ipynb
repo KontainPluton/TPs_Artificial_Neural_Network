{
  "nbformat": 4,
  "nbformat_minor": 0,
  "metadata": {
    "accelerator": "GPU",
    "colab": {
      "provenance": [],
      "collapsed_sections": [],
      "include_colab_link": true
    },
    "kernelspec": {
      "display_name": "Python 3",
      "name": "python3"
    },
    "widgets": {
      "application/vnd.jupyter.widget-state+json": {
        "0662308d82df42adb517b3898d26878d": {
          "model_module": "@jupyter-widgets/controls",
          "model_name": "HBoxModel",
          "model_module_version": "1.5.0",
          "state": {
            "_dom_classes": [],
            "_model_module": "@jupyter-widgets/controls",
            "_model_module_version": "1.5.0",
            "_model_name": "HBoxModel",
            "_view_count": null,
            "_view_module": "@jupyter-widgets/controls",
            "_view_module_version": "1.5.0",
            "_view_name": "HBoxView",
            "box_style": "",
            "children": [
              "IPY_MODEL_cb73a6f502604cf0acc448239b2addd8",
              "IPY_MODEL_2ee1a31ebdcf4df6bc086d407a95f62c",
              "IPY_MODEL_bc9336a1159d4f96a54f814c06e4a130"
            ],
            "layout": "IPY_MODEL_9d4178533f134a00855a2696dc8f6e9f"
          }
        },
        "cb73a6f502604cf0acc448239b2addd8": {
          "model_module": "@jupyter-widgets/controls",
          "model_name": "HTMLModel",
          "model_module_version": "1.5.0",
          "state": {
            "_dom_classes": [],
            "_model_module": "@jupyter-widgets/controls",
            "_model_module_version": "1.5.0",
            "_model_name": "HTMLModel",
            "_view_count": null,
            "_view_module": "@jupyter-widgets/controls",
            "_view_module_version": "1.5.0",
            "_view_name": "HTMLView",
            "description": "",
            "description_tooltip": null,
            "layout": "IPY_MODEL_b9d9986078e14b8dac1b7b0b19c447c7",
            "placeholder": "​",
            "style": "IPY_MODEL_696be39fb6c24c799d00bd818e5e997a",
            "value": "100%"
          }
        },
        "2ee1a31ebdcf4df6bc086d407a95f62c": {
          "model_module": "@jupyter-widgets/controls",
          "model_name": "FloatProgressModel",
          "model_module_version": "1.5.0",
          "state": {
            "_dom_classes": [],
            "_model_module": "@jupyter-widgets/controls",
            "_model_module_version": "1.5.0",
            "_model_name": "FloatProgressModel",
            "_view_count": null,
            "_view_module": "@jupyter-widgets/controls",
            "_view_module_version": "1.5.0",
            "_view_name": "ProgressView",
            "bar_style": "success",
            "description": "",
            "description_tooltip": null,
            "layout": "IPY_MODEL_14b4b0f7821c4284bea9999553417344",
            "max": 9912422,
            "min": 0,
            "orientation": "horizontal",
            "style": "IPY_MODEL_b438079ca73e423a85e3d71af4373363",
            "value": 9912422
          }
        },
        "bc9336a1159d4f96a54f814c06e4a130": {
          "model_module": "@jupyter-widgets/controls",
          "model_name": "HTMLModel",
          "model_module_version": "1.5.0",
          "state": {
            "_dom_classes": [],
            "_model_module": "@jupyter-widgets/controls",
            "_model_module_version": "1.5.0",
            "_model_name": "HTMLModel",
            "_view_count": null,
            "_view_module": "@jupyter-widgets/controls",
            "_view_module_version": "1.5.0",
            "_view_name": "HTMLView",
            "description": "",
            "description_tooltip": null,
            "layout": "IPY_MODEL_75773557219d4e49837bc70492b9699e",
            "placeholder": "​",
            "style": "IPY_MODEL_48e2cd7a39f44ff5bf1d3f5ce03e7c47",
            "value": " 9912422/9912422 [00:01&lt;00:00, 10934345.18it/s]"
          }
        },
        "9d4178533f134a00855a2696dc8f6e9f": {
          "model_module": "@jupyter-widgets/base",
          "model_name": "LayoutModel",
          "model_module_version": "1.2.0",
          "state": {
            "_model_module": "@jupyter-widgets/base",
            "_model_module_version": "1.2.0",
            "_model_name": "LayoutModel",
            "_view_count": null,
            "_view_module": "@jupyter-widgets/base",
            "_view_module_version": "1.2.0",
            "_view_name": "LayoutView",
            "align_content": null,
            "align_items": null,
            "align_self": null,
            "border": null,
            "bottom": null,
            "display": null,
            "flex": null,
            "flex_flow": null,
            "grid_area": null,
            "grid_auto_columns": null,
            "grid_auto_flow": null,
            "grid_auto_rows": null,
            "grid_column": null,
            "grid_gap": null,
            "grid_row": null,
            "grid_template_areas": null,
            "grid_template_columns": null,
            "grid_template_rows": null,
            "height": null,
            "justify_content": null,
            "justify_items": null,
            "left": null,
            "margin": null,
            "max_height": null,
            "max_width": null,
            "min_height": null,
            "min_width": null,
            "object_fit": null,
            "object_position": null,
            "order": null,
            "overflow": null,
            "overflow_x": null,
            "overflow_y": null,
            "padding": null,
            "right": null,
            "top": null,
            "visibility": null,
            "width": null
          }
        },
        "b9d9986078e14b8dac1b7b0b19c447c7": {
          "model_module": "@jupyter-widgets/base",
          "model_name": "LayoutModel",
          "model_module_version": "1.2.0",
          "state": {
            "_model_module": "@jupyter-widgets/base",
            "_model_module_version": "1.2.0",
            "_model_name": "LayoutModel",
            "_view_count": null,
            "_view_module": "@jupyter-widgets/base",
            "_view_module_version": "1.2.0",
            "_view_name": "LayoutView",
            "align_content": null,
            "align_items": null,
            "align_self": null,
            "border": null,
            "bottom": null,
            "display": null,
            "flex": null,
            "flex_flow": null,
            "grid_area": null,
            "grid_auto_columns": null,
            "grid_auto_flow": null,
            "grid_auto_rows": null,
            "grid_column": null,
            "grid_gap": null,
            "grid_row": null,
            "grid_template_areas": null,
            "grid_template_columns": null,
            "grid_template_rows": null,
            "height": null,
            "justify_content": null,
            "justify_items": null,
            "left": null,
            "margin": null,
            "max_height": null,
            "max_width": null,
            "min_height": null,
            "min_width": null,
            "object_fit": null,
            "object_position": null,
            "order": null,
            "overflow": null,
            "overflow_x": null,
            "overflow_y": null,
            "padding": null,
            "right": null,
            "top": null,
            "visibility": null,
            "width": null
          }
        },
        "696be39fb6c24c799d00bd818e5e997a": {
          "model_module": "@jupyter-widgets/controls",
          "model_name": "DescriptionStyleModel",
          "model_module_version": "1.5.0",
          "state": {
            "_model_module": "@jupyter-widgets/controls",
            "_model_module_version": "1.5.0",
            "_model_name": "DescriptionStyleModel",
            "_view_count": null,
            "_view_module": "@jupyter-widgets/base",
            "_view_module_version": "1.2.0",
            "_view_name": "StyleView",
            "description_width": ""
          }
        },
        "14b4b0f7821c4284bea9999553417344": {
          "model_module": "@jupyter-widgets/base",
          "model_name": "LayoutModel",
          "model_module_version": "1.2.0",
          "state": {
            "_model_module": "@jupyter-widgets/base",
            "_model_module_version": "1.2.0",
            "_model_name": "LayoutModel",
            "_view_count": null,
            "_view_module": "@jupyter-widgets/base",
            "_view_module_version": "1.2.0",
            "_view_name": "LayoutView",
            "align_content": null,
            "align_items": null,
            "align_self": null,
            "border": null,
            "bottom": null,
            "display": null,
            "flex": null,
            "flex_flow": null,
            "grid_area": null,
            "grid_auto_columns": null,
            "grid_auto_flow": null,
            "grid_auto_rows": null,
            "grid_column": null,
            "grid_gap": null,
            "grid_row": null,
            "grid_template_areas": null,
            "grid_template_columns": null,
            "grid_template_rows": null,
            "height": null,
            "justify_content": null,
            "justify_items": null,
            "left": null,
            "margin": null,
            "max_height": null,
            "max_width": null,
            "min_height": null,
            "min_width": null,
            "object_fit": null,
            "object_position": null,
            "order": null,
            "overflow": null,
            "overflow_x": null,
            "overflow_y": null,
            "padding": null,
            "right": null,
            "top": null,
            "visibility": null,
            "width": null
          }
        },
        "b438079ca73e423a85e3d71af4373363": {
          "model_module": "@jupyter-widgets/controls",
          "model_name": "ProgressStyleModel",
          "model_module_version": "1.5.0",
          "state": {
            "_model_module": "@jupyter-widgets/controls",
            "_model_module_version": "1.5.0",
            "_model_name": "ProgressStyleModel",
            "_view_count": null,
            "_view_module": "@jupyter-widgets/base",
            "_view_module_version": "1.2.0",
            "_view_name": "StyleView",
            "bar_color": null,
            "description_width": ""
          }
        },
        "75773557219d4e49837bc70492b9699e": {
          "model_module": "@jupyter-widgets/base",
          "model_name": "LayoutModel",
          "model_module_version": "1.2.0",
          "state": {
            "_model_module": "@jupyter-widgets/base",
            "_model_module_version": "1.2.0",
            "_model_name": "LayoutModel",
            "_view_count": null,
            "_view_module": "@jupyter-widgets/base",
            "_view_module_version": "1.2.0",
            "_view_name": "LayoutView",
            "align_content": null,
            "align_items": null,
            "align_self": null,
            "border": null,
            "bottom": null,
            "display": null,
            "flex": null,
            "flex_flow": null,
            "grid_area": null,
            "grid_auto_columns": null,
            "grid_auto_flow": null,
            "grid_auto_rows": null,
            "grid_column": null,
            "grid_gap": null,
            "grid_row": null,
            "grid_template_areas": null,
            "grid_template_columns": null,
            "grid_template_rows": null,
            "height": null,
            "justify_content": null,
            "justify_items": null,
            "left": null,
            "margin": null,
            "max_height": null,
            "max_width": null,
            "min_height": null,
            "min_width": null,
            "object_fit": null,
            "object_position": null,
            "order": null,
            "overflow": null,
            "overflow_x": null,
            "overflow_y": null,
            "padding": null,
            "right": null,
            "top": null,
            "visibility": null,
            "width": null
          }
        },
        "48e2cd7a39f44ff5bf1d3f5ce03e7c47": {
          "model_module": "@jupyter-widgets/controls",
          "model_name": "DescriptionStyleModel",
          "model_module_version": "1.5.0",
          "state": {
            "_model_module": "@jupyter-widgets/controls",
            "_model_module_version": "1.5.0",
            "_model_name": "DescriptionStyleModel",
            "_view_count": null,
            "_view_module": "@jupyter-widgets/base",
            "_view_module_version": "1.2.0",
            "_view_name": "StyleView",
            "description_width": ""
          }
        },
        "1232b898dc0e489bbcc5a3962671d264": {
          "model_module": "@jupyter-widgets/controls",
          "model_name": "HBoxModel",
          "model_module_version": "1.5.0",
          "state": {
            "_dom_classes": [],
            "_model_module": "@jupyter-widgets/controls",
            "_model_module_version": "1.5.0",
            "_model_name": "HBoxModel",
            "_view_count": null,
            "_view_module": "@jupyter-widgets/controls",
            "_view_module_version": "1.5.0",
            "_view_name": "HBoxView",
            "box_style": "",
            "children": [
              "IPY_MODEL_a14430fad99c4ae0b9b115be9565f80f",
              "IPY_MODEL_2b10ace7fcf74e9e91af1280220af19b",
              "IPY_MODEL_935acb221eb1450992ecebc854d38bf6"
            ],
            "layout": "IPY_MODEL_5950284384314110af3389e72e19e571"
          }
        },
        "a14430fad99c4ae0b9b115be9565f80f": {
          "model_module": "@jupyter-widgets/controls",
          "model_name": "HTMLModel",
          "model_module_version": "1.5.0",
          "state": {
            "_dom_classes": [],
            "_model_module": "@jupyter-widgets/controls",
            "_model_module_version": "1.5.0",
            "_model_name": "HTMLModel",
            "_view_count": null,
            "_view_module": "@jupyter-widgets/controls",
            "_view_module_version": "1.5.0",
            "_view_name": "HTMLView",
            "description": "",
            "description_tooltip": null,
            "layout": "IPY_MODEL_27638e293ae648388d19a4ac0177f038",
            "placeholder": "​",
            "style": "IPY_MODEL_0b5514385993469aa5adbbe09f8f99d4",
            "value": "100%"
          }
        },
        "2b10ace7fcf74e9e91af1280220af19b": {
          "model_module": "@jupyter-widgets/controls",
          "model_name": "FloatProgressModel",
          "model_module_version": "1.5.0",
          "state": {
            "_dom_classes": [],
            "_model_module": "@jupyter-widgets/controls",
            "_model_module_version": "1.5.0",
            "_model_name": "FloatProgressModel",
            "_view_count": null,
            "_view_module": "@jupyter-widgets/controls",
            "_view_module_version": "1.5.0",
            "_view_name": "ProgressView",
            "bar_style": "success",
            "description": "",
            "description_tooltip": null,
            "layout": "IPY_MODEL_8cc3300f8de64fdeb373629c3468b2b9",
            "max": 28881,
            "min": 0,
            "orientation": "horizontal",
            "style": "IPY_MODEL_b0e00b3a93354320b74e193fdb574147",
            "value": 28881
          }
        },
        "935acb221eb1450992ecebc854d38bf6": {
          "model_module": "@jupyter-widgets/controls",
          "model_name": "HTMLModel",
          "model_module_version": "1.5.0",
          "state": {
            "_dom_classes": [],
            "_model_module": "@jupyter-widgets/controls",
            "_model_module_version": "1.5.0",
            "_model_name": "HTMLModel",
            "_view_count": null,
            "_view_module": "@jupyter-widgets/controls",
            "_view_module_version": "1.5.0",
            "_view_name": "HTMLView",
            "description": "",
            "description_tooltip": null,
            "layout": "IPY_MODEL_3b39bdaca4f24b96a8f2ae08bf556de6",
            "placeholder": "​",
            "style": "IPY_MODEL_ced8059b31e3461f9002968c8b8a998b",
            "value": " 28881/28881 [00:00&lt;00:00, 728171.47it/s]"
          }
        },
        "5950284384314110af3389e72e19e571": {
          "model_module": "@jupyter-widgets/base",
          "model_name": "LayoutModel",
          "model_module_version": "1.2.0",
          "state": {
            "_model_module": "@jupyter-widgets/base",
            "_model_module_version": "1.2.0",
            "_model_name": "LayoutModel",
            "_view_count": null,
            "_view_module": "@jupyter-widgets/base",
            "_view_module_version": "1.2.0",
            "_view_name": "LayoutView",
            "align_content": null,
            "align_items": null,
            "align_self": null,
            "border": null,
            "bottom": null,
            "display": null,
            "flex": null,
            "flex_flow": null,
            "grid_area": null,
            "grid_auto_columns": null,
            "grid_auto_flow": null,
            "grid_auto_rows": null,
            "grid_column": null,
            "grid_gap": null,
            "grid_row": null,
            "grid_template_areas": null,
            "grid_template_columns": null,
            "grid_template_rows": null,
            "height": null,
            "justify_content": null,
            "justify_items": null,
            "left": null,
            "margin": null,
            "max_height": null,
            "max_width": null,
            "min_height": null,
            "min_width": null,
            "object_fit": null,
            "object_position": null,
            "order": null,
            "overflow": null,
            "overflow_x": null,
            "overflow_y": null,
            "padding": null,
            "right": null,
            "top": null,
            "visibility": null,
            "width": null
          }
        },
        "27638e293ae648388d19a4ac0177f038": {
          "model_module": "@jupyter-widgets/base",
          "model_name": "LayoutModel",
          "model_module_version": "1.2.0",
          "state": {
            "_model_module": "@jupyter-widgets/base",
            "_model_module_version": "1.2.0",
            "_model_name": "LayoutModel",
            "_view_count": null,
            "_view_module": "@jupyter-widgets/base",
            "_view_module_version": "1.2.0",
            "_view_name": "LayoutView",
            "align_content": null,
            "align_items": null,
            "align_self": null,
            "border": null,
            "bottom": null,
            "display": null,
            "flex": null,
            "flex_flow": null,
            "grid_area": null,
            "grid_auto_columns": null,
            "grid_auto_flow": null,
            "grid_auto_rows": null,
            "grid_column": null,
            "grid_gap": null,
            "grid_row": null,
            "grid_template_areas": null,
            "grid_template_columns": null,
            "grid_template_rows": null,
            "height": null,
            "justify_content": null,
            "justify_items": null,
            "left": null,
            "margin": null,
            "max_height": null,
            "max_width": null,
            "min_height": null,
            "min_width": null,
            "object_fit": null,
            "object_position": null,
            "order": null,
            "overflow": null,
            "overflow_x": null,
            "overflow_y": null,
            "padding": null,
            "right": null,
            "top": null,
            "visibility": null,
            "width": null
          }
        },
        "0b5514385993469aa5adbbe09f8f99d4": {
          "model_module": "@jupyter-widgets/controls",
          "model_name": "DescriptionStyleModel",
          "model_module_version": "1.5.0",
          "state": {
            "_model_module": "@jupyter-widgets/controls",
            "_model_module_version": "1.5.0",
            "_model_name": "DescriptionStyleModel",
            "_view_count": null,
            "_view_module": "@jupyter-widgets/base",
            "_view_module_version": "1.2.0",
            "_view_name": "StyleView",
            "description_width": ""
          }
        },
        "8cc3300f8de64fdeb373629c3468b2b9": {
          "model_module": "@jupyter-widgets/base",
          "model_name": "LayoutModel",
          "model_module_version": "1.2.0",
          "state": {
            "_model_module": "@jupyter-widgets/base",
            "_model_module_version": "1.2.0",
            "_model_name": "LayoutModel",
            "_view_count": null,
            "_view_module": "@jupyter-widgets/base",
            "_view_module_version": "1.2.0",
            "_view_name": "LayoutView",
            "align_content": null,
            "align_items": null,
            "align_self": null,
            "border": null,
            "bottom": null,
            "display": null,
            "flex": null,
            "flex_flow": null,
            "grid_area": null,
            "grid_auto_columns": null,
            "grid_auto_flow": null,
            "grid_auto_rows": null,
            "grid_column": null,
            "grid_gap": null,
            "grid_row": null,
            "grid_template_areas": null,
            "grid_template_columns": null,
            "grid_template_rows": null,
            "height": null,
            "justify_content": null,
            "justify_items": null,
            "left": null,
            "margin": null,
            "max_height": null,
            "max_width": null,
            "min_height": null,
            "min_width": null,
            "object_fit": null,
            "object_position": null,
            "order": null,
            "overflow": null,
            "overflow_x": null,
            "overflow_y": null,
            "padding": null,
            "right": null,
            "top": null,
            "visibility": null,
            "width": null
          }
        },
        "b0e00b3a93354320b74e193fdb574147": {
          "model_module": "@jupyter-widgets/controls",
          "model_name": "ProgressStyleModel",
          "model_module_version": "1.5.0",
          "state": {
            "_model_module": "@jupyter-widgets/controls",
            "_model_module_version": "1.5.0",
            "_model_name": "ProgressStyleModel",
            "_view_count": null,
            "_view_module": "@jupyter-widgets/base",
            "_view_module_version": "1.2.0",
            "_view_name": "StyleView",
            "bar_color": null,
            "description_width": ""
          }
        },
        "3b39bdaca4f24b96a8f2ae08bf556de6": {
          "model_module": "@jupyter-widgets/base",
          "model_name": "LayoutModel",
          "model_module_version": "1.2.0",
          "state": {
            "_model_module": "@jupyter-widgets/base",
            "_model_module_version": "1.2.0",
            "_model_name": "LayoutModel",
            "_view_count": null,
            "_view_module": "@jupyter-widgets/base",
            "_view_module_version": "1.2.0",
            "_view_name": "LayoutView",
            "align_content": null,
            "align_items": null,
            "align_self": null,
            "border": null,
            "bottom": null,
            "display": null,
            "flex": null,
            "flex_flow": null,
            "grid_area": null,
            "grid_auto_columns": null,
            "grid_auto_flow": null,
            "grid_auto_rows": null,
            "grid_column": null,
            "grid_gap": null,
            "grid_row": null,
            "grid_template_areas": null,
            "grid_template_columns": null,
            "grid_template_rows": null,
            "height": null,
            "justify_content": null,
            "justify_items": null,
            "left": null,
            "margin": null,
            "max_height": null,
            "max_width": null,
            "min_height": null,
            "min_width": null,
            "object_fit": null,
            "object_position": null,
            "order": null,
            "overflow": null,
            "overflow_x": null,
            "overflow_y": null,
            "padding": null,
            "right": null,
            "top": null,
            "visibility": null,
            "width": null
          }
        },
        "ced8059b31e3461f9002968c8b8a998b": {
          "model_module": "@jupyter-widgets/controls",
          "model_name": "DescriptionStyleModel",
          "model_module_version": "1.5.0",
          "state": {
            "_model_module": "@jupyter-widgets/controls",
            "_model_module_version": "1.5.0",
            "_model_name": "DescriptionStyleModel",
            "_view_count": null,
            "_view_module": "@jupyter-widgets/base",
            "_view_module_version": "1.2.0",
            "_view_name": "StyleView",
            "description_width": ""
          }
        },
        "b012643d5a61441093261a593547765c": {
          "model_module": "@jupyter-widgets/controls",
          "model_name": "HBoxModel",
          "model_module_version": "1.5.0",
          "state": {
            "_dom_classes": [],
            "_model_module": "@jupyter-widgets/controls",
            "_model_module_version": "1.5.0",
            "_model_name": "HBoxModel",
            "_view_count": null,
            "_view_module": "@jupyter-widgets/controls",
            "_view_module_version": "1.5.0",
            "_view_name": "HBoxView",
            "box_style": "",
            "children": [
              "IPY_MODEL_f332fe3804da47f4ac131bf04a1b8df8",
              "IPY_MODEL_8d9ea219a65a4e139066a674e010c671",
              "IPY_MODEL_dbd2c60224504a64a88b43b203106f30"
            ],
            "layout": "IPY_MODEL_8cfc7994a7bc49b6924ccc3c2f330073"
          }
        },
        "f332fe3804da47f4ac131bf04a1b8df8": {
          "model_module": "@jupyter-widgets/controls",
          "model_name": "HTMLModel",
          "model_module_version": "1.5.0",
          "state": {
            "_dom_classes": [],
            "_model_module": "@jupyter-widgets/controls",
            "_model_module_version": "1.5.0",
            "_model_name": "HTMLModel",
            "_view_count": null,
            "_view_module": "@jupyter-widgets/controls",
            "_view_module_version": "1.5.0",
            "_view_name": "HTMLView",
            "description": "",
            "description_tooltip": null,
            "layout": "IPY_MODEL_bdc49f16759f46b8a81501b2f7839123",
            "placeholder": "​",
            "style": "IPY_MODEL_d5bc9fa991244c969b5ea86c858df177",
            "value": "100%"
          }
        },
        "8d9ea219a65a4e139066a674e010c671": {
          "model_module": "@jupyter-widgets/controls",
          "model_name": "FloatProgressModel",
          "model_module_version": "1.5.0",
          "state": {
            "_dom_classes": [],
            "_model_module": "@jupyter-widgets/controls",
            "_model_module_version": "1.5.0",
            "_model_name": "FloatProgressModel",
            "_view_count": null,
            "_view_module": "@jupyter-widgets/controls",
            "_view_module_version": "1.5.0",
            "_view_name": "ProgressView",
            "bar_style": "success",
            "description": "",
            "description_tooltip": null,
            "layout": "IPY_MODEL_0b3417fbb1a6434fa721d21362914f6d",
            "max": 1648877,
            "min": 0,
            "orientation": "horizontal",
            "style": "IPY_MODEL_cee08368e3414f85ad89a997202a3f89",
            "value": 1648877
          }
        },
        "dbd2c60224504a64a88b43b203106f30": {
          "model_module": "@jupyter-widgets/controls",
          "model_name": "HTMLModel",
          "model_module_version": "1.5.0",
          "state": {
            "_dom_classes": [],
            "_model_module": "@jupyter-widgets/controls",
            "_model_module_version": "1.5.0",
            "_model_name": "HTMLModel",
            "_view_count": null,
            "_view_module": "@jupyter-widgets/controls",
            "_view_module_version": "1.5.0",
            "_view_name": "HTMLView",
            "description": "",
            "description_tooltip": null,
            "layout": "IPY_MODEL_de3edf195188482dbb1ba5a3c3e0ef9f",
            "placeholder": "​",
            "style": "IPY_MODEL_d44b41796edd4a87939dab75adc67bec",
            "value": " 1648877/1648877 [00:00&lt;00:00, 4669508.23it/s]"
          }
        },
        "8cfc7994a7bc49b6924ccc3c2f330073": {
          "model_module": "@jupyter-widgets/base",
          "model_name": "LayoutModel",
          "model_module_version": "1.2.0",
          "state": {
            "_model_module": "@jupyter-widgets/base",
            "_model_module_version": "1.2.0",
            "_model_name": "LayoutModel",
            "_view_count": null,
            "_view_module": "@jupyter-widgets/base",
            "_view_module_version": "1.2.0",
            "_view_name": "LayoutView",
            "align_content": null,
            "align_items": null,
            "align_self": null,
            "border": null,
            "bottom": null,
            "display": null,
            "flex": null,
            "flex_flow": null,
            "grid_area": null,
            "grid_auto_columns": null,
            "grid_auto_flow": null,
            "grid_auto_rows": null,
            "grid_column": null,
            "grid_gap": null,
            "grid_row": null,
            "grid_template_areas": null,
            "grid_template_columns": null,
            "grid_template_rows": null,
            "height": null,
            "justify_content": null,
            "justify_items": null,
            "left": null,
            "margin": null,
            "max_height": null,
            "max_width": null,
            "min_height": null,
            "min_width": null,
            "object_fit": null,
            "object_position": null,
            "order": null,
            "overflow": null,
            "overflow_x": null,
            "overflow_y": null,
            "padding": null,
            "right": null,
            "top": null,
            "visibility": null,
            "width": null
          }
        },
        "bdc49f16759f46b8a81501b2f7839123": {
          "model_module": "@jupyter-widgets/base",
          "model_name": "LayoutModel",
          "model_module_version": "1.2.0",
          "state": {
            "_model_module": "@jupyter-widgets/base",
            "_model_module_version": "1.2.0",
            "_model_name": "LayoutModel",
            "_view_count": null,
            "_view_module": "@jupyter-widgets/base",
            "_view_module_version": "1.2.0",
            "_view_name": "LayoutView",
            "align_content": null,
            "align_items": null,
            "align_self": null,
            "border": null,
            "bottom": null,
            "display": null,
            "flex": null,
            "flex_flow": null,
            "grid_area": null,
            "grid_auto_columns": null,
            "grid_auto_flow": null,
            "grid_auto_rows": null,
            "grid_column": null,
            "grid_gap": null,
            "grid_row": null,
            "grid_template_areas": null,
            "grid_template_columns": null,
            "grid_template_rows": null,
            "height": null,
            "justify_content": null,
            "justify_items": null,
            "left": null,
            "margin": null,
            "max_height": null,
            "max_width": null,
            "min_height": null,
            "min_width": null,
            "object_fit": null,
            "object_position": null,
            "order": null,
            "overflow": null,
            "overflow_x": null,
            "overflow_y": null,
            "padding": null,
            "right": null,
            "top": null,
            "visibility": null,
            "width": null
          }
        },
        "d5bc9fa991244c969b5ea86c858df177": {
          "model_module": "@jupyter-widgets/controls",
          "model_name": "DescriptionStyleModel",
          "model_module_version": "1.5.0",
          "state": {
            "_model_module": "@jupyter-widgets/controls",
            "_model_module_version": "1.5.0",
            "_model_name": "DescriptionStyleModel",
            "_view_count": null,
            "_view_module": "@jupyter-widgets/base",
            "_view_module_version": "1.2.0",
            "_view_name": "StyleView",
            "description_width": ""
          }
        },
        "0b3417fbb1a6434fa721d21362914f6d": {
          "model_module": "@jupyter-widgets/base",
          "model_name": "LayoutModel",
          "model_module_version": "1.2.0",
          "state": {
            "_model_module": "@jupyter-widgets/base",
            "_model_module_version": "1.2.0",
            "_model_name": "LayoutModel",
            "_view_count": null,
            "_view_module": "@jupyter-widgets/base",
            "_view_module_version": "1.2.0",
            "_view_name": "LayoutView",
            "align_content": null,
            "align_items": null,
            "align_self": null,
            "border": null,
            "bottom": null,
            "display": null,
            "flex": null,
            "flex_flow": null,
            "grid_area": null,
            "grid_auto_columns": null,
            "grid_auto_flow": null,
            "grid_auto_rows": null,
            "grid_column": null,
            "grid_gap": null,
            "grid_row": null,
            "grid_template_areas": null,
            "grid_template_columns": null,
            "grid_template_rows": null,
            "height": null,
            "justify_content": null,
            "justify_items": null,
            "left": null,
            "margin": null,
            "max_height": null,
            "max_width": null,
            "min_height": null,
            "min_width": null,
            "object_fit": null,
            "object_position": null,
            "order": null,
            "overflow": null,
            "overflow_x": null,
            "overflow_y": null,
            "padding": null,
            "right": null,
            "top": null,
            "visibility": null,
            "width": null
          }
        },
        "cee08368e3414f85ad89a997202a3f89": {
          "model_module": "@jupyter-widgets/controls",
          "model_name": "ProgressStyleModel",
          "model_module_version": "1.5.0",
          "state": {
            "_model_module": "@jupyter-widgets/controls",
            "_model_module_version": "1.5.0",
            "_model_name": "ProgressStyleModel",
            "_view_count": null,
            "_view_module": "@jupyter-widgets/base",
            "_view_module_version": "1.2.0",
            "_view_name": "StyleView",
            "bar_color": null,
            "description_width": ""
          }
        },
        "de3edf195188482dbb1ba5a3c3e0ef9f": {
          "model_module": "@jupyter-widgets/base",
          "model_name": "LayoutModel",
          "model_module_version": "1.2.0",
          "state": {
            "_model_module": "@jupyter-widgets/base",
            "_model_module_version": "1.2.0",
            "_model_name": "LayoutModel",
            "_view_count": null,
            "_view_module": "@jupyter-widgets/base",
            "_view_module_version": "1.2.0",
            "_view_name": "LayoutView",
            "align_content": null,
            "align_items": null,
            "align_self": null,
            "border": null,
            "bottom": null,
            "display": null,
            "flex": null,
            "flex_flow": null,
            "grid_area": null,
            "grid_auto_columns": null,
            "grid_auto_flow": null,
            "grid_auto_rows": null,
            "grid_column": null,
            "grid_gap": null,
            "grid_row": null,
            "grid_template_areas": null,
            "grid_template_columns": null,
            "grid_template_rows": null,
            "height": null,
            "justify_content": null,
            "justify_items": null,
            "left": null,
            "margin": null,
            "max_height": null,
            "max_width": null,
            "min_height": null,
            "min_width": null,
            "object_fit": null,
            "object_position": null,
            "order": null,
            "overflow": null,
            "overflow_x": null,
            "overflow_y": null,
            "padding": null,
            "right": null,
            "top": null,
            "visibility": null,
            "width": null
          }
        },
        "d44b41796edd4a87939dab75adc67bec": {
          "model_module": "@jupyter-widgets/controls",
          "model_name": "DescriptionStyleModel",
          "model_module_version": "1.5.0",
          "state": {
            "_model_module": "@jupyter-widgets/controls",
            "_model_module_version": "1.5.0",
            "_model_name": "DescriptionStyleModel",
            "_view_count": null,
            "_view_module": "@jupyter-widgets/base",
            "_view_module_version": "1.2.0",
            "_view_name": "StyleView",
            "description_width": ""
          }
        },
        "3e5104416c8f4211b9bac557c0318edc": {
          "model_module": "@jupyter-widgets/controls",
          "model_name": "HBoxModel",
          "model_module_version": "1.5.0",
          "state": {
            "_dom_classes": [],
            "_model_module": "@jupyter-widgets/controls",
            "_model_module_version": "1.5.0",
            "_model_name": "HBoxModel",
            "_view_count": null,
            "_view_module": "@jupyter-widgets/controls",
            "_view_module_version": "1.5.0",
            "_view_name": "HBoxView",
            "box_style": "",
            "children": [
              "IPY_MODEL_26082ffe21914ab5800d4f245cff7f9e",
              "IPY_MODEL_8f62fd3446f544f59a1ac612a5d60fe5",
              "IPY_MODEL_65514fff2f9b48aa8c71fc76e2ad6f68"
            ],
            "layout": "IPY_MODEL_e6a626cc27dd42ea881991ad48e7be35"
          }
        },
        "26082ffe21914ab5800d4f245cff7f9e": {
          "model_module": "@jupyter-widgets/controls",
          "model_name": "HTMLModel",
          "model_module_version": "1.5.0",
          "state": {
            "_dom_classes": [],
            "_model_module": "@jupyter-widgets/controls",
            "_model_module_version": "1.5.0",
            "_model_name": "HTMLModel",
            "_view_count": null,
            "_view_module": "@jupyter-widgets/controls",
            "_view_module_version": "1.5.0",
            "_view_name": "HTMLView",
            "description": "",
            "description_tooltip": null,
            "layout": "IPY_MODEL_673931533b224c4c9fa0b660c320a3a8",
            "placeholder": "​",
            "style": "IPY_MODEL_338c914eee5147d0a883cadec126d785",
            "value": "100%"
          }
        },
        "8f62fd3446f544f59a1ac612a5d60fe5": {
          "model_module": "@jupyter-widgets/controls",
          "model_name": "FloatProgressModel",
          "model_module_version": "1.5.0",
          "state": {
            "_dom_classes": [],
            "_model_module": "@jupyter-widgets/controls",
            "_model_module_version": "1.5.0",
            "_model_name": "FloatProgressModel",
            "_view_count": null,
            "_view_module": "@jupyter-widgets/controls",
            "_view_module_version": "1.5.0",
            "_view_name": "ProgressView",
            "bar_style": "success",
            "description": "",
            "description_tooltip": null,
            "layout": "IPY_MODEL_4a2b0cf1ef7c44068046d28c1bd6f17a",
            "max": 4542,
            "min": 0,
            "orientation": "horizontal",
            "style": "IPY_MODEL_5ce0a5ac11694ad58f44e33d6d84a3a5",
            "value": 4542
          }
        },
        "65514fff2f9b48aa8c71fc76e2ad6f68": {
          "model_module": "@jupyter-widgets/controls",
          "model_name": "HTMLModel",
          "model_module_version": "1.5.0",
          "state": {
            "_dom_classes": [],
            "_model_module": "@jupyter-widgets/controls",
            "_model_module_version": "1.5.0",
            "_model_name": "HTMLModel",
            "_view_count": null,
            "_view_module": "@jupyter-widgets/controls",
            "_view_module_version": "1.5.0",
            "_view_name": "HTMLView",
            "description": "",
            "description_tooltip": null,
            "layout": "IPY_MODEL_407097339b744061bcfe668e6c74a50b",
            "placeholder": "​",
            "style": "IPY_MODEL_4be1aab428ad4a93a5bbd69bc79b0a3f",
            "value": " 4542/4542 [00:00&lt;00:00, 63222.53it/s]"
          }
        },
        "e6a626cc27dd42ea881991ad48e7be35": {
          "model_module": "@jupyter-widgets/base",
          "model_name": "LayoutModel",
          "model_module_version": "1.2.0",
          "state": {
            "_model_module": "@jupyter-widgets/base",
            "_model_module_version": "1.2.0",
            "_model_name": "LayoutModel",
            "_view_count": null,
            "_view_module": "@jupyter-widgets/base",
            "_view_module_version": "1.2.0",
            "_view_name": "LayoutView",
            "align_content": null,
            "align_items": null,
            "align_self": null,
            "border": null,
            "bottom": null,
            "display": null,
            "flex": null,
            "flex_flow": null,
            "grid_area": null,
            "grid_auto_columns": null,
            "grid_auto_flow": null,
            "grid_auto_rows": null,
            "grid_column": null,
            "grid_gap": null,
            "grid_row": null,
            "grid_template_areas": null,
            "grid_template_columns": null,
            "grid_template_rows": null,
            "height": null,
            "justify_content": null,
            "justify_items": null,
            "left": null,
            "margin": null,
            "max_height": null,
            "max_width": null,
            "min_height": null,
            "min_width": null,
            "object_fit": null,
            "object_position": null,
            "order": null,
            "overflow": null,
            "overflow_x": null,
            "overflow_y": null,
            "padding": null,
            "right": null,
            "top": null,
            "visibility": null,
            "width": null
          }
        },
        "673931533b224c4c9fa0b660c320a3a8": {
          "model_module": "@jupyter-widgets/base",
          "model_name": "LayoutModel",
          "model_module_version": "1.2.0",
          "state": {
            "_model_module": "@jupyter-widgets/base",
            "_model_module_version": "1.2.0",
            "_model_name": "LayoutModel",
            "_view_count": null,
            "_view_module": "@jupyter-widgets/base",
            "_view_module_version": "1.2.0",
            "_view_name": "LayoutView",
            "align_content": null,
            "align_items": null,
            "align_self": null,
            "border": null,
            "bottom": null,
            "display": null,
            "flex": null,
            "flex_flow": null,
            "grid_area": null,
            "grid_auto_columns": null,
            "grid_auto_flow": null,
            "grid_auto_rows": null,
            "grid_column": null,
            "grid_gap": null,
            "grid_row": null,
            "grid_template_areas": null,
            "grid_template_columns": null,
            "grid_template_rows": null,
            "height": null,
            "justify_content": null,
            "justify_items": null,
            "left": null,
            "margin": null,
            "max_height": null,
            "max_width": null,
            "min_height": null,
            "min_width": null,
            "object_fit": null,
            "object_position": null,
            "order": null,
            "overflow": null,
            "overflow_x": null,
            "overflow_y": null,
            "padding": null,
            "right": null,
            "top": null,
            "visibility": null,
            "width": null
          }
        },
        "338c914eee5147d0a883cadec126d785": {
          "model_module": "@jupyter-widgets/controls",
          "model_name": "DescriptionStyleModel",
          "model_module_version": "1.5.0",
          "state": {
            "_model_module": "@jupyter-widgets/controls",
            "_model_module_version": "1.5.0",
            "_model_name": "DescriptionStyleModel",
            "_view_count": null,
            "_view_module": "@jupyter-widgets/base",
            "_view_module_version": "1.2.0",
            "_view_name": "StyleView",
            "description_width": ""
          }
        },
        "4a2b0cf1ef7c44068046d28c1bd6f17a": {
          "model_module": "@jupyter-widgets/base",
          "model_name": "LayoutModel",
          "model_module_version": "1.2.0",
          "state": {
            "_model_module": "@jupyter-widgets/base",
            "_model_module_version": "1.2.0",
            "_model_name": "LayoutModel",
            "_view_count": null,
            "_view_module": "@jupyter-widgets/base",
            "_view_module_version": "1.2.0",
            "_view_name": "LayoutView",
            "align_content": null,
            "align_items": null,
            "align_self": null,
            "border": null,
            "bottom": null,
            "display": null,
            "flex": null,
            "flex_flow": null,
            "grid_area": null,
            "grid_auto_columns": null,
            "grid_auto_flow": null,
            "grid_auto_rows": null,
            "grid_column": null,
            "grid_gap": null,
            "grid_row": null,
            "grid_template_areas": null,
            "grid_template_columns": null,
            "grid_template_rows": null,
            "height": null,
            "justify_content": null,
            "justify_items": null,
            "left": null,
            "margin": null,
            "max_height": null,
            "max_width": null,
            "min_height": null,
            "min_width": null,
            "object_fit": null,
            "object_position": null,
            "order": null,
            "overflow": null,
            "overflow_x": null,
            "overflow_y": null,
            "padding": null,
            "right": null,
            "top": null,
            "visibility": null,
            "width": null
          }
        },
        "5ce0a5ac11694ad58f44e33d6d84a3a5": {
          "model_module": "@jupyter-widgets/controls",
          "model_name": "ProgressStyleModel",
          "model_module_version": "1.5.0",
          "state": {
            "_model_module": "@jupyter-widgets/controls",
            "_model_module_version": "1.5.0",
            "_model_name": "ProgressStyleModel",
            "_view_count": null,
            "_view_module": "@jupyter-widgets/base",
            "_view_module_version": "1.2.0",
            "_view_name": "StyleView",
            "bar_color": null,
            "description_width": ""
          }
        },
        "407097339b744061bcfe668e6c74a50b": {
          "model_module": "@jupyter-widgets/base",
          "model_name": "LayoutModel",
          "model_module_version": "1.2.0",
          "state": {
            "_model_module": "@jupyter-widgets/base",
            "_model_module_version": "1.2.0",
            "_model_name": "LayoutModel",
            "_view_count": null,
            "_view_module": "@jupyter-widgets/base",
            "_view_module_version": "1.2.0",
            "_view_name": "LayoutView",
            "align_content": null,
            "align_items": null,
            "align_self": null,
            "border": null,
            "bottom": null,
            "display": null,
            "flex": null,
            "flex_flow": null,
            "grid_area": null,
            "grid_auto_columns": null,
            "grid_auto_flow": null,
            "grid_auto_rows": null,
            "grid_column": null,
            "grid_gap": null,
            "grid_row": null,
            "grid_template_areas": null,
            "grid_template_columns": null,
            "grid_template_rows": null,
            "height": null,
            "justify_content": null,
            "justify_items": null,
            "left": null,
            "margin": null,
            "max_height": null,
            "max_width": null,
            "min_height": null,
            "min_width": null,
            "object_fit": null,
            "object_position": null,
            "order": null,
            "overflow": null,
            "overflow_x": null,
            "overflow_y": null,
            "padding": null,
            "right": null,
            "top": null,
            "visibility": null,
            "width": null
          }
        },
        "4be1aab428ad4a93a5bbd69bc79b0a3f": {
          "model_module": "@jupyter-widgets/controls",
          "model_name": "DescriptionStyleModel",
          "model_module_version": "1.5.0",
          "state": {
            "_model_module": "@jupyter-widgets/controls",
            "_model_module_version": "1.5.0",
            "_model_name": "DescriptionStyleModel",
            "_view_count": null,
            "_view_module": "@jupyter-widgets/base",
            "_view_module_version": "1.2.0",
            "_view_name": "StyleView",
            "description_width": ""
          }
        },
        "0b445635ec9c4fedbc0f605403ac92ad": {
          "model_module": "@jupyter-widgets/controls",
          "model_name": "HBoxModel",
          "model_module_version": "1.5.0",
          "state": {
            "_dom_classes": [],
            "_model_module": "@jupyter-widgets/controls",
            "_model_module_version": "1.5.0",
            "_model_name": "HBoxModel",
            "_view_count": null,
            "_view_module": "@jupyter-widgets/controls",
            "_view_module_version": "1.5.0",
            "_view_name": "HBoxView",
            "box_style": "",
            "children": [
              "IPY_MODEL_0ea82bd1fa92467f9b0a3474c13b5906",
              "IPY_MODEL_151f56a8fd7c48b38ecce278ba9241ba",
              "IPY_MODEL_40825a9eeefb4dde87f90ee89790ae17"
            ],
            "layout": "IPY_MODEL_39e70775070547e9a642d092341b944d"
          }
        },
        "0ea82bd1fa92467f9b0a3474c13b5906": {
          "model_module": "@jupyter-widgets/controls",
          "model_name": "HTMLModel",
          "model_module_version": "1.5.0",
          "state": {
            "_dom_classes": [],
            "_model_module": "@jupyter-widgets/controls",
            "_model_module_version": "1.5.0",
            "_model_name": "HTMLModel",
            "_view_count": null,
            "_view_module": "@jupyter-widgets/controls",
            "_view_module_version": "1.5.0",
            "_view_name": "HTMLView",
            "description": "",
            "description_tooltip": null,
            "layout": "IPY_MODEL_c8db11592d124dcda3b40b5471c398cb",
            "placeholder": "​",
            "style": "IPY_MODEL_f78beba3969c4aba831eae2e787b1c77",
            "value": "100%"
          }
        },
        "151f56a8fd7c48b38ecce278ba9241ba": {
          "model_module": "@jupyter-widgets/controls",
          "model_name": "FloatProgressModel",
          "model_module_version": "1.5.0",
          "state": {
            "_dom_classes": [],
            "_model_module": "@jupyter-widgets/controls",
            "_model_module_version": "1.5.0",
            "_model_name": "FloatProgressModel",
            "_view_count": null,
            "_view_module": "@jupyter-widgets/controls",
            "_view_module_version": "1.5.0",
            "_view_name": "ProgressView",
            "bar_style": "success",
            "description": "",
            "description_tooltip": null,
            "layout": "IPY_MODEL_48db76b499c04bfaac3bd55c0eee8678",
            "max": 244408911,
            "min": 0,
            "orientation": "horizontal",
            "style": "IPY_MODEL_f085703f5f3f43ae96fc02faf37441c9",
            "value": 244408911
          }
        },
        "40825a9eeefb4dde87f90ee89790ae17": {
          "model_module": "@jupyter-widgets/controls",
          "model_name": "HTMLModel",
          "model_module_version": "1.5.0",
          "state": {
            "_dom_classes": [],
            "_model_module": "@jupyter-widgets/controls",
            "_model_module_version": "1.5.0",
            "_model_name": "HTMLModel",
            "_view_count": null,
            "_view_module": "@jupyter-widgets/controls",
            "_view_module_version": "1.5.0",
            "_view_name": "HTMLView",
            "description": "",
            "description_tooltip": null,
            "layout": "IPY_MODEL_69f9d6c079714c4ab94a38158272a65e",
            "placeholder": "​",
            "style": "IPY_MODEL_53aadc341021463592339b0a9f95bc05",
            "value": " 233M/233M [00:04&lt;00:00, 54.0MB/s]"
          }
        },
        "39e70775070547e9a642d092341b944d": {
          "model_module": "@jupyter-widgets/base",
          "model_name": "LayoutModel",
          "model_module_version": "1.2.0",
          "state": {
            "_model_module": "@jupyter-widgets/base",
            "_model_module_version": "1.2.0",
            "_model_name": "LayoutModel",
            "_view_count": null,
            "_view_module": "@jupyter-widgets/base",
            "_view_module_version": "1.2.0",
            "_view_name": "LayoutView",
            "align_content": null,
            "align_items": null,
            "align_self": null,
            "border": null,
            "bottom": null,
            "display": null,
            "flex": null,
            "flex_flow": null,
            "grid_area": null,
            "grid_auto_columns": null,
            "grid_auto_flow": null,
            "grid_auto_rows": null,
            "grid_column": null,
            "grid_gap": null,
            "grid_row": null,
            "grid_template_areas": null,
            "grid_template_columns": null,
            "grid_template_rows": null,
            "height": null,
            "justify_content": null,
            "justify_items": null,
            "left": null,
            "margin": null,
            "max_height": null,
            "max_width": null,
            "min_height": null,
            "min_width": null,
            "object_fit": null,
            "object_position": null,
            "order": null,
            "overflow": null,
            "overflow_x": null,
            "overflow_y": null,
            "padding": null,
            "right": null,
            "top": null,
            "visibility": null,
            "width": null
          }
        },
        "c8db11592d124dcda3b40b5471c398cb": {
          "model_module": "@jupyter-widgets/base",
          "model_name": "LayoutModel",
          "model_module_version": "1.2.0",
          "state": {
            "_model_module": "@jupyter-widgets/base",
            "_model_module_version": "1.2.0",
            "_model_name": "LayoutModel",
            "_view_count": null,
            "_view_module": "@jupyter-widgets/base",
            "_view_module_version": "1.2.0",
            "_view_name": "LayoutView",
            "align_content": null,
            "align_items": null,
            "align_self": null,
            "border": null,
            "bottom": null,
            "display": null,
            "flex": null,
            "flex_flow": null,
            "grid_area": null,
            "grid_auto_columns": null,
            "grid_auto_flow": null,
            "grid_auto_rows": null,
            "grid_column": null,
            "grid_gap": null,
            "grid_row": null,
            "grid_template_areas": null,
            "grid_template_columns": null,
            "grid_template_rows": null,
            "height": null,
            "justify_content": null,
            "justify_items": null,
            "left": null,
            "margin": null,
            "max_height": null,
            "max_width": null,
            "min_height": null,
            "min_width": null,
            "object_fit": null,
            "object_position": null,
            "order": null,
            "overflow": null,
            "overflow_x": null,
            "overflow_y": null,
            "padding": null,
            "right": null,
            "top": null,
            "visibility": null,
            "width": null
          }
        },
        "f78beba3969c4aba831eae2e787b1c77": {
          "model_module": "@jupyter-widgets/controls",
          "model_name": "DescriptionStyleModel",
          "model_module_version": "1.5.0",
          "state": {
            "_model_module": "@jupyter-widgets/controls",
            "_model_module_version": "1.5.0",
            "_model_name": "DescriptionStyleModel",
            "_view_count": null,
            "_view_module": "@jupyter-widgets/base",
            "_view_module_version": "1.2.0",
            "_view_name": "StyleView",
            "description_width": ""
          }
        },
        "48db76b499c04bfaac3bd55c0eee8678": {
          "model_module": "@jupyter-widgets/base",
          "model_name": "LayoutModel",
          "model_module_version": "1.2.0",
          "state": {
            "_model_module": "@jupyter-widgets/base",
            "_model_module_version": "1.2.0",
            "_model_name": "LayoutModel",
            "_view_count": null,
            "_view_module": "@jupyter-widgets/base",
            "_view_module_version": "1.2.0",
            "_view_name": "LayoutView",
            "align_content": null,
            "align_items": null,
            "align_self": null,
            "border": null,
            "bottom": null,
            "display": null,
            "flex": null,
            "flex_flow": null,
            "grid_area": null,
            "grid_auto_columns": null,
            "grid_auto_flow": null,
            "grid_auto_rows": null,
            "grid_column": null,
            "grid_gap": null,
            "grid_row": null,
            "grid_template_areas": null,
            "grid_template_columns": null,
            "grid_template_rows": null,
            "height": null,
            "justify_content": null,
            "justify_items": null,
            "left": null,
            "margin": null,
            "max_height": null,
            "max_width": null,
            "min_height": null,
            "min_width": null,
            "object_fit": null,
            "object_position": null,
            "order": null,
            "overflow": null,
            "overflow_x": null,
            "overflow_y": null,
            "padding": null,
            "right": null,
            "top": null,
            "visibility": null,
            "width": null
          }
        },
        "f085703f5f3f43ae96fc02faf37441c9": {
          "model_module": "@jupyter-widgets/controls",
          "model_name": "ProgressStyleModel",
          "model_module_version": "1.5.0",
          "state": {
            "_model_module": "@jupyter-widgets/controls",
            "_model_module_version": "1.5.0",
            "_model_name": "ProgressStyleModel",
            "_view_count": null,
            "_view_module": "@jupyter-widgets/base",
            "_view_module_version": "1.2.0",
            "_view_name": "StyleView",
            "bar_color": null,
            "description_width": ""
          }
        },
        "69f9d6c079714c4ab94a38158272a65e": {
          "model_module": "@jupyter-widgets/base",
          "model_name": "LayoutModel",
          "model_module_version": "1.2.0",
          "state": {
            "_model_module": "@jupyter-widgets/base",
            "_model_module_version": "1.2.0",
            "_model_name": "LayoutModel",
            "_view_count": null,
            "_view_module": "@jupyter-widgets/base",
            "_view_module_version": "1.2.0",
            "_view_name": "LayoutView",
            "align_content": null,
            "align_items": null,
            "align_self": null,
            "border": null,
            "bottom": null,
            "display": null,
            "flex": null,
            "flex_flow": null,
            "grid_area": null,
            "grid_auto_columns": null,
            "grid_auto_flow": null,
            "grid_auto_rows": null,
            "grid_column": null,
            "grid_gap": null,
            "grid_row": null,
            "grid_template_areas": null,
            "grid_template_columns": null,
            "grid_template_rows": null,
            "height": null,
            "justify_content": null,
            "justify_items": null,
            "left": null,
            "margin": null,
            "max_height": null,
            "max_width": null,
            "min_height": null,
            "min_width": null,
            "object_fit": null,
            "object_position": null,
            "order": null,
            "overflow": null,
            "overflow_x": null,
            "overflow_y": null,
            "padding": null,
            "right": null,
            "top": null,
            "visibility": null,
            "width": null
          }
        },
        "53aadc341021463592339b0a9f95bc05": {
          "model_module": "@jupyter-widgets/controls",
          "model_name": "DescriptionStyleModel",
          "model_module_version": "1.5.0",
          "state": {
            "_model_module": "@jupyter-widgets/controls",
            "_model_module_version": "1.5.0",
            "_model_name": "DescriptionStyleModel",
            "_view_count": null,
            "_view_module": "@jupyter-widgets/base",
            "_view_module_version": "1.2.0",
            "_view_name": "StyleView",
            "description_width": ""
          }
        },
        "225da79eee1842ee8d8d7aecf8ea135b": {
          "model_module": "@jupyter-widgets/controls",
          "model_name": "HBoxModel",
          "model_module_version": "1.5.0",
          "state": {
            "_dom_classes": [],
            "_model_module": "@jupyter-widgets/controls",
            "_model_module_version": "1.5.0",
            "_model_name": "HBoxModel",
            "_view_count": null,
            "_view_module": "@jupyter-widgets/controls",
            "_view_module_version": "1.5.0",
            "_view_name": "HBoxView",
            "box_style": "",
            "children": [
              "IPY_MODEL_38ab06ee23174b659b3b2a2063c5ae6b",
              "IPY_MODEL_9616e61be2634cc0a99f6f84b423c901",
              "IPY_MODEL_0826bf53bf3c4ca6af0145f832c14200"
            ],
            "layout": "IPY_MODEL_b7cc4f7d173743bdb57dfacb882ca137"
          }
        },
        "38ab06ee23174b659b3b2a2063c5ae6b": {
          "model_module": "@jupyter-widgets/controls",
          "model_name": "HTMLModel",
          "model_module_version": "1.5.0",
          "state": {
            "_dom_classes": [],
            "_model_module": "@jupyter-widgets/controls",
            "_model_module_version": "1.5.0",
            "_model_name": "HTMLModel",
            "_view_count": null,
            "_view_module": "@jupyter-widgets/controls",
            "_view_module_version": "1.5.0",
            "_view_name": "HTMLView",
            "description": "",
            "description_tooltip": null,
            "layout": "IPY_MODEL_ddf53b6be69a4a169c6c39739dba250f",
            "placeholder": "​",
            "style": "IPY_MODEL_b6c093939ef249738906c15fe9d17e42",
            "value": "100%"
          }
        },
        "9616e61be2634cc0a99f6f84b423c901": {
          "model_module": "@jupyter-widgets/controls",
          "model_name": "FloatProgressModel",
          "model_module_version": "1.5.0",
          "state": {
            "_dom_classes": [],
            "_model_module": "@jupyter-widgets/controls",
            "_model_module_version": "1.5.0",
            "_model_name": "FloatProgressModel",
            "_view_count": null,
            "_view_module": "@jupyter-widgets/controls",
            "_view_module_version": "1.5.0",
            "_view_name": "ProgressView",
            "bar_style": "success",
            "description": "",
            "description_tooltip": null,
            "layout": "IPY_MODEL_e026d559c237453ca7505c4e8a3a397f",
            "max": 46830571,
            "min": 0,
            "orientation": "horizontal",
            "style": "IPY_MODEL_334c0092726a479b99ca394e7dbe1c3b",
            "value": 46830571
          }
        },
        "0826bf53bf3c4ca6af0145f832c14200": {
          "model_module": "@jupyter-widgets/controls",
          "model_name": "HTMLModel",
          "model_module_version": "1.5.0",
          "state": {
            "_dom_classes": [],
            "_model_module": "@jupyter-widgets/controls",
            "_model_module_version": "1.5.0",
            "_model_name": "HTMLModel",
            "_view_count": null,
            "_view_module": "@jupyter-widgets/controls",
            "_view_module_version": "1.5.0",
            "_view_name": "HTMLView",
            "description": "",
            "description_tooltip": null,
            "layout": "IPY_MODEL_9c8c5e5d693b42ab9efe2d94e15b93ce",
            "placeholder": "​",
            "style": "IPY_MODEL_7777de1f64b04d929ba584e4de753165",
            "value": " 44.7M/44.7M [00:00&lt;00:00, 96.0MB/s]"
          }
        },
        "b7cc4f7d173743bdb57dfacb882ca137": {
          "model_module": "@jupyter-widgets/base",
          "model_name": "LayoutModel",
          "model_module_version": "1.2.0",
          "state": {
            "_model_module": "@jupyter-widgets/base",
            "_model_module_version": "1.2.0",
            "_model_name": "LayoutModel",
            "_view_count": null,
            "_view_module": "@jupyter-widgets/base",
            "_view_module_version": "1.2.0",
            "_view_name": "LayoutView",
            "align_content": null,
            "align_items": null,
            "align_self": null,
            "border": null,
            "bottom": null,
            "display": null,
            "flex": null,
            "flex_flow": null,
            "grid_area": null,
            "grid_auto_columns": null,
            "grid_auto_flow": null,
            "grid_auto_rows": null,
            "grid_column": null,
            "grid_gap": null,
            "grid_row": null,
            "grid_template_areas": null,
            "grid_template_columns": null,
            "grid_template_rows": null,
            "height": null,
            "justify_content": null,
            "justify_items": null,
            "left": null,
            "margin": null,
            "max_height": null,
            "max_width": null,
            "min_height": null,
            "min_width": null,
            "object_fit": null,
            "object_position": null,
            "order": null,
            "overflow": null,
            "overflow_x": null,
            "overflow_y": null,
            "padding": null,
            "right": null,
            "top": null,
            "visibility": null,
            "width": null
          }
        },
        "ddf53b6be69a4a169c6c39739dba250f": {
          "model_module": "@jupyter-widgets/base",
          "model_name": "LayoutModel",
          "model_module_version": "1.2.0",
          "state": {
            "_model_module": "@jupyter-widgets/base",
            "_model_module_version": "1.2.0",
            "_model_name": "LayoutModel",
            "_view_count": null,
            "_view_module": "@jupyter-widgets/base",
            "_view_module_version": "1.2.0",
            "_view_name": "LayoutView",
            "align_content": null,
            "align_items": null,
            "align_self": null,
            "border": null,
            "bottom": null,
            "display": null,
            "flex": null,
            "flex_flow": null,
            "grid_area": null,
            "grid_auto_columns": null,
            "grid_auto_flow": null,
            "grid_auto_rows": null,
            "grid_column": null,
            "grid_gap": null,
            "grid_row": null,
            "grid_template_areas": null,
            "grid_template_columns": null,
            "grid_template_rows": null,
            "height": null,
            "justify_content": null,
            "justify_items": null,
            "left": null,
            "margin": null,
            "max_height": null,
            "max_width": null,
            "min_height": null,
            "min_width": null,
            "object_fit": null,
            "object_position": null,
            "order": null,
            "overflow": null,
            "overflow_x": null,
            "overflow_y": null,
            "padding": null,
            "right": null,
            "top": null,
            "visibility": null,
            "width": null
          }
        },
        "b6c093939ef249738906c15fe9d17e42": {
          "model_module": "@jupyter-widgets/controls",
          "model_name": "DescriptionStyleModel",
          "model_module_version": "1.5.0",
          "state": {
            "_model_module": "@jupyter-widgets/controls",
            "_model_module_version": "1.5.0",
            "_model_name": "DescriptionStyleModel",
            "_view_count": null,
            "_view_module": "@jupyter-widgets/base",
            "_view_module_version": "1.2.0",
            "_view_name": "StyleView",
            "description_width": ""
          }
        },
        "e026d559c237453ca7505c4e8a3a397f": {
          "model_module": "@jupyter-widgets/base",
          "model_name": "LayoutModel",
          "model_module_version": "1.2.0",
          "state": {
            "_model_module": "@jupyter-widgets/base",
            "_model_module_version": "1.2.0",
            "_model_name": "LayoutModel",
            "_view_count": null,
            "_view_module": "@jupyter-widgets/base",
            "_view_module_version": "1.2.0",
            "_view_name": "LayoutView",
            "align_content": null,
            "align_items": null,
            "align_self": null,
            "border": null,
            "bottom": null,
            "display": null,
            "flex": null,
            "flex_flow": null,
            "grid_area": null,
            "grid_auto_columns": null,
            "grid_auto_flow": null,
            "grid_auto_rows": null,
            "grid_column": null,
            "grid_gap": null,
            "grid_row": null,
            "grid_template_areas": null,
            "grid_template_columns": null,
            "grid_template_rows": null,
            "height": null,
            "justify_content": null,
            "justify_items": null,
            "left": null,
            "margin": null,
            "max_height": null,
            "max_width": null,
            "min_height": null,
            "min_width": null,
            "object_fit": null,
            "object_position": null,
            "order": null,
            "overflow": null,
            "overflow_x": null,
            "overflow_y": null,
            "padding": null,
            "right": null,
            "top": null,
            "visibility": null,
            "width": null
          }
        },
        "334c0092726a479b99ca394e7dbe1c3b": {
          "model_module": "@jupyter-widgets/controls",
          "model_name": "ProgressStyleModel",
          "model_module_version": "1.5.0",
          "state": {
            "_model_module": "@jupyter-widgets/controls",
            "_model_module_version": "1.5.0",
            "_model_name": "ProgressStyleModel",
            "_view_count": null,
            "_view_module": "@jupyter-widgets/base",
            "_view_module_version": "1.2.0",
            "_view_name": "StyleView",
            "bar_color": null,
            "description_width": ""
          }
        },
        "9c8c5e5d693b42ab9efe2d94e15b93ce": {
          "model_module": "@jupyter-widgets/base",
          "model_name": "LayoutModel",
          "model_module_version": "1.2.0",
          "state": {
            "_model_module": "@jupyter-widgets/base",
            "_model_module_version": "1.2.0",
            "_model_name": "LayoutModel",
            "_view_count": null,
            "_view_module": "@jupyter-widgets/base",
            "_view_module_version": "1.2.0",
            "_view_name": "LayoutView",
            "align_content": null,
            "align_items": null,
            "align_self": null,
            "border": null,
            "bottom": null,
            "display": null,
            "flex": null,
            "flex_flow": null,
            "grid_area": null,
            "grid_auto_columns": null,
            "grid_auto_flow": null,
            "grid_auto_rows": null,
            "grid_column": null,
            "grid_gap": null,
            "grid_row": null,
            "grid_template_areas": null,
            "grid_template_columns": null,
            "grid_template_rows": null,
            "height": null,
            "justify_content": null,
            "justify_items": null,
            "left": null,
            "margin": null,
            "max_height": null,
            "max_width": null,
            "min_height": null,
            "min_width": null,
            "object_fit": null,
            "object_position": null,
            "order": null,
            "overflow": null,
            "overflow_x": null,
            "overflow_y": null,
            "padding": null,
            "right": null,
            "top": null,
            "visibility": null,
            "width": null
          }
        },
        "7777de1f64b04d929ba584e4de753165": {
          "model_module": "@jupyter-widgets/controls",
          "model_name": "DescriptionStyleModel",
          "model_module_version": "1.5.0",
          "state": {
            "_model_module": "@jupyter-widgets/controls",
            "_model_module_version": "1.5.0",
            "_model_name": "DescriptionStyleModel",
            "_view_count": null,
            "_view_module": "@jupyter-widgets/base",
            "_view_module_version": "1.2.0",
            "_view_name": "StyleView",
            "description_width": ""
          }
        }
      }
    }
  },
  "cells": [
    {
      "cell_type": "markdown",
      "metadata": {
        "id": "view-in-github",
        "colab_type": "text"
      },
      "source": [
        "<a href=\"https://colab.research.google.com/github/KontainPluton/TPs_Artificial_Neural_Network/blob/main/%5BTP2%5D_%5BCorrection%5D_Convolutional_Neural_Networks_with_PyTorch.ipynb\" target=\"_parent\"><img src=\"https://colab.research.google.com/assets/colab-badge.svg\" alt=\"Open In Colab\"/></a>"
      ]
    },
    {
      "cell_type": "markdown",
      "metadata": {
        "id": "oUuYtqc8QdA5"
      },
      "source": [
        "# Introduction to Convolutional Neural Networks (CNNs)\n",
        "\n",
        "This practical session is dedicated to a special kind of multi-layer neural networks called convolutional neural networks (CNNs). CNNs have been proposed by [Yann LeCun](http://yann.lecun.com/exdb/publis/pdf/lecun-89.pdf) and is now widely used in image and video processing. \n",
        " \n",
        "In the last session, you experimented a Multi-Layer Perceptron (MLP) architecture for handwritten digit recongnition on MNIST dataset. You have noticed that the performance was quite good (accuracy of 93% using a single epoch). So, you may wonder why do we need to introduce a new type of neural netwoks to process images?\n",
        "\n",
        "To understand this, let us take an example with an image of bigger size than the one we used on MNIST dataset (remember images on MNIST dataset are 28x28 pixels). Let's say we have a 100 x 100 pixels image. If we use our MLP, we will need 10000 inputs in order to process the image (remember we would use flatten to transorm the 100 x 100 pixels into a vector like format of size 10000). \n",
        "\n",
        "Remember, the first hidden layer we use had 1000 neurones. In that context, it means that dealing with our 100 x 100 images, the first weight matrix of our MLP would be of size 10000 x 1000... So for the first hidden layer only, we would have 10 million parameters! This is a huge number considering we are only on the first hidden layer! It would be difficult for the optimizer to find good values for the parameters, thus training time becomes longer and may not result on a good validation accuracy. As we will see, CNNs solve this problem by using **partially connected layers** and **weight sharing**. \n",
        "\n"
      ]
    },
    {
      "cell_type": "markdown",
      "metadata": {
        "id": "polmg7h9MUy9"
      },
      "source": [
        "## [Type of convolutional layers](https://datascience.stackexchange.com/a/51474)\n",
        "You can encounter 3 types of convolutional layers (all implemented in Pytorch).\n",
        "\n",
        "**1D convolution ([conv1d](https://pytorch.org/docs/stable/generated/torch.nn.Conv1d.html#torch.nn.Conv1d)) :**  is generally used to process one dimensional data like voice or even sentences. \n",
        "\n",
        "**2D convolution ([Conv2d](https://pytorch.org/docs/stable/generated/torch.nn.Conv2d.html#torch.nn.Conv2d)) :**  the most common type of convolution encountered in practice. It is widely used to process input images. \n",
        "\n",
        "\n",
        "**3D convolution ([Conv3d](https://pytorch.org/docs/stable/generated/torch.nn.Conv3d.html#torch.nn.Conv3d)) :** its common use case is with video data since we need to process a frame of images at a time.  \n"
      ]
    },
    {
      "cell_type": "markdown",
      "metadata": {
        "id": "PxlH46SXRrFf"
      },
      "source": [
        "## CNN layer main components\n",
        "To explain how convolutional layer works, let us take an example of 2D convolution (the principle is the same for the 1D and 3D convolutions) and look at its corresponding pytorch function : \n",
        "```python\n",
        "\n",
        "torch.nn.Conv2d(in_channels: int, out_channels: int, kernel_size: Union[T, Tuple[T, T]], stride: Union[T, Tuple[T, T]] = 1, padding: Union[T, Tuple[T, T]] = 0, dilation: Union[T, Tuple[T, T]] = 1, groups: int = 1, bias: bool = True, padding_mode: str = 'zeros')\n",
        "\n",
        "```\n"
      ]
    },
    {
      "cell_type": "markdown",
      "metadata": {
        "id": "5XiAb1vmMvNf"
      },
      "source": [
        "### Input channels : \n",
        "In the original input, `in_channels` correspond to the number of data streams for a that input. For an RGB image, there are 3 input channels, one for each color channel. For a grey-scale image, there is only one channel. The number of input channels in intermediate convolutional layers corresponds to the number of output channels of the previous layer.\n"
      ]
    },
    {
      "cell_type": "markdown",
      "metadata": {
        "id": "y-2MjdBpMy0-"
      },
      "source": [
        "\n",
        "### Output channels : \n",
        "It corresponds to the number of feature maps that will be generated by the convolution layer (more detail on the next point). Feature maps are detailled below.\n"
      ]
    },
    {
      "cell_type": "markdown",
      "metadata": {
        "id": "kFHgK5HzM3dW"
      },
      "source": [
        "\n",
        "### Convolution kernels :\n",
        "Also known as filters, they are a set fixed shape window of parameters. Those filters will be used to extract features from the given input. The size of a kernel is always smaller than the size of the input. It  corresponds to a tensor of parameters (+ eventually extra bias). Most used kernel size are (3,3), (5,5) and (7,7), (9,9) for bigger input images. \n",
        "\n",
        "Those kernels are used to perform convolutions. The convolution operation corresponds to a dot-product between the kernel and the input. Each time, a part of the input with the same size as the kernel is used for the dot-product, which results on a partially connected layer, since it takes only a part of the input at a time. The resulting output of applying convolution kernels on an input is called feature maps. The number of feature maps corresponds to the number of the defined `out_channels`. \n",
        "\n",
        "The number of kernels depends on the number of input channels and output channels. For each output channel, we must provide `in_channels` kernels, one for each channel of the input, thus, the total number of kernels is equal to `in_channels` x  `out_channels`. \n",
        "\n",
        "Note that in its implementation, the convolution layer also includes a bias.\n"
      ]
    },
    {
      "cell_type": "markdown",
      "metadata": {
        "id": "kKv5YB6kM-sX"
      },
      "source": [
        "\n",
        "### Stride\n",
        "Since the convolution kernel is of a smaller size than the input, it needs to move along the input to completely process it. The amount by which ther kernel moves is controlled by the stride parameter. Note that the same kernel moves to process the input, which stresses the weight sharing property of the convolutional neural networks.\n",
        "\n",
        "Here's an [animated](https://github.com/vdumoulin/conv_arithmetic/blob/master/README.md) convolutional operation with a one-channel input (in blue) of size 4 x 4 and a (3,3) kernel that moves by a stride of 1. It results on a single output feature map of size 2x2 (in green) \n",
        "\n",
        "\n",
        "![](https://github.com/vdumoulin/conv_arithmetic/raw/master/gif/no_padding_no_strides.gif)\n"
      ]
    },
    {
      "cell_type": "markdown",
      "metadata": {
        "id": "g9iz2mxcNC3K"
      },
      "source": [
        "\n",
        "### Padding \n",
        "The padding corresponds to the amount of pixel added to an image when processed by the kernel. The pixel values added as padding is generally 0. There are few advantages on adding a padding to an image :\n",
        "- Prevents from loosing pixels from the border of the image : each time a convolution layer is applied, our input image shrinks. This may result on a loss of information. Adding a padding helps us keeping the border pixel values while processing the image.\n",
        "\n",
        "- Shrinking the input by applying multiple convolution layers limits the number of time we can use these layers to process our input images ; adding a padding helps to augment the number of layers we can use.\n",
        "\n",
        "The image below shows a 10x10 image with a padding of 1 added to each side. Note that, by doing this, our image is now of size 12x12. As an example, considering such a padding using a kernels of size 4 x 4 would lead to a better characterization of the image (more features per map).\n",
        "\n"
      ]
    },
    {
      "cell_type": "markdown",
      "metadata": {
        "id": "S5LO-8m-FOVR"
      },
      "source": [
        "![padding_example.png](data:image/png;base64,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)"
      ]
    },
    {
      "cell_type": "markdown",
      "metadata": {
        "id": "qDogZplo5Ic2"
      },
      "source": [
        "### Example \n",
        "To help understand more how it works, let's take a toy example of one input that have 3 channels. The size of the input is 4x4. Then, let's create an conv2d layer with no bias and examine the convolution operation."
      ]
    },
    {
      "cell_type": "code",
      "metadata": {
        "id": "CtnOpYPn5jHF",
        "colab": {
          "base_uri": "https://localhost:8080/"
        },
        "outputId": "f5ea4d15-5725-4ed3-ea0e-456d13dd52d2"
      },
      "source": [
        "import torch\n",
        "\n",
        "input = torch.rand(1,3,4,4) # create an input of shape [1,3,4,4]: Batch size, nb channels, height, width\n",
        "print(\"Input shape : {}\\n\".format(input.shape))\n",
        "\n",
        "# note that the default required arguments to define a convolution layer are in_channels, out_channels and kernel_size\n",
        "conv_layer = torch.nn.Conv2d(in_channels=3, out_channels=1,kernel_size=(3,3),stride=1,padding=0, bias=False)\n",
        "\n",
        "\n",
        "# let's examine the shape of the weight matrix of the convolution layer\n",
        "print(\"Convolution layer weight matrix shape {}\".format(conv_layer.weight.shape))"
      ],
      "execution_count": null,
      "outputs": [
        {
          "output_type": "stream",
          "name": "stdout",
          "text": [
            "Input shape : torch.Size([1, 3, 4, 4])\n",
            "\n",
            "Convolution layer weight matrix shape torch.Size([1, 3, 3, 3])\n"
          ]
        }
      ]
    },
    {
      "cell_type": "markdown",
      "metadata": {
        "id": "A8MVEQxbF1HC"
      },
      "source": [
        "Here's how to interprete the size of the weight matrix: \n",
        "- 1 corresponds to the number of out channels; \n",
        "- 3 in the second dimension refers to the number input channels\n",
        "- the last dimensions correspond to the kernel size (here 3, 3)\n",
        "\n",
        "**Question**: considering the size of the input and the parameters of the convolution, how many feature map values do you expect? \n",
        "\n",
        "Let us now compute the result of applying the convolution layer on our input and print out the result.\n"
      ]
    },
    {
      "cell_type": "code",
      "metadata": {
        "id": "w25cbBRaZjgR",
        "colab": {
          "base_uri": "https://localhost:8080/"
        },
        "outputId": "b5d05f30-7182-4f16-9193-b66acb26c0c5"
      },
      "source": [
        "conv_output = conv_layer(input)\n",
        "print(\"The result of the convolution :\\n {}\\n\".format(conv_output))\n",
        "print(\"Shape of the result of the convolution: {}\\n\".format(conv_output.shape))"
      ],
      "execution_count": null,
      "outputs": [
        {
          "output_type": "stream",
          "name": "stdout",
          "text": [
            "The result of the convolution :\n",
            " tensor([[[[0.1714, 0.0005],\n",
            "          [0.0463, 0.0831]]]], grad_fn=<ConvolutionBackward0>)\n",
            "\n",
            "Shape of the result of the convolution: torch.Size([1, 1, 2, 2])\n",
            "\n"
          ]
        }
      ]
    },
    {
      "cell_type": "markdown",
      "metadata": {
        "id": "xGgCgKsPaC8X"
      },
      "source": [
        "As you can see, the result of the convolution is a 2x2 feature map with 1 channel (refer to the illustration above, it's the same thing).\n",
        "\n",
        "See the parameters of your 3 kernels (each one is specific to one input channel):\n",
        "\n"
      ]
    },
    {
      "cell_type": "code",
      "metadata": {
        "id": "uBCjm6XiWiD1",
        "colab": {
          "base_uri": "https://localhost:8080/"
        },
        "outputId": "d981f871-8535-4048-99d4-b68a7792e2cc"
      },
      "source": [
        "print(conv_layer.weight)"
      ],
      "execution_count": null,
      "outputs": [
        {
          "output_type": "stream",
          "name": "stdout",
          "text": [
            "Parameter containing:\n",
            "tensor([[[[ 0.0398,  0.1334, -0.0231],\n",
            "          [-0.0915,  0.0613,  0.1510],\n",
            "          [ 0.1534, -0.1027,  0.1846]],\n",
            "\n",
            "         [[-0.1806, -0.0314, -0.1897],\n",
            "          [ 0.0475,  0.0164,  0.1282],\n",
            "          [-0.0272, -0.0714,  0.1604]],\n",
            "\n",
            "         [[ 0.0674, -0.1421, -0.0923],\n",
            "          [ 0.1906, -0.1872, -0.0319],\n",
            "          [-0.0911, -0.1095,  0.0668]]]], requires_grad=True)\n"
          ]
        }
      ]
    },
    {
      "cell_type": "markdown",
      "metadata": {
        "id": "4_PtuN45We2E"
      },
      "source": [
        "\n",
        "To understand more the convolution operation, let's try to *manually* reproduce the result and compare it to the values obtained by the convolution layer. \n"
      ]
    },
    {
      "cell_type": "code",
      "metadata": {
        "id": "DDTP-LJXagiY",
        "colab": {
          "base_uri": "https://localhost:8080/"
        },
        "outputId": "0ea7c84f-7d93-48c8-bccb-b55d1886e499"
      },
      "source": [
        "#let's first get the convlution layer weight matrix. \n",
        "weight = conv_layer.weight # shape : [out_channel, in_channel, kernel_size[0], kernel_size[1]]\n",
        "\n",
        "# weight[0,0] is the convolution kernel on in_channel 1\n",
        "# weight[0,1] is the convolution kernel on in_channel 2\n",
        "# weight[0,2] is the convolution kernel on in_channel 3\n",
        "\n",
        "# fmv = feature map value\n",
        "\n",
        "kernel_c1 = weight[0,0]\n",
        "\n",
        "fmv_c1 = torch.Tensor(\n",
        "    [\n",
        "     [( kernel_c1 * input[0,0,0:3,0:3]).sum(), (kernel_c1 * input[0,0,0:3,1:4]).sum()], \n",
        "     [( kernel_c1 * input[0,0,1:4,0:3]).sum(), (kernel_c1 * input[0,0,1:4,1:4]).sum()]\n",
        "    ]\n",
        ")\n",
        "\n",
        "kernel_c2 = weight[0,1]\n",
        "\n",
        "fmv_c2 = torch.Tensor(\n",
        "    [\n",
        "     [(kernel_c2  * input[0,1,0:3,0:3]).sum(), (kernel_c2  * input[0,1,0:3,1:4]).sum()], \n",
        "     [(kernel_c2  * input[0,1,1:4,0:3]).sum(), (kernel_c2  * input[0,1,1:4,1:4]).sum()]\n",
        "    ]\n",
        ")\n",
        "\n",
        "kernel_c3 = weight[0,2]\n",
        "\n",
        "fmv_c3 = torch.Tensor(\n",
        "    [\n",
        "     [(kernel_c3 * input[0,2,0:3,0:3]).sum(), (kernel_c3 * input[0,2,0:3,1:4]).sum()], \n",
        "     [(kernel_c3 * input[0,2,1:4,0:3]).sum(), (kernel_c3 * input[0,2,1:4,1:4]).sum()]\n",
        "    ]\n",
        ")\n",
        "\n",
        "output = fmv_c1 + fmv_c2 + fmv_c3\n",
        "\n",
        "print(output)\n",
        "\n",
        "# Which can also be expressed by\n",
        "# --- \n",
        "\n",
        "fmv0 = (weight[0,0] * input[0,0,0:3,0:3] + weight[0,1] * input[0,1,0:3,0:3] + weight[0,2] * input[0,2,0:3,0:3]).sum()\n",
        "fmv1 = (weight[0,0] * input[0,0,0:3,1:4] + weight[0,1] * input[0,1,0:3,1:4] + weight[0,2] * input[0,2,0:3,1:4]).sum()\n",
        "fmv2 = (weight[0,0] * input[0,0,1:4,0:3] + weight[0,1] * input[0,1,1:4,0:3] + weight[0,2] * input[0,2,1:4,0:3]).sum()\n",
        "fmv3 = (weight[0,0] * input[0,0,1:4,1:4] + weight[0,1] * input[0,1,1:4,1:4] + weight[0,2] * input[0,2,1:4,1:4]).sum()\n",
        "\n",
        "\n",
        "print(\"fmv0 = {:.4f}, conv_output_0 = {:.4f}\".format(fmv0.item() , conv_output[0,0,0,0].item()))\n",
        "print(\"fmv1 = {:.4f}, conv_output_1 = {:.4f}\".format(fmv1.item() , conv_output[0,0,0,1].item()))\n",
        "print(\"fmv2 = {:.4f}, conv_output_2 = {:.4f}\".format(fmv2.item() , conv_output[0,0,1,0].item()))\n",
        "print(\"fmv3 = {:.4f}, conv_output_3 = {:.4f}\".format(fmv3.item() , conv_output[0,0,1,1].item()))"
      ],
      "execution_count": null,
      "outputs": [
        {
          "output_type": "stream",
          "name": "stdout",
          "text": [
            "tensor([[0.1714, 0.0005],\n",
            "        [0.0463, 0.0831]])\n",
            "fmv0 = 0.1714, conv_output_0 = 0.1714\n",
            "fmv1 = 0.0005, conv_output_1 = 0.0005\n",
            "fmv2 = 0.0463, conv_output_2 = 0.0463\n",
            "fmv3 = 0.0831, conv_output_3 = 0.0831\n"
          ]
        }
      ]
    },
    {
      "cell_type": "markdown",
      "metadata": {
        "id": "clA3d2It0a1B"
      },
      "source": [
        "### Pooling\n",
        "The goal of the pooling layer is to shrink the feature maps in order to reduce the memory usage, the computational load and the number of parameters of the next layers. Just like the convolution layer, this layer is also a sliding window so it is necessary to define a kernel size, the stride and a padding but does not require to know the number of input and output channels, since they will perform the same operations regardless the number of feature maps. \n",
        "The difference between the convolution layer and the pooling layer is that, this latter, do not have learnable parameters. \n",
        "\n",
        "There are two types of pooling layers :\n",
        "- **Average pooling** : it computes and average value of a `kernel_size` window for each feature map.\n",
        "\n",
        "- **Max pooling** : it computes the maximum value of a `kernel_size` window for each feature map.\n",
        "\n",
        "The image below shows an example of how the two pooling layers work.\n",
        "The matrix to the left represents the output of the conv layer, i.e. feature map values. The matrix to the right is the output of the pooling layer.\n",
        "\n"
      ]
    },
    {
      "cell_type": "markdown",
      "metadata": {
        "id": "lMz8Jvgx29LF"
      },
      "source": [
        "![Présentation sans titre(2).png](data:image/png;base64,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)"
      ]
    },
    {
      "cell_type": "markdown",
      "metadata": {
        "id": "munr7QWk3OO_"
      },
      "source": [
        "Pytorch defines pooling layers for 1d, 2d and 3d inputs just as we saw for the convolution layer.\n",
        "Here are the links to the 2d versions of both max and average pooling layers\n",
        "\n",
        "https://pytorch.org/docs/stable/generated/torch.nn.AvgPool2d.html#torch.nn.AvgPool2d\n",
        "\n",
        "https://pytorch.org/docs/stable/generated/torch.nn.MaxPool2d.html#torch.nn.MaxPool2d"
      ]
    },
    {
      "cell_type": "markdown",
      "metadata": {
        "id": "SbEMR9fCR44W"
      },
      "source": [
        "## Exercice : LeNet-5\n",
        "\n",
        "You will now implement [LeNet-5](http://vision.stanford.edu/cs598_spring07/papers/Lecun98.pdf), one of the first convolutional neural networks that later inspired the design of modern deep convolution architectures like [AlexNet](https://papers.nips.cc/paper/2012/file/c399862d3b9d6b76c8436e924a68c45b-Paper.pdf).\n",
        "This architecture uses a 2D convolution layer as a building bloc to process images. We will use it on the MNIST dataset (recall that MNIST dataset has images with 1 channel, width of 28 and height of 28).\n",
        "\n",
        "The image below represents the architecture of LeNet-5. The detail of each layer is given in the table that follows. Note that, in the original model, the activation function used is ```tanh```. To speed up training, we replaced it by the ```ReLU``` activation."
      ]
    },
    {
      "cell_type": "markdown",
      "metadata": {
        "id": "IuFFZCHwLuK2"
      },
      "source": [
        "![Présentation sans titre(1).png](data:image/png;base64,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)"
      ]
    },
    {
      "cell_type": "markdown",
      "metadata": {
        "id": "Fwm91owUcawq"
      },
      "source": [
        "![Présentation sans titre.jpg](data:image/jpeg;base64,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)"
      ]
    },
    {
      "cell_type": "code",
      "metadata": {
        "id": "8LZdRVzuScL-"
      },
      "source": [
        "import torch\n",
        "import torch.nn.functional as F\n",
        "\n",
        "class LeNet5(torch.nn.Module):\n",
        "\n",
        "  def __init__(self, D_out):\n",
        "    super(LeNet5, self).__init__()\n",
        "    pass\n",
        "  \n",
        "  def forward(self, x):\n",
        "    \"\"\"\n",
        "      :param: x : the image to process ( shape [batch_size, 1, height, width] )\n",
        "      :return: logits: the unscaled output scores that will be process by the softmax ( shape [batch_size, D_out] )\n",
        "    \"\"\"\n",
        "\n",
        "    # TODO\n",
        "    pass"
      ],
      "execution_count": null,
      "outputs": []
    },
    {
      "cell_type": "markdown",
      "metadata": {
        "id": "J84qiP3lx2Md"
      },
      "source": [
        "### Correction"
      ]
    },
    {
      "cell_type": "code",
      "metadata": {
        "id": "yLxpuJoPx8zh"
      },
      "source": [
        "import torch\n",
        "import torch.nn.functional as F\n",
        "\n",
        "class LeNet5(torch.nn.Module):\n",
        "  \n",
        "  def __init__(self, D_out):\n",
        "    super(LeNet5, self).__init__()\n",
        "\n",
        "    self.conv1     = torch.nn.Conv2d(in_channels=1, out_channels=6, kernel_size=(5,5), stride=1, padding=2)\n",
        "    self.avg_pool1 = torch.nn.AvgPool2d(kernel_size=(2,2), stride=2)\n",
        "    self.conv2     = torch.nn.Conv2d(in_channels=6, out_channels=16, kernel_size=(5,5), stride=1)\n",
        "    self.avg_pool2 = torch.nn.AvgPool2d(kernel_size=(2,2), stride=2)\n",
        "    self.conv3     = torch.nn.Conv2d(in_channels=16, out_channels=120, kernel_size=(5,5), stride=1) \n",
        "    self.flatten   = torch.nn.Flatten()\n",
        "\n",
        "    self.linear1   = torch.nn.Linear(120, 84)\n",
        "    self.linear2   = torch.nn.Linear( 84, D_out) \n",
        "\n",
        "  def forward(self, x):\n",
        "    \"\"\"\n",
        "      :param: x : the image to process ( shape [batch_size, 1, height, width] )\n",
        "      :return: logits: the unscaled output scores that will be process by the softmax ( shape [batch_size, D_out] )\n",
        "    \"\"\"\n",
        "    \n",
        "    x = F.relu(self.conv1(x) ) # [batch_size, 6, 28, 28]\n",
        "      \n",
        "    x = self.avg_pool1(x) # [batch_size, 6, 14, 14]\n",
        "    \n",
        "    x = F.relu( self.conv2(x) ) # [batch_size, 16, 10, 10]\n",
        "    \n",
        "    x = self.avg_pool2(x) # # [batch_size, 16, 5, 5]\n",
        "    \n",
        "    x = F.relu( self.conv3(x) ) # [batch_size, 120, 1, 1]\n",
        "    \n",
        "    x = self.flatten(x) # [batch_size, 120]\n",
        "\n",
        "\n",
        "\n",
        "    x = F.relu( self.linear1(x) ) # [batch_size, 84]\n",
        "  \n",
        "    x = self.linear2(x) # [batch_size, 10]\n",
        "    \n",
        "    # [batch_size, 10]\n",
        "    return x\n",
        "\n"
      ],
      "execution_count": null,
      "outputs": []
    },
    {
      "cell_type": "markdown",
      "metadata": {
        "id": "v903lE0bl_ij"
      },
      "source": [
        "Now load the dataset and define the procedure. "
      ]
    },
    {
      "cell_type": "markdown",
      "metadata": {
        "id": "pT72GHQKSmWG"
      },
      "source": [
        "We load the MNIST dataset using the torchvision package."
      ]
    },
    {
      "cell_type": "code",
      "metadata": {
        "id": "EXOC95PNLlz1",
        "colab": {
          "base_uri": "https://localhost:8080/",
          "height": 457,
          "referenced_widgets": [
            "0662308d82df42adb517b3898d26878d",
            "cb73a6f502604cf0acc448239b2addd8",
            "2ee1a31ebdcf4df6bc086d407a95f62c",
            "bc9336a1159d4f96a54f814c06e4a130",
            "9d4178533f134a00855a2696dc8f6e9f",
            "b9d9986078e14b8dac1b7b0b19c447c7",
            "696be39fb6c24c799d00bd818e5e997a",
            "14b4b0f7821c4284bea9999553417344",
            "b438079ca73e423a85e3d71af4373363",
            "75773557219d4e49837bc70492b9699e",
            "48e2cd7a39f44ff5bf1d3f5ce03e7c47",
            "1232b898dc0e489bbcc5a3962671d264",
            "a14430fad99c4ae0b9b115be9565f80f",
            "2b10ace7fcf74e9e91af1280220af19b",
            "935acb221eb1450992ecebc854d38bf6",
            "5950284384314110af3389e72e19e571",
            "27638e293ae648388d19a4ac0177f038",
            "0b5514385993469aa5adbbe09f8f99d4",
            "8cc3300f8de64fdeb373629c3468b2b9",
            "b0e00b3a93354320b74e193fdb574147",
            "3b39bdaca4f24b96a8f2ae08bf556de6",
            "ced8059b31e3461f9002968c8b8a998b",
            "b012643d5a61441093261a593547765c",
            "f332fe3804da47f4ac131bf04a1b8df8",
            "8d9ea219a65a4e139066a674e010c671",
            "dbd2c60224504a64a88b43b203106f30",
            "8cfc7994a7bc49b6924ccc3c2f330073",
            "bdc49f16759f46b8a81501b2f7839123",
            "d5bc9fa991244c969b5ea86c858df177",
            "0b3417fbb1a6434fa721d21362914f6d",
            "cee08368e3414f85ad89a997202a3f89",
            "de3edf195188482dbb1ba5a3c3e0ef9f",
            "d44b41796edd4a87939dab75adc67bec",
            "3e5104416c8f4211b9bac557c0318edc",
            "26082ffe21914ab5800d4f245cff7f9e",
            "8f62fd3446f544f59a1ac612a5d60fe5",
            "65514fff2f9b48aa8c71fc76e2ad6f68",
            "e6a626cc27dd42ea881991ad48e7be35",
            "673931533b224c4c9fa0b660c320a3a8",
            "338c914eee5147d0a883cadec126d785",
            "4a2b0cf1ef7c44068046d28c1bd6f17a",
            "5ce0a5ac11694ad58f44e33d6d84a3a5",
            "407097339b744061bcfe668e6c74a50b",
            "4be1aab428ad4a93a5bbd69bc79b0a3f"
          ]
        },
        "outputId": "e82befd1-380c-4db4-ca45-584ecc8163f6"
      },
      "source": [
        "from torchvision import datasets, transforms\n",
        "\n",
        "'''\n",
        "  This code is used to download the dataset which is already splitted\n",
        "  into a training  set and a testing set.\n",
        "  Note that we apply simple transformation to the data to convert them\n",
        "  into PyTorch Tensors and to normalize the pixel values entries in a \n",
        "  specific range of values. \n",
        "'''\n",
        "\n",
        "transform_actions = transforms.Compose(\n",
        "    [\n",
        "     #transforms.Resize((32, 32)),\n",
        "     transforms.ToTensor(),\n",
        "     transforms.Normalize((0.5,), (0.5,))\n",
        "    ]\n",
        ")\n",
        "\n",
        "mnist_trainset = datasets.MNIST(\n",
        "    root='./data', \n",
        "    train=True, \n",
        "    download=True, \n",
        "    transform = transform_actions\n",
        ")\n",
        "    \n",
        "mnist_testset = datasets.MNIST(\n",
        "    root='./data', \n",
        "    train=False, \n",
        "    download=True, \n",
        "    transform = transform_actions\n",
        ")\n",
        "\n",
        "\n",
        "print(\"Training set size: \", len(mnist_trainset))\n",
        "print(\"Testing set size : \", len(mnist_testset))\n",
        "\n",
        "# we define a loader and an iterator to process the training set\n",
        "trainloader = torch.utils.data.DataLoader(mnist_trainset, batch_size=32, shuffle=True)\n",
        "testloader = torch.utils.data.DataLoader(mnist_testset, batch_size=32, shuffle=False)"
      ],
      "execution_count": null,
      "outputs": [
        {
          "output_type": "stream",
          "name": "stdout",
          "text": [
            "Downloading http://yann.lecun.com/exdb/mnist/train-images-idx3-ubyte.gz\n",
            "Downloading http://yann.lecun.com/exdb/mnist/train-images-idx3-ubyte.gz to ./data/MNIST/raw/train-images-idx3-ubyte.gz\n"
          ]
        },
        {
          "output_type": "display_data",
          "data": {
            "text/plain": [
              "  0%|          | 0/9912422 [00:00<?, ?it/s]"
            ],
            "application/vnd.jupyter.widget-view+json": {
              "version_major": 2,
              "version_minor": 0,
              "model_id": "0662308d82df42adb517b3898d26878d"
            }
          },
          "metadata": {}
        },
        {
          "output_type": "stream",
          "name": "stdout",
          "text": [
            "Extracting ./data/MNIST/raw/train-images-idx3-ubyte.gz to ./data/MNIST/raw\n",
            "\n",
            "Downloading http://yann.lecun.com/exdb/mnist/train-labels-idx1-ubyte.gz\n",
            "Downloading http://yann.lecun.com/exdb/mnist/train-labels-idx1-ubyte.gz to ./data/MNIST/raw/train-labels-idx1-ubyte.gz\n"
          ]
        },
        {
          "output_type": "display_data",
          "data": {
            "text/plain": [
              "  0%|          | 0/28881 [00:00<?, ?it/s]"
            ],
            "application/vnd.jupyter.widget-view+json": {
              "version_major": 2,
              "version_minor": 0,
              "model_id": "1232b898dc0e489bbcc5a3962671d264"
            }
          },
          "metadata": {}
        },
        {
          "output_type": "stream",
          "name": "stdout",
          "text": [
            "Extracting ./data/MNIST/raw/train-labels-idx1-ubyte.gz to ./data/MNIST/raw\n",
            "\n",
            "Downloading http://yann.lecun.com/exdb/mnist/t10k-images-idx3-ubyte.gz\n",
            "Downloading http://yann.lecun.com/exdb/mnist/t10k-images-idx3-ubyte.gz to ./data/MNIST/raw/t10k-images-idx3-ubyte.gz\n"
          ]
        },
        {
          "output_type": "display_data",
          "data": {
            "text/plain": [
              "  0%|          | 0/1648877 [00:00<?, ?it/s]"
            ],
            "application/vnd.jupyter.widget-view+json": {
              "version_major": 2,
              "version_minor": 0,
              "model_id": "b012643d5a61441093261a593547765c"
            }
          },
          "metadata": {}
        },
        {
          "output_type": "stream",
          "name": "stdout",
          "text": [
            "Extracting ./data/MNIST/raw/t10k-images-idx3-ubyte.gz to ./data/MNIST/raw\n",
            "\n",
            "Downloading http://yann.lecun.com/exdb/mnist/t10k-labels-idx1-ubyte.gz\n",
            "Downloading http://yann.lecun.com/exdb/mnist/t10k-labels-idx1-ubyte.gz to ./data/MNIST/raw/t10k-labels-idx1-ubyte.gz\n"
          ]
        },
        {
          "output_type": "display_data",
          "data": {
            "text/plain": [
              "  0%|          | 0/4542 [00:00<?, ?it/s]"
            ],
            "application/vnd.jupyter.widget-view+json": {
              "version_major": 2,
              "version_minor": 0,
              "model_id": "3e5104416c8f4211b9bac557c0318edc"
            }
          },
          "metadata": {}
        },
        {
          "output_type": "stream",
          "name": "stdout",
          "text": [
            "Extracting ./data/MNIST/raw/t10k-labels-idx1-ubyte.gz to ./data/MNIST/raw\n",
            "\n",
            "Training set size:  60000\n",
            "Testing set size :  10000\n"
          ]
        }
      ]
    },
    {
      "cell_type": "markdown",
      "metadata": {
        "id": "dnvIu1A_041W"
      },
      "source": [
        "We also use the same training procedure we used in the previous practical session."
      ]
    },
    {
      "cell_type": "code",
      "metadata": {
        "id": "Q478z9mC04fX"
      },
      "source": [
        "def train_optim(model, epochs, log_frequency, device, learning_rate=1e-4):\n",
        "\n",
        "  model.to(device) # we make sure the model is on the proper device\n",
        "\n",
        "  # Multiclass classification setting, we use cross-entropy\n",
        "  # note that this implementation requires the logits as input \n",
        "  # logits: values prior softmax transformation \n",
        "  loss_fn = torch.nn.CrossEntropyLoss(reduction='mean')\n",
        "\n",
        "  optimizer = torch.optim.Adam(model.parameters(), lr=learning_rate)\n",
        "  \n",
        "  for t in range(epochs):\n",
        "\n",
        "      model.train() # we specify that we are training the model\n",
        "\n",
        "      # At each epoch, the training set will be processed as a set of batches\n",
        "      for batch_id,  batch in enumerate(trainloader) : \n",
        "\n",
        "        images, labels  = batch\n",
        "\n",
        "        # we put the data on the same device\n",
        "        images , labels = images.to(device), labels.to(device)  \n",
        "        \n",
        "        y_pred = model(images) # forward pass output=logits\n",
        "\n",
        "        loss = loss_fn(y_pred, labels)\n",
        "\n",
        "        if batch_id % log_frequency == 0:\n",
        "            print(\"epoch: {:03d}, batch: {:03d}, loss: {:.3f} \".format(t+1, batch_id+1, loss.item()))\n",
        "\n",
        "        optimizer.zero_grad() # clear the gradient before backward\n",
        "        loss.backward()       # update the gradient\n",
        "\n",
        "        optimizer.step() # update the model parameters using the gradient\n",
        "\n",
        "      # Model evaluation after each step computing the accuracy\n",
        "      model.eval()\n",
        "      total = 0\n",
        "      correct = 0\n",
        "      for batch_id, batch in enumerate(testloader):\n",
        "        images , labels = batch\n",
        "        images , labels = images.to(device), labels.to(device)\n",
        "        y_pred = model(images) # forward computes the logits\n",
        "        sf_y_pred = torch.nn.Softmax(dim=1)(y_pred) # softmax to obtain the probability distribution\n",
        "        _, predicted = torch.max(sf_y_pred , 1)     # decision rule, we select the max\n",
        "        \n",
        "        total += labels.size(0)\n",
        "        correct += (predicted == labels).sum().item()\n",
        "      \n",
        "      print(\"[validation] accuracy: {:.3f}%\\n\".format(100 * correct / total))"
      ],
      "execution_count": null,
      "outputs": []
    },
    {
      "cell_type": "markdown",
      "metadata": {
        "id": "IKqD3DnS1EpD"
      },
      "source": [
        "Let us now instanciate our LeNet-5 model and train it."
      ]
    },
    {
      "cell_type": "code",
      "metadata": {
        "id": "eRNgbE8U1Ptp",
        "colab": {
          "base_uri": "https://localhost:8080/"
        },
        "outputId": "72f04541-cc91-48b9-8213-3fae8544b92d"
      },
      "source": [
        "## Instanciate a model using the defined LeNet5 class\n",
        "###########################\n",
        "##   Fill in this part   ##\n",
        "###########################\n",
        "\n",
        "D_out = 10\n",
        "\n",
        "model = LeNet5(D_out)\n",
        "\n",
        "\n",
        "## Select the device\n",
        "device = torch.device('cuda:0' if torch.cuda.is_available() else 'cpu')\n",
        "\n",
        "## train the model.\n",
        "train_optim(model, epochs=3, log_frequency=60, device=device, learning_rate=1e-3)"
      ],
      "execution_count": null,
      "outputs": [
        {
          "output_type": "stream",
          "name": "stdout",
          "text": [
            "epoch: 001, batch: 001, loss: 2.321 \n",
            "epoch: 001, batch: 061, loss: 1.010 \n",
            "epoch: 001, batch: 121, loss: 0.610 \n",
            "epoch: 001, batch: 181, loss: 0.213 \n",
            "epoch: 001, batch: 241, loss: 0.420 \n",
            "epoch: 001, batch: 301, loss: 0.157 \n",
            "epoch: 001, batch: 361, loss: 0.376 \n",
            "epoch: 001, batch: 421, loss: 0.459 \n",
            "epoch: 001, batch: 481, loss: 0.123 \n",
            "epoch: 001, batch: 541, loss: 0.396 \n",
            "epoch: 001, batch: 601, loss: 0.110 \n",
            "epoch: 001, batch: 661, loss: 0.165 \n",
            "epoch: 001, batch: 721, loss: 0.041 \n",
            "epoch: 001, batch: 781, loss: 0.176 \n",
            "epoch: 001, batch: 841, loss: 0.100 \n",
            "epoch: 001, batch: 901, loss: 0.020 \n",
            "epoch: 001, batch: 961, loss: 0.013 \n",
            "epoch: 001, batch: 1021, loss: 0.045 \n",
            "epoch: 001, batch: 1081, loss: 0.282 \n",
            "epoch: 001, batch: 1141, loss: 0.023 \n",
            "epoch: 001, batch: 1201, loss: 0.263 \n",
            "epoch: 001, batch: 1261, loss: 0.279 \n",
            "epoch: 001, batch: 1321, loss: 0.124 \n",
            "epoch: 001, batch: 1381, loss: 0.063 \n",
            "epoch: 001, batch: 1441, loss: 0.144 \n",
            "epoch: 001, batch: 1501, loss: 0.062 \n",
            "epoch: 001, batch: 1561, loss: 0.028 \n",
            "epoch: 001, batch: 1621, loss: 0.015 \n",
            "epoch: 001, batch: 1681, loss: 0.273 \n",
            "epoch: 001, batch: 1741, loss: 0.010 \n",
            "epoch: 001, batch: 1801, loss: 0.126 \n",
            "epoch: 001, batch: 1861, loss: 0.276 \n",
            "[validation] accuracy: 97.740%\n",
            "\n",
            "epoch: 002, batch: 001, loss: 0.076 \n",
            "epoch: 002, batch: 061, loss: 0.003 \n",
            "epoch: 002, batch: 121, loss: 0.159 \n",
            "epoch: 002, batch: 181, loss: 0.038 \n",
            "epoch: 002, batch: 241, loss: 0.094 \n",
            "epoch: 002, batch: 301, loss: 0.036 \n",
            "epoch: 002, batch: 361, loss: 0.177 \n",
            "epoch: 002, batch: 421, loss: 0.149 \n",
            "epoch: 002, batch: 481, loss: 0.246 \n",
            "epoch: 002, batch: 541, loss: 0.159 \n",
            "epoch: 002, batch: 601, loss: 0.059 \n",
            "epoch: 002, batch: 661, loss: 0.201 \n",
            "epoch: 002, batch: 721, loss: 0.006 \n",
            "epoch: 002, batch: 781, loss: 0.038 \n",
            "epoch: 002, batch: 841, loss: 0.174 \n",
            "epoch: 002, batch: 901, loss: 0.259 \n",
            "epoch: 002, batch: 961, loss: 0.045 \n",
            "epoch: 002, batch: 1021, loss: 0.083 \n",
            "epoch: 002, batch: 1081, loss: 0.013 \n",
            "epoch: 002, batch: 1141, loss: 0.049 \n",
            "epoch: 002, batch: 1201, loss: 0.022 \n",
            "epoch: 002, batch: 1261, loss: 0.008 \n",
            "epoch: 002, batch: 1321, loss: 0.004 \n",
            "epoch: 002, batch: 1381, loss: 0.098 \n",
            "epoch: 002, batch: 1441, loss: 0.022 \n",
            "epoch: 002, batch: 1501, loss: 0.014 \n",
            "epoch: 002, batch: 1561, loss: 0.121 \n",
            "epoch: 002, batch: 1621, loss: 0.016 \n",
            "epoch: 002, batch: 1681, loss: 0.010 \n",
            "epoch: 002, batch: 1741, loss: 0.132 \n",
            "epoch: 002, batch: 1801, loss: 0.131 \n",
            "epoch: 002, batch: 1861, loss: 0.019 \n",
            "[validation] accuracy: 98.390%\n",
            "\n",
            "epoch: 003, batch: 001, loss: 0.175 \n",
            "epoch: 003, batch: 061, loss: 0.008 \n",
            "epoch: 003, batch: 121, loss: 0.017 \n",
            "epoch: 003, batch: 181, loss: 0.101 \n",
            "epoch: 003, batch: 241, loss: 0.091 \n",
            "epoch: 003, batch: 301, loss: 0.101 \n",
            "epoch: 003, batch: 361, loss: 0.096 \n",
            "epoch: 003, batch: 421, loss: 0.021 \n",
            "epoch: 003, batch: 481, loss: 0.015 \n",
            "epoch: 003, batch: 541, loss: 0.005 \n",
            "epoch: 003, batch: 601, loss: 0.008 \n",
            "epoch: 003, batch: 661, loss: 0.005 \n",
            "epoch: 003, batch: 721, loss: 0.007 \n",
            "epoch: 003, batch: 781, loss: 0.022 \n",
            "epoch: 003, batch: 841, loss: 0.130 \n",
            "epoch: 003, batch: 901, loss: 0.006 \n",
            "epoch: 003, batch: 961, loss: 0.239 \n",
            "epoch: 003, batch: 1021, loss: 0.022 \n",
            "epoch: 003, batch: 1081, loss: 0.004 \n",
            "epoch: 003, batch: 1141, loss: 0.180 \n",
            "epoch: 003, batch: 1201, loss: 0.068 \n",
            "epoch: 003, batch: 1261, loss: 0.268 \n",
            "epoch: 003, batch: 1321, loss: 0.068 \n",
            "epoch: 003, batch: 1381, loss: 0.056 \n",
            "epoch: 003, batch: 1441, loss: 0.003 \n",
            "epoch: 003, batch: 1501, loss: 0.003 \n",
            "epoch: 003, batch: 1561, loss: 0.013 \n",
            "epoch: 003, batch: 1621, loss: 0.178 \n",
            "epoch: 003, batch: 1681, loss: 0.075 \n",
            "epoch: 003, batch: 1741, loss: 0.024 \n",
            "epoch: 003, batch: 1801, loss: 0.073 \n",
            "epoch: 003, batch: 1861, loss: 0.004 \n",
            "[validation] accuracy: 98.740%\n",
            "\n"
          ]
        }
      ]
    },
    {
      "cell_type": "markdown",
      "metadata": {
        "id": "UPe4h-ODRfig"
      },
      "source": [
        "\n",
        "**Question 1**\n",
        "\n",
        "Compare the performance of LeNet5 and the Multi-Layer Perceptron we defined in the previous session. Does the convolution bring any performance gain ?\n",
        "\n",
        "\n",
        "\n",
        "**Question 2**\n",
        "\n",
        "Replace the  average pooling by a max pooling. Does this improve the model accuracy ? \n"
      ]
    },
    {
      "cell_type": "markdown",
      "metadata": {
        "id": "y8-IaAjDxXlE"
      },
      "source": [
        "**Question 3**\n",
        "The code snippet below allows you to check the number of parameters for the first convolution layer.\n",
        "```python\n",
        "sum(p.data.nelement() for p in model.conv1.parameters())\n",
        "```\n",
        "\n",
        "Use this code to check the number of parameters of LeNet5 model. Compare this number to the number of parameters of the MLP model \n",
        "\n",
        "*(help : you can find he code of the MLP model below)*\n"
      ]
    },
    {
      "cell_type": "code",
      "metadata": {
        "id": "WB0XKF2rW1Cx",
        "colab": {
          "base_uri": "https://localhost:8080/"
        },
        "outputId": "fad5a3ef-dbab-4815-e35a-d3ac64bfd799"
      },
      "source": [
        "print(\"Nb params of first conv layer : {}\".format(sum(p.data.nelement() for p in model.conv1.parameters())))\n",
        "print(\"Nb params of second conv layer : {}\".format(sum(p.data.nelement() for p in model.conv2.parameters())))\n",
        "print(\"Nb params of third conv layer : {}\".format(sum(p.data.nelement() for p in model.conv3.parameters())))\n",
        "print(\"Nb params of first linear layer : {}\".format(sum(p.data.nelement() for p in model.linear1.parameters())))\n",
        "print(\"Nb params of second linear layer : {}\".format(sum(p.data.nelement() for p in model.linear2.parameters())))\n",
        "\n",
        "print(\"Nb params of LeNet5 : {}\".format(sum(p.data.nelement() for p in model.parameters())))\n"
      ],
      "execution_count": null,
      "outputs": [
        {
          "output_type": "stream",
          "name": "stdout",
          "text": [
            "Nb params of first conv layer : 156\n",
            "Nb params of second conv layer : 2416\n",
            "Nb params of third conv layer : 48120\n",
            "Nb params of first linear layer : 10164\n",
            "Nb params of second linear layer : 850\n",
            "Nb params of LeNet5 : 61706\n"
          ]
        }
      ]
    },
    {
      "cell_type": "markdown",
      "source": [],
      "metadata": {
        "id": "DvSBF4ohgnl4"
      }
    },
    {
      "cell_type": "code",
      "metadata": {
        "id": "tmS1SdO6YUQZ"
      },
      "source": [
        "class MyModel(torch.nn.Module):\n",
        "  def __init__(self, D_in, H, H2, D_out):\n",
        "    super(MyModel, self).__init__()\n",
        "    self.flatten = torch.nn.Flatten()\n",
        "    self.lin1 = torch.nn.Linear(D_in, H)\n",
        "    self.lin2 = torch.nn.Linear(H, H2)\n",
        "    self.lin3 = torch.nn.Linear(H2, D_out)\n",
        "\n",
        "  def forward(self, x):\n",
        "    \"\"\"\n",
        "      x : [batch_size, 1, height, width ]\n",
        "    \"\"\"\n",
        "    x = self.flatten(x) # [batch_size, 1 * width * height]\n",
        "    x = F.relu( self.lin1(x) ) \n",
        "    x = F.relu( self.lin2(x) )\n",
        "    x = self.lin3(x)\n",
        "\n",
        "    return x"
      ],
      "execution_count": null,
      "outputs": []
    },
    {
      "cell_type": "code",
      "metadata": {
        "id": "SWySgQihYWue",
        "colab": {
          "base_uri": "https://localhost:8080/"
        },
        "outputId": "264561d1-1b77-4202-b73d-e4e44c2101d2"
      },
      "source": [
        "m = MyModel(28*28,1000,500,10)\n",
        "#m = MyModel(28*28,75,35,10) MLP with ~ 60k parameters\n",
        "\n",
        "print(\"Nb params of MLP : {}\".format(sum(p.data.nelement() for p in m.parameters())))"
      ],
      "execution_count": null,
      "outputs": [
        {
          "output_type": "stream",
          "name": "stdout",
          "text": [
            "Nb params of MLP : 1290510\n"
          ]
        }
      ]
    },
    {
      "cell_type": "markdown",
      "metadata": {
        "id": "BkM9lPihzZQy"
      },
      "source": [
        "**Question 4**\n",
        "\n",
        "Try to add more fully connected layers. Does this improve the accuracy ? "
      ]
    },
    {
      "cell_type": "markdown",
      "metadata": {
        "id": "WXaae493fhTM"
      },
      "source": [
        "## Working with pretrained models\n",
        "\n",
        "Generally, when working on deep learning projects, we do not start with a model from scratch. We'd rather use a pre-trained architecture.\n",
        "A pre-trained architecure is a deep learning model that was trained on a large dataset, thus, it implies that the parameters of the model (the weight matrices) are no longer initialized randomly. This also means that the model captured general information about the data it was trained on and that information can be useful of other tasks (the model has \"learned\" something that can be valuable to perform other tasks). \n",
        "\n",
        "Advantanges of using a pre-trained model : \n",
        "- State of the art architecture : instead of starting with a random architecture that may need several adjustements for our task, we start with a model that was proven to be effective on other tasks\n",
        "- Reduces training time for our task : since we do not train from scratch\n",
        "- Effective when we do not have enough data to train a deep neural network.\n",
        "\n",
        "\n",
        "There are two ways of using a pre-trained model : \n",
        "- For transfer learning : our model was previously trained on a **source** task . Our goal is to adjust it by training it on our **target** task. \n",
        "- As a feature extractor : generally, in this setting, the pre-trained model is **freezed**. Freezing a model means that its weights are no longer updated by the optimizer. To solve our task, we either add some layers (MLP, for example) or we use the features extracted on another model like SVM. \n",
        "\n",
        "\n",
        "```torchvision``` contrains several pretrained models for image processing and computer vision tasks. We will see in this practical session how to use them to solve machine learning tasks.\n",
        "You can see the list of available models in the [official documentation](https://pytorch.org/docs/stable/torchvision/models.html).\n",
        "\n"
      ]
    },
    {
      "cell_type": "markdown",
      "metadata": {
        "id": "6k3ZLi6AFKK2"
      },
      "source": [
        "You can also list the available models by using the `help` function on the models module in `torchvision`."
      ]
    },
    {
      "cell_type": "code",
      "metadata": {
        "id": "yXbXM5bJFQ31",
        "colab": {
          "base_uri": "https://localhost:8080/"
        },
        "outputId": "65d15669-c42a-4c83-bc76-122522da7641"
      },
      "source": [
        "import torch\n",
        "from torchvision import models\n",
        "\n",
        "help(models)"
      ],
      "execution_count": null,
      "outputs": [
        {
          "output_type": "stream",
          "name": "stdout",
          "text": [
            "Help on package torchvision.models in torchvision:\n",
            "\n",
            "NAME\n",
            "    torchvision.models\n",
            "\n",
            "PACKAGE CONTENTS\n",
            "    _api\n",
            "    _meta\n",
            "    _utils\n",
            "    alexnet\n",
            "    convnext\n",
            "    densenet\n",
            "    detection (package)\n",
            "    efficientnet\n",
            "    feature_extraction\n",
            "    googlenet\n",
            "    inception\n",
            "    mnasnet\n",
            "    mobilenet\n",
            "    mobilenetv2\n",
            "    mobilenetv3\n",
            "    optical_flow (package)\n",
            "    quantization (package)\n",
            "    regnet\n",
            "    resnet\n",
            "    segmentation (package)\n",
            "    shufflenetv2\n",
            "    squeezenet\n",
            "    swin_transformer\n",
            "    vgg\n",
            "    video (package)\n",
            "    vision_transformer\n",
            "\n",
            "FILE\n",
            "    /usr/local/lib/python3.7/dist-packages/torchvision/models/__init__.py\n",
            "\n",
            "\n"
          ]
        }
      ]
    },
    {
      "cell_type": "markdown",
      "metadata": {
        "id": "DbmCxtEnFwex"
      },
      "source": [
        "To use one model, we simply instanciate it. For example, let's instanciate a [ResNet](https://arxiv.org/pdf/1512.03385.pdf) model. If you pay attention to the documentation, you will see that some models (like ResNet) have many implementations. They differ mainly on the depth of the model and size of the convolution layers. Generally, the deeper is the model, the better accuracy you have. Choosing a model will be a tradeoff between available space (deeper models have much more parameters) and accuracy we want. Let's see two examples : restnet-18 and resnet-50. \n",
        "\n",
        "**Note** : do not hesistate to instanciate other models to see how they were built or to later test them on different tasks\n",
        "\n",
        "**Note 2** : pay a close attention to the output layer. Since these models were designed to be trained on [ImageNet](http://image-net.org/about-overview) dataset which has 1000 classes, we must adapt the output layer to the number of output classes of our task."
      ]
    },
    {
      "cell_type": "code",
      "metadata": {
        "id": "2Oo2Yx1eF43N",
        "colab": {
          "base_uri": "https://localhost:8080/"
        },
        "outputId": "7911f2b6-3eb1-4628-be53-6744b056d50e"
      },
      "source": [
        "resnet18 = models.resnet18()\n",
        "resnet18"
      ],
      "execution_count": null,
      "outputs": [
        {
          "output_type": "execute_result",
          "data": {
            "text/plain": [
              "ResNet(\n",
              "  (conv1): Conv2d(3, 64, kernel_size=(7, 7), stride=(2, 2), padding=(3, 3), bias=False)\n",
              "  (bn1): BatchNorm2d(64, eps=1e-05, momentum=0.1, affine=True, track_running_stats=True)\n",
              "  (relu): ReLU(inplace=True)\n",
              "  (maxpool): MaxPool2d(kernel_size=3, stride=2, padding=1, dilation=1, ceil_mode=False)\n",
              "  (layer1): Sequential(\n",
              "    (0): BasicBlock(\n",
              "      (conv1): Conv2d(64, 64, kernel_size=(3, 3), stride=(1, 1), padding=(1, 1), bias=False)\n",
              "      (bn1): BatchNorm2d(64, eps=1e-05, momentum=0.1, affine=True, track_running_stats=True)\n",
              "      (relu): ReLU(inplace=True)\n",
              "      (conv2): Conv2d(64, 64, kernel_size=(3, 3), stride=(1, 1), padding=(1, 1), bias=False)\n",
              "      (bn2): BatchNorm2d(64, eps=1e-05, momentum=0.1, affine=True, track_running_stats=True)\n",
              "    )\n",
              "    (1): BasicBlock(\n",
              "      (conv1): Conv2d(64, 64, kernel_size=(3, 3), stride=(1, 1), padding=(1, 1), bias=False)\n",
              "      (bn1): BatchNorm2d(64, eps=1e-05, momentum=0.1, affine=True, track_running_stats=True)\n",
              "      (relu): ReLU(inplace=True)\n",
              "      (conv2): Conv2d(64, 64, kernel_size=(3, 3), stride=(1, 1), padding=(1, 1), bias=False)\n",
              "      (bn2): BatchNorm2d(64, eps=1e-05, momentum=0.1, affine=True, track_running_stats=True)\n",
              "    )\n",
              "  )\n",
              "  (layer2): Sequential(\n",
              "    (0): BasicBlock(\n",
              "      (conv1): Conv2d(64, 128, kernel_size=(3, 3), stride=(2, 2), padding=(1, 1), bias=False)\n",
              "      (bn1): BatchNorm2d(128, eps=1e-05, momentum=0.1, affine=True, track_running_stats=True)\n",
              "      (relu): ReLU(inplace=True)\n",
              "      (conv2): Conv2d(128, 128, kernel_size=(3, 3), stride=(1, 1), padding=(1, 1), bias=False)\n",
              "      (bn2): BatchNorm2d(128, eps=1e-05, momentum=0.1, affine=True, track_running_stats=True)\n",
              "      (downsample): Sequential(\n",
              "        (0): Conv2d(64, 128, kernel_size=(1, 1), stride=(2, 2), bias=False)\n",
              "        (1): BatchNorm2d(128, eps=1e-05, momentum=0.1, affine=True, track_running_stats=True)\n",
              "      )\n",
              "    )\n",
              "    (1): BasicBlock(\n",
              "      (conv1): Conv2d(128, 128, kernel_size=(3, 3), stride=(1, 1), padding=(1, 1), bias=False)\n",
              "      (bn1): BatchNorm2d(128, eps=1e-05, momentum=0.1, affine=True, track_running_stats=True)\n",
              "      (relu): ReLU(inplace=True)\n",
              "      (conv2): Conv2d(128, 128, kernel_size=(3, 3), stride=(1, 1), padding=(1, 1), bias=False)\n",
              "      (bn2): BatchNorm2d(128, eps=1e-05, momentum=0.1, affine=True, track_running_stats=True)\n",
              "    )\n",
              "  )\n",
              "  (layer3): Sequential(\n",
              "    (0): BasicBlock(\n",
              "      (conv1): Conv2d(128, 256, kernel_size=(3, 3), stride=(2, 2), padding=(1, 1), bias=False)\n",
              "      (bn1): BatchNorm2d(256, eps=1e-05, momentum=0.1, affine=True, track_running_stats=True)\n",
              "      (relu): ReLU(inplace=True)\n",
              "      (conv2): Conv2d(256, 256, kernel_size=(3, 3), stride=(1, 1), padding=(1, 1), bias=False)\n",
              "      (bn2): BatchNorm2d(256, eps=1e-05, momentum=0.1, affine=True, track_running_stats=True)\n",
              "      (downsample): Sequential(\n",
              "        (0): Conv2d(128, 256, kernel_size=(1, 1), stride=(2, 2), bias=False)\n",
              "        (1): BatchNorm2d(256, eps=1e-05, momentum=0.1, affine=True, track_running_stats=True)\n",
              "      )\n",
              "    )\n",
              "    (1): BasicBlock(\n",
              "      (conv1): Conv2d(256, 256, kernel_size=(3, 3), stride=(1, 1), padding=(1, 1), bias=False)\n",
              "      (bn1): BatchNorm2d(256, eps=1e-05, momentum=0.1, affine=True, track_running_stats=True)\n",
              "      (relu): ReLU(inplace=True)\n",
              "      (conv2): Conv2d(256, 256, kernel_size=(3, 3), stride=(1, 1), padding=(1, 1), bias=False)\n",
              "      (bn2): BatchNorm2d(256, eps=1e-05, momentum=0.1, affine=True, track_running_stats=True)\n",
              "    )\n",
              "  )\n",
              "  (layer4): Sequential(\n",
              "    (0): BasicBlock(\n",
              "      (conv1): Conv2d(256, 512, kernel_size=(3, 3), stride=(2, 2), padding=(1, 1), bias=False)\n",
              "      (bn1): BatchNorm2d(512, eps=1e-05, momentum=0.1, affine=True, track_running_stats=True)\n",
              "      (relu): ReLU(inplace=True)\n",
              "      (conv2): Conv2d(512, 512, kernel_size=(3, 3), stride=(1, 1), padding=(1, 1), bias=False)\n",
              "      (bn2): BatchNorm2d(512, eps=1e-05, momentum=0.1, affine=True, track_running_stats=True)\n",
              "      (downsample): Sequential(\n",
              "        (0): Conv2d(256, 512, kernel_size=(1, 1), stride=(2, 2), bias=False)\n",
              "        (1): BatchNorm2d(512, eps=1e-05, momentum=0.1, affine=True, track_running_stats=True)\n",
              "      )\n",
              "    )\n",
              "    (1): BasicBlock(\n",
              "      (conv1): Conv2d(512, 512, kernel_size=(3, 3), stride=(1, 1), padding=(1, 1), bias=False)\n",
              "      (bn1): BatchNorm2d(512, eps=1e-05, momentum=0.1, affine=True, track_running_stats=True)\n",
              "      (relu): ReLU(inplace=True)\n",
              "      (conv2): Conv2d(512, 512, kernel_size=(3, 3), stride=(1, 1), padding=(1, 1), bias=False)\n",
              "      (bn2): BatchNorm2d(512, eps=1e-05, momentum=0.1, affine=True, track_running_stats=True)\n",
              "    )\n",
              "  )\n",
              "  (avgpool): AdaptiveAvgPool2d(output_size=(1, 1))\n",
              "  (fc): Linear(in_features=512, out_features=1000, bias=True)\n",
              ")"
            ]
          },
          "metadata": {},
          "execution_count": 14
        }
      ]
    },
    {
      "cell_type": "code",
      "metadata": {
        "id": "ooU7sYJtOFHn",
        "colab": {
          "base_uri": "https://localhost:8080/"
        },
        "outputId": "63e9ce30-ac94-413e-a27a-699235fa7fee"
      },
      "source": [
        "resnet50 = models.resnet50()\n",
        "resnet50"
      ],
      "execution_count": null,
      "outputs": [
        {
          "output_type": "execute_result",
          "data": {
            "text/plain": [
              "ResNet(\n",
              "  (conv1): Conv2d(3, 64, kernel_size=(7, 7), stride=(2, 2), padding=(3, 3), bias=False)\n",
              "  (bn1): BatchNorm2d(64, eps=1e-05, momentum=0.1, affine=True, track_running_stats=True)\n",
              "  (relu): ReLU(inplace=True)\n",
              "  (maxpool): MaxPool2d(kernel_size=3, stride=2, padding=1, dilation=1, ceil_mode=False)\n",
              "  (layer1): Sequential(\n",
              "    (0): Bottleneck(\n",
              "      (conv1): Conv2d(64, 64, kernel_size=(1, 1), stride=(1, 1), bias=False)\n",
              "      (bn1): BatchNorm2d(64, eps=1e-05, momentum=0.1, affine=True, track_running_stats=True)\n",
              "      (conv2): Conv2d(64, 64, kernel_size=(3, 3), stride=(1, 1), padding=(1, 1), bias=False)\n",
              "      (bn2): BatchNorm2d(64, eps=1e-05, momentum=0.1, affine=True, track_running_stats=True)\n",
              "      (conv3): Conv2d(64, 256, kernel_size=(1, 1), stride=(1, 1), bias=False)\n",
              "      (bn3): BatchNorm2d(256, eps=1e-05, momentum=0.1, affine=True, track_running_stats=True)\n",
              "      (relu): ReLU(inplace=True)\n",
              "      (downsample): Sequential(\n",
              "        (0): Conv2d(64, 256, kernel_size=(1, 1), stride=(1, 1), bias=False)\n",
              "        (1): BatchNorm2d(256, eps=1e-05, momentum=0.1, affine=True, track_running_stats=True)\n",
              "      )\n",
              "    )\n",
              "    (1): Bottleneck(\n",
              "      (conv1): Conv2d(256, 64, kernel_size=(1, 1), stride=(1, 1), bias=False)\n",
              "      (bn1): BatchNorm2d(64, eps=1e-05, momentum=0.1, affine=True, track_running_stats=True)\n",
              "      (conv2): Conv2d(64, 64, kernel_size=(3, 3), stride=(1, 1), padding=(1, 1), bias=False)\n",
              "      (bn2): BatchNorm2d(64, eps=1e-05, momentum=0.1, affine=True, track_running_stats=True)\n",
              "      (conv3): Conv2d(64, 256, kernel_size=(1, 1), stride=(1, 1), bias=False)\n",
              "      (bn3): BatchNorm2d(256, eps=1e-05, momentum=0.1, affine=True, track_running_stats=True)\n",
              "      (relu): ReLU(inplace=True)\n",
              "    )\n",
              "    (2): Bottleneck(\n",
              "      (conv1): Conv2d(256, 64, kernel_size=(1, 1), stride=(1, 1), bias=False)\n",
              "      (bn1): BatchNorm2d(64, eps=1e-05, momentum=0.1, affine=True, track_running_stats=True)\n",
              "      (conv2): Conv2d(64, 64, kernel_size=(3, 3), stride=(1, 1), padding=(1, 1), bias=False)\n",
              "      (bn2): BatchNorm2d(64, eps=1e-05, momentum=0.1, affine=True, track_running_stats=True)\n",
              "      (conv3): Conv2d(64, 256, kernel_size=(1, 1), stride=(1, 1), bias=False)\n",
              "      (bn3): BatchNorm2d(256, eps=1e-05, momentum=0.1, affine=True, track_running_stats=True)\n",
              "      (relu): ReLU(inplace=True)\n",
              "    )\n",
              "  )\n",
              "  (layer2): Sequential(\n",
              "    (0): Bottleneck(\n",
              "      (conv1): Conv2d(256, 128, kernel_size=(1, 1), stride=(1, 1), bias=False)\n",
              "      (bn1): BatchNorm2d(128, eps=1e-05, momentum=0.1, affine=True, track_running_stats=True)\n",
              "      (conv2): Conv2d(128, 128, kernel_size=(3, 3), stride=(2, 2), padding=(1, 1), bias=False)\n",
              "      (bn2): BatchNorm2d(128, eps=1e-05, momentum=0.1, affine=True, track_running_stats=True)\n",
              "      (conv3): Conv2d(128, 512, kernel_size=(1, 1), stride=(1, 1), bias=False)\n",
              "      (bn3): BatchNorm2d(512, eps=1e-05, momentum=0.1, affine=True, track_running_stats=True)\n",
              "      (relu): ReLU(inplace=True)\n",
              "      (downsample): Sequential(\n",
              "        (0): Conv2d(256, 512, kernel_size=(1, 1), stride=(2, 2), bias=False)\n",
              "        (1): BatchNorm2d(512, eps=1e-05, momentum=0.1, affine=True, track_running_stats=True)\n",
              "      )\n",
              "    )\n",
              "    (1): Bottleneck(\n",
              "      (conv1): Conv2d(512, 128, kernel_size=(1, 1), stride=(1, 1), bias=False)\n",
              "      (bn1): BatchNorm2d(128, eps=1e-05, momentum=0.1, affine=True, track_running_stats=True)\n",
              "      (conv2): Conv2d(128, 128, kernel_size=(3, 3), stride=(1, 1), padding=(1, 1), bias=False)\n",
              "      (bn2): BatchNorm2d(128, eps=1e-05, momentum=0.1, affine=True, track_running_stats=True)\n",
              "      (conv3): Conv2d(128, 512, kernel_size=(1, 1), stride=(1, 1), bias=False)\n",
              "      (bn3): BatchNorm2d(512, eps=1e-05, momentum=0.1, affine=True, track_running_stats=True)\n",
              "      (relu): ReLU(inplace=True)\n",
              "    )\n",
              "    (2): Bottleneck(\n",
              "      (conv1): Conv2d(512, 128, kernel_size=(1, 1), stride=(1, 1), bias=False)\n",
              "      (bn1): BatchNorm2d(128, eps=1e-05, momentum=0.1, affine=True, track_running_stats=True)\n",
              "      (conv2): Conv2d(128, 128, kernel_size=(3, 3), stride=(1, 1), padding=(1, 1), bias=False)\n",
              "      (bn2): BatchNorm2d(128, eps=1e-05, momentum=0.1, affine=True, track_running_stats=True)\n",
              "      (conv3): Conv2d(128, 512, kernel_size=(1, 1), stride=(1, 1), bias=False)\n",
              "      (bn3): BatchNorm2d(512, eps=1e-05, momentum=0.1, affine=True, track_running_stats=True)\n",
              "      (relu): ReLU(inplace=True)\n",
              "    )\n",
              "    (3): Bottleneck(\n",
              "      (conv1): Conv2d(512, 128, kernel_size=(1, 1), stride=(1, 1), bias=False)\n",
              "      (bn1): BatchNorm2d(128, eps=1e-05, momentum=0.1, affine=True, track_running_stats=True)\n",
              "      (conv2): Conv2d(128, 128, kernel_size=(3, 3), stride=(1, 1), padding=(1, 1), bias=False)\n",
              "      (bn2): BatchNorm2d(128, eps=1e-05, momentum=0.1, affine=True, track_running_stats=True)\n",
              "      (conv3): Conv2d(128, 512, kernel_size=(1, 1), stride=(1, 1), bias=False)\n",
              "      (bn3): BatchNorm2d(512, eps=1e-05, momentum=0.1, affine=True, track_running_stats=True)\n",
              "      (relu): ReLU(inplace=True)\n",
              "    )\n",
              "  )\n",
              "  (layer3): Sequential(\n",
              "    (0): Bottleneck(\n",
              "      (conv1): Conv2d(512, 256, kernel_size=(1, 1), stride=(1, 1), bias=False)\n",
              "      (bn1): BatchNorm2d(256, eps=1e-05, momentum=0.1, affine=True, track_running_stats=True)\n",
              "      (conv2): Conv2d(256, 256, kernel_size=(3, 3), stride=(2, 2), padding=(1, 1), bias=False)\n",
              "      (bn2): BatchNorm2d(256, eps=1e-05, momentum=0.1, affine=True, track_running_stats=True)\n",
              "      (conv3): Conv2d(256, 1024, kernel_size=(1, 1), stride=(1, 1), bias=False)\n",
              "      (bn3): BatchNorm2d(1024, eps=1e-05, momentum=0.1, affine=True, track_running_stats=True)\n",
              "      (relu): ReLU(inplace=True)\n",
              "      (downsample): Sequential(\n",
              "        (0): Conv2d(512, 1024, kernel_size=(1, 1), stride=(2, 2), bias=False)\n",
              "        (1): BatchNorm2d(1024, eps=1e-05, momentum=0.1, affine=True, track_running_stats=True)\n",
              "      )\n",
              "    )\n",
              "    (1): Bottleneck(\n",
              "      (conv1): Conv2d(1024, 256, kernel_size=(1, 1), stride=(1, 1), bias=False)\n",
              "      (bn1): BatchNorm2d(256, eps=1e-05, momentum=0.1, affine=True, track_running_stats=True)\n",
              "      (conv2): Conv2d(256, 256, kernel_size=(3, 3), stride=(1, 1), padding=(1, 1), bias=False)\n",
              "      (bn2): BatchNorm2d(256, eps=1e-05, momentum=0.1, affine=True, track_running_stats=True)\n",
              "      (conv3): Conv2d(256, 1024, kernel_size=(1, 1), stride=(1, 1), bias=False)\n",
              "      (bn3): BatchNorm2d(1024, eps=1e-05, momentum=0.1, affine=True, track_running_stats=True)\n",
              "      (relu): ReLU(inplace=True)\n",
              "    )\n",
              "    (2): Bottleneck(\n",
              "      (conv1): Conv2d(1024, 256, kernel_size=(1, 1), stride=(1, 1), bias=False)\n",
              "      (bn1): BatchNorm2d(256, eps=1e-05, momentum=0.1, affine=True, track_running_stats=True)\n",
              "      (conv2): Conv2d(256, 256, kernel_size=(3, 3), stride=(1, 1), padding=(1, 1), bias=False)\n",
              "      (bn2): BatchNorm2d(256, eps=1e-05, momentum=0.1, affine=True, track_running_stats=True)\n",
              "      (conv3): Conv2d(256, 1024, kernel_size=(1, 1), stride=(1, 1), bias=False)\n",
              "      (bn3): BatchNorm2d(1024, eps=1e-05, momentum=0.1, affine=True, track_running_stats=True)\n",
              "      (relu): ReLU(inplace=True)\n",
              "    )\n",
              "    (3): Bottleneck(\n",
              "      (conv1): Conv2d(1024, 256, kernel_size=(1, 1), stride=(1, 1), bias=False)\n",
              "      (bn1): BatchNorm2d(256, eps=1e-05, momentum=0.1, affine=True, track_running_stats=True)\n",
              "      (conv2): Conv2d(256, 256, kernel_size=(3, 3), stride=(1, 1), padding=(1, 1), bias=False)\n",
              "      (bn2): BatchNorm2d(256, eps=1e-05, momentum=0.1, affine=True, track_running_stats=True)\n",
              "      (conv3): Conv2d(256, 1024, kernel_size=(1, 1), stride=(1, 1), bias=False)\n",
              "      (bn3): BatchNorm2d(1024, eps=1e-05, momentum=0.1, affine=True, track_running_stats=True)\n",
              "      (relu): ReLU(inplace=True)\n",
              "    )\n",
              "    (4): Bottleneck(\n",
              "      (conv1): Conv2d(1024, 256, kernel_size=(1, 1), stride=(1, 1), bias=False)\n",
              "      (bn1): BatchNorm2d(256, eps=1e-05, momentum=0.1, affine=True, track_running_stats=True)\n",
              "      (conv2): Conv2d(256, 256, kernel_size=(3, 3), stride=(1, 1), padding=(1, 1), bias=False)\n",
              "      (bn2): BatchNorm2d(256, eps=1e-05, momentum=0.1, affine=True, track_running_stats=True)\n",
              "      (conv3): Conv2d(256, 1024, kernel_size=(1, 1), stride=(1, 1), bias=False)\n",
              "      (bn3): BatchNorm2d(1024, eps=1e-05, momentum=0.1, affine=True, track_running_stats=True)\n",
              "      (relu): ReLU(inplace=True)\n",
              "    )\n",
              "    (5): Bottleneck(\n",
              "      (conv1): Conv2d(1024, 256, kernel_size=(1, 1), stride=(1, 1), bias=False)\n",
              "      (bn1): BatchNorm2d(256, eps=1e-05, momentum=0.1, affine=True, track_running_stats=True)\n",
              "      (conv2): Conv2d(256, 256, kernel_size=(3, 3), stride=(1, 1), padding=(1, 1), bias=False)\n",
              "      (bn2): BatchNorm2d(256, eps=1e-05, momentum=0.1, affine=True, track_running_stats=True)\n",
              "      (conv3): Conv2d(256, 1024, kernel_size=(1, 1), stride=(1, 1), bias=False)\n",
              "      (bn3): BatchNorm2d(1024, eps=1e-05, momentum=0.1, affine=True, track_running_stats=True)\n",
              "      (relu): ReLU(inplace=True)\n",
              "    )\n",
              "  )\n",
              "  (layer4): Sequential(\n",
              "    (0): Bottleneck(\n",
              "      (conv1): Conv2d(1024, 512, kernel_size=(1, 1), stride=(1, 1), bias=False)\n",
              "      (bn1): BatchNorm2d(512, eps=1e-05, momentum=0.1, affine=True, track_running_stats=True)\n",
              "      (conv2): Conv2d(512, 512, kernel_size=(3, 3), stride=(2, 2), padding=(1, 1), bias=False)\n",
              "      (bn2): BatchNorm2d(512, eps=1e-05, momentum=0.1, affine=True, track_running_stats=True)\n",
              "      (conv3): Conv2d(512, 2048, kernel_size=(1, 1), stride=(1, 1), bias=False)\n",
              "      (bn3): BatchNorm2d(2048, eps=1e-05, momentum=0.1, affine=True, track_running_stats=True)\n",
              "      (relu): ReLU(inplace=True)\n",
              "      (downsample): Sequential(\n",
              "        (0): Conv2d(1024, 2048, kernel_size=(1, 1), stride=(2, 2), bias=False)\n",
              "        (1): BatchNorm2d(2048, eps=1e-05, momentum=0.1, affine=True, track_running_stats=True)\n",
              "      )\n",
              "    )\n",
              "    (1): Bottleneck(\n",
              "      (conv1): Conv2d(2048, 512, kernel_size=(1, 1), stride=(1, 1), bias=False)\n",
              "      (bn1): BatchNorm2d(512, eps=1e-05, momentum=0.1, affine=True, track_running_stats=True)\n",
              "      (conv2): Conv2d(512, 512, kernel_size=(3, 3), stride=(1, 1), padding=(1, 1), bias=False)\n",
              "      (bn2): BatchNorm2d(512, eps=1e-05, momentum=0.1, affine=True, track_running_stats=True)\n",
              "      (conv3): Conv2d(512, 2048, kernel_size=(1, 1), stride=(1, 1), bias=False)\n",
              "      (bn3): BatchNorm2d(2048, eps=1e-05, momentum=0.1, affine=True, track_running_stats=True)\n",
              "      (relu): ReLU(inplace=True)\n",
              "    )\n",
              "    (2): Bottleneck(\n",
              "      (conv1): Conv2d(2048, 512, kernel_size=(1, 1), stride=(1, 1), bias=False)\n",
              "      (bn1): BatchNorm2d(512, eps=1e-05, momentum=0.1, affine=True, track_running_stats=True)\n",
              "      (conv2): Conv2d(512, 512, kernel_size=(3, 3), stride=(1, 1), padding=(1, 1), bias=False)\n",
              "      (bn2): BatchNorm2d(512, eps=1e-05, momentum=0.1, affine=True, track_running_stats=True)\n",
              "      (conv3): Conv2d(512, 2048, kernel_size=(1, 1), stride=(1, 1), bias=False)\n",
              "      (bn3): BatchNorm2d(2048, eps=1e-05, momentum=0.1, affine=True, track_running_stats=True)\n",
              "      (relu): ReLU(inplace=True)\n",
              "    )\n",
              "  )\n",
              "  (avgpool): AdaptiveAvgPool2d(output_size=(1, 1))\n",
              "  (fc): Linear(in_features=2048, out_features=1000, bias=True)\n",
              ")"
            ]
          },
          "metadata": {},
          "execution_count": 15
        }
      ]
    },
    {
      "cell_type": "markdown",
      "metadata": {
        "id": "vOOOKOABPiSD"
      },
      "source": [
        "You can also check the number of parameters to get an idea of how complex can be deeper models. "
      ]
    },
    {
      "cell_type": "code",
      "metadata": {
        "id": "gL6zlyBqP_Gy",
        "colab": {
          "base_uri": "https://localhost:8080/"
        },
        "outputId": "06988837-7032-48f5-c3fe-e972003df540"
      },
      "source": [
        "print(\"Nb params of ResNet18 : {}\".format(sum(p.data.nelement() for p in resnet18.parameters())))\n",
        "print(\"Nb params of ResNet50 : {}\".format(sum(p.data.nelement() for p in resnet50.parameters())))"
      ],
      "execution_count": null,
      "outputs": [
        {
          "output_type": "stream",
          "name": "stdout",
          "text": [
            "Nb params of ResNet18 : 11689512\n",
            "Nb params of ResNet50 : 25557032\n"
          ]
        }
      ]
    },
    {
      "cell_type": "markdown",
      "metadata": {
        "id": "sS9ATsZZTPWo"
      },
      "source": [
        "One final remark is about the model parameters (weights). As we said earlier, these models are trained on the ImageNet dataset. When we instanciate a model, we can specify wheter we load the weights found by this pretraining, or we use a model with randomly initialized weights (default). For this, each model has a boolean called pretrained. If set to False, the weights are initialized randomly (default value), if set to True, the pretrained weights will be loaded.\n",
        "\n",
        "**Example :**"
      ]
    },
    {
      "cell_type": "code",
      "metadata": {
        "id": "XnUmvOGNVk0r",
        "colab": {
          "base_uri": "https://localhost:8080/",
          "height": 156,
          "referenced_widgets": [
            "0b445635ec9c4fedbc0f605403ac92ad",
            "0ea82bd1fa92467f9b0a3474c13b5906",
            "151f56a8fd7c48b38ecce278ba9241ba",
            "40825a9eeefb4dde87f90ee89790ae17",
            "39e70775070547e9a642d092341b944d",
            "c8db11592d124dcda3b40b5471c398cb",
            "f78beba3969c4aba831eae2e787b1c77",
            "48db76b499c04bfaac3bd55c0eee8678",
            "f085703f5f3f43ae96fc02faf37441c9",
            "69f9d6c079714c4ab94a38158272a65e",
            "53aadc341021463592339b0a9f95bc05"
          ]
        },
        "outputId": "9c81727e-8b33-4801-e2c2-f149a7e0d6dd"
      },
      "source": [
        "alexnet = models.alexnet(pretrained=True) # load alexnet model with pretrained weights."
      ],
      "execution_count": null,
      "outputs": [
        {
          "output_type": "stream",
          "name": "stderr",
          "text": [
            "/usr/local/lib/python3.7/dist-packages/torchvision/models/_utils.py:209: UserWarning: The parameter 'pretrained' is deprecated since 0.13 and will be removed in 0.15, please use 'weights' instead.\n",
            "  f\"The parameter '{pretrained_param}' is deprecated since 0.13 and will be removed in 0.15, \"\n",
            "/usr/local/lib/python3.7/dist-packages/torchvision/models/_utils.py:223: UserWarning: Arguments other than a weight enum or `None` for 'weights' are deprecated since 0.13 and will be removed in 0.15. The current behavior is equivalent to passing `weights=AlexNet_Weights.IMAGENET1K_V1`. You can also use `weights=AlexNet_Weights.DEFAULT` to get the most up-to-date weights.\n",
            "  warnings.warn(msg)\n",
            "Downloading: \"https://download.pytorch.org/models/alexnet-owt-7be5be79.pth\" to /root/.cache/torch/hub/checkpoints/alexnet-owt-7be5be79.pth\n"
          ]
        },
        {
          "output_type": "display_data",
          "data": {
            "text/plain": [
              "  0%|          | 0.00/233M [00:00<?, ?B/s]"
            ],
            "application/vnd.jupyter.widget-view+json": {
              "version_major": 2,
              "version_minor": 0,
              "model_id": "0b445635ec9c4fedbc0f605403ac92ad"
            }
          },
          "metadata": {}
        }
      ]
    },
    {
      "cell_type": "markdown",
      "metadata": {
        "id": "2maNPA7iQazd"
      },
      "source": [
        "## Exercice : \n",
        "\n",
        "- Instanciate **two** ResNet18 models : one **with** pretrained weights and another **without** pretrained weights.\n",
        "- Do the adequate modifications in order to train the two models on the MNIST dataset (pay attention to the fact that ImageNet contains colored images and 1000 classes while MNIST has grey-scale images and 10 classes)\n",
        "- Compare the accuracy of the two models. Does pretraining bring any gain ? "
      ]
    },
    {
      "cell_type": "markdown",
      "metadata": {
        "id": "2q3I35AscAz2"
      },
      "source": [
        "## Correction"
      ]
    },
    {
      "cell_type": "code",
      "metadata": {
        "id": "XvKcK58LcDsJ",
        "colab": {
          "base_uri": "https://localhost:8080/"
        },
        "outputId": "f731c949-16cf-4035-b240-0d49db5734f3"
      },
      "source": [
        "# load resnet without pretrained weights\n",
        "resnet18 = models.resnet18(pretrained=False)\n",
        "resnet18.conv1 = torch.nn.Conv2d(1, 64, (7,7), stride=(2,2), padding=(3,3), bias=False)\n",
        "resnet18.fc = torch.nn.Linear(512, 10)"
      ],
      "execution_count": null,
      "outputs": [
        {
          "output_type": "stream",
          "name": "stderr",
          "text": [
            "/usr/local/lib/python3.7/dist-packages/torchvision/models/_utils.py:223: UserWarning: Arguments other than a weight enum or `None` for 'weights' are deprecated since 0.13 and will be removed in 0.15. The current behavior is equivalent to passing `weights=None`.\n",
            "  warnings.warn(msg)\n"
          ]
        }
      ]
    },
    {
      "cell_type": "code",
      "metadata": {
        "id": "gF7OP_ERmJ28",
        "colab": {
          "base_uri": "https://localhost:8080/",
          "height": 779
        },
        "outputId": "bec14a4e-6ecf-4e04-ce63-293e825210d0"
      },
      "source": [
        "print(\"Training resnet without pretrained weights\")\n",
        "\n",
        "## Select the device\n",
        "device = torch.device('cuda:0' if torch.cuda.is_available() else 'cpu')\n",
        "\n",
        "## train the model.\n",
        "train_optim(resnet18, epochs=5, log_frequency=100, device=device, learning_rate=1e-3)"
      ],
      "execution_count": null,
      "outputs": [
        {
          "output_type": "stream",
          "name": "stdout",
          "text": [
            "Training resnet without pretrained weights\n",
            "epoch: 001, batch: 001, loss: 2.500 \n",
            "epoch: 001, batch: 101, loss: 0.347 \n",
            "epoch: 001, batch: 201, loss: 0.030 \n",
            "epoch: 001, batch: 301, loss: 0.022 \n",
            "epoch: 001, batch: 401, loss: 0.105 \n",
            "epoch: 001, batch: 501, loss: 0.020 \n",
            "epoch: 001, batch: 601, loss: 0.053 \n",
            "epoch: 001, batch: 701, loss: 0.119 \n",
            "epoch: 001, batch: 801, loss: 0.053 \n",
            "epoch: 001, batch: 901, loss: 0.095 \n",
            "epoch: 001, batch: 1001, loss: 0.104 \n",
            "epoch: 001, batch: 1101, loss: 0.170 \n",
            "epoch: 001, batch: 1201, loss: 0.028 \n",
            "epoch: 001, batch: 1301, loss: 0.079 \n",
            "epoch: 001, batch: 1401, loss: 0.161 \n",
            "epoch: 001, batch: 1501, loss: 0.189 \n",
            "epoch: 001, batch: 1601, loss: 0.043 \n",
            "epoch: 001, batch: 1701, loss: 0.078 \n",
            "epoch: 001, batch: 1801, loss: 0.009 \n",
            "[validation] accuracy: 97.410%\n",
            "\n",
            "epoch: 002, batch: 001, loss: 0.486 \n",
            "epoch: 002, batch: 101, loss: 0.026 \n",
            "epoch: 002, batch: 201, loss: 0.041 \n"
          ]
        },
        {
          "output_type": "error",
          "ename": "KeyboardInterrupt",
          "evalue": "ignored",
          "traceback": [
            "\u001b[0;31m---------------------------------------------------------------------------\u001b[0m",
            "\u001b[0;31mKeyboardInterrupt\u001b[0m                         Traceback (most recent call last)",
            "\u001b[0;32m<ipython-input-19-0450a092ee50>\u001b[0m in \u001b[0;36m<module>\u001b[0;34m\u001b[0m\n\u001b[1;32m      5\u001b[0m \u001b[0;34m\u001b[0m\u001b[0m\n\u001b[1;32m      6\u001b[0m \u001b[0;31m## train the model.\u001b[0m\u001b[0;34m\u001b[0m\u001b[0;34m\u001b[0m\u001b[0;34m\u001b[0m\u001b[0m\n\u001b[0;32m----> 7\u001b[0;31m \u001b[0mtrain_optim\u001b[0m\u001b[0;34m(\u001b[0m\u001b[0mresnet18\u001b[0m\u001b[0;34m,\u001b[0m \u001b[0mepochs\u001b[0m\u001b[0;34m=\u001b[0m\u001b[0;36m5\u001b[0m\u001b[0;34m,\u001b[0m \u001b[0mlog_frequency\u001b[0m\u001b[0;34m=\u001b[0m\u001b[0;36m100\u001b[0m\u001b[0;34m,\u001b[0m \u001b[0mdevice\u001b[0m\u001b[0;34m=\u001b[0m\u001b[0mdevice\u001b[0m\u001b[0;34m,\u001b[0m \u001b[0mlearning_rate\u001b[0m\u001b[0;34m=\u001b[0m\u001b[0;36m1e-3\u001b[0m\u001b[0;34m)\u001b[0m\u001b[0;34m\u001b[0m\u001b[0;34m\u001b[0m\u001b[0m\n\u001b[0m",
            "\u001b[0;32m<ipython-input-8-63b4d72e3f35>\u001b[0m in \u001b[0;36mtrain_optim\u001b[0;34m(model, epochs, log_frequency, device, learning_rate)\u001b[0m\n\u001b[1;32m     30\u001b[0m \u001b[0;34m\u001b[0m\u001b[0m\n\u001b[1;32m     31\u001b[0m         \u001b[0moptimizer\u001b[0m\u001b[0;34m.\u001b[0m\u001b[0mzero_grad\u001b[0m\u001b[0;34m(\u001b[0m\u001b[0;34m)\u001b[0m \u001b[0;31m# clear the gradient before backward\u001b[0m\u001b[0;34m\u001b[0m\u001b[0;34m\u001b[0m\u001b[0m\n\u001b[0;32m---> 32\u001b[0;31m         \u001b[0mloss\u001b[0m\u001b[0;34m.\u001b[0m\u001b[0mbackward\u001b[0m\u001b[0;34m(\u001b[0m\u001b[0;34m)\u001b[0m       \u001b[0;31m# update the gradient\u001b[0m\u001b[0;34m\u001b[0m\u001b[0;34m\u001b[0m\u001b[0m\n\u001b[0m\u001b[1;32m     33\u001b[0m \u001b[0;34m\u001b[0m\u001b[0m\n\u001b[1;32m     34\u001b[0m         \u001b[0moptimizer\u001b[0m\u001b[0;34m.\u001b[0m\u001b[0mstep\u001b[0m\u001b[0;34m(\u001b[0m\u001b[0;34m)\u001b[0m \u001b[0;31m# update the model parameters using the gradient\u001b[0m\u001b[0;34m\u001b[0m\u001b[0;34m\u001b[0m\u001b[0m\n",
            "\u001b[0;32m/usr/local/lib/python3.7/dist-packages/torch/_tensor.py\u001b[0m in \u001b[0;36mbackward\u001b[0;34m(self, gradient, retain_graph, create_graph, inputs)\u001b[0m\n\u001b[1;32m    394\u001b[0m                 \u001b[0mcreate_graph\u001b[0m\u001b[0;34m=\u001b[0m\u001b[0mcreate_graph\u001b[0m\u001b[0;34m,\u001b[0m\u001b[0;34m\u001b[0m\u001b[0;34m\u001b[0m\u001b[0m\n\u001b[1;32m    395\u001b[0m                 inputs=inputs)\n\u001b[0;32m--> 396\u001b[0;31m         \u001b[0mtorch\u001b[0m\u001b[0;34m.\u001b[0m\u001b[0mautograd\u001b[0m\u001b[0;34m.\u001b[0m\u001b[0mbackward\u001b[0m\u001b[0;34m(\u001b[0m\u001b[0mself\u001b[0m\u001b[0;34m,\u001b[0m \u001b[0mgradient\u001b[0m\u001b[0;34m,\u001b[0m \u001b[0mretain_graph\u001b[0m\u001b[0;34m,\u001b[0m \u001b[0mcreate_graph\u001b[0m\u001b[0;34m,\u001b[0m \u001b[0minputs\u001b[0m\u001b[0;34m=\u001b[0m\u001b[0minputs\u001b[0m\u001b[0;34m)\u001b[0m\u001b[0;34m\u001b[0m\u001b[0;34m\u001b[0m\u001b[0m\n\u001b[0m\u001b[1;32m    397\u001b[0m \u001b[0;34m\u001b[0m\u001b[0m\n\u001b[1;32m    398\u001b[0m     \u001b[0;32mdef\u001b[0m \u001b[0mregister_hook\u001b[0m\u001b[0;34m(\u001b[0m\u001b[0mself\u001b[0m\u001b[0;34m,\u001b[0m \u001b[0mhook\u001b[0m\u001b[0;34m)\u001b[0m\u001b[0;34m:\u001b[0m\u001b[0;34m\u001b[0m\u001b[0;34m\u001b[0m\u001b[0m\n",
            "\u001b[0;32m/usr/local/lib/python3.7/dist-packages/torch/autograd/__init__.py\u001b[0m in \u001b[0;36mbackward\u001b[0;34m(tensors, grad_tensors, retain_graph, create_graph, grad_variables, inputs)\u001b[0m\n\u001b[1;32m    173\u001b[0m     Variable._execution_engine.run_backward(  # Calls into the C++ engine to run the backward pass\n\u001b[1;32m    174\u001b[0m         \u001b[0mtensors\u001b[0m\u001b[0;34m,\u001b[0m \u001b[0mgrad_tensors_\u001b[0m\u001b[0;34m,\u001b[0m \u001b[0mretain_graph\u001b[0m\u001b[0;34m,\u001b[0m \u001b[0mcreate_graph\u001b[0m\u001b[0;34m,\u001b[0m \u001b[0minputs\u001b[0m\u001b[0;34m,\u001b[0m\u001b[0;34m\u001b[0m\u001b[0;34m\u001b[0m\u001b[0m\n\u001b[0;32m--> 175\u001b[0;31m         allow_unreachable=True, accumulate_grad=True)  # Calls into the C++ engine to run the backward pass\n\u001b[0m\u001b[1;32m    176\u001b[0m \u001b[0;34m\u001b[0m\u001b[0m\n\u001b[1;32m    177\u001b[0m def grad(\n",
            "\u001b[0;31mKeyboardInterrupt\u001b[0m: "
          ]
        }
      ]
    },
    {
      "cell_type": "code",
      "metadata": {
        "id": "KgU8HCuhcO_Q",
        "colab": {
          "base_uri": "https://localhost:8080/",
          "height": 121,
          "referenced_widgets": [
            "225da79eee1842ee8d8d7aecf8ea135b",
            "38ab06ee23174b659b3b2a2063c5ae6b",
            "9616e61be2634cc0a99f6f84b423c901",
            "0826bf53bf3c4ca6af0145f832c14200",
            "b7cc4f7d173743bdb57dfacb882ca137",
            "ddf53b6be69a4a169c6c39739dba250f",
            "b6c093939ef249738906c15fe9d17e42",
            "e026d559c237453ca7505c4e8a3a397f",
            "334c0092726a479b99ca394e7dbe1c3b",
            "9c8c5e5d693b42ab9efe2d94e15b93ce",
            "7777de1f64b04d929ba584e4de753165"
          ]
        },
        "outputId": "36ed29b1-43c5-4a66-a66f-bf287257848f"
      },
      "source": [
        "\n",
        "# load resnet with pretrained weights\n",
        "presnet18 = models.resnet18(pretrained=True)\n",
        "presnet18.conv1 = torch.nn.Conv2d(1, 64, (7,7), stride=(2,2), padding=(3,3), bias=False)\n",
        "presnet18.fc = torch.nn.Linear(512, 10)\n"
      ],
      "execution_count": null,
      "outputs": [
        {
          "output_type": "stream",
          "name": "stderr",
          "text": [
            "/usr/local/lib/python3.7/dist-packages/torchvision/models/_utils.py:223: UserWarning: Arguments other than a weight enum or `None` for 'weights' are deprecated since 0.13 and will be removed in 0.15. The current behavior is equivalent to passing `weights=ResNet18_Weights.IMAGENET1K_V1`. You can also use `weights=ResNet18_Weights.DEFAULT` to get the most up-to-date weights.\n",
            "  warnings.warn(msg)\n",
            "Downloading: \"https://download.pytorch.org/models/resnet18-f37072fd.pth\" to /root/.cache/torch/hub/checkpoints/resnet18-f37072fd.pth\n"
          ]
        },
        {
          "output_type": "display_data",
          "data": {
            "text/plain": [
              "  0%|          | 0.00/44.7M [00:00<?, ?B/s]"
            ],
            "application/vnd.jupyter.widget-view+json": {
              "version_major": 2,
              "version_minor": 0,
              "model_id": "225da79eee1842ee8d8d7aecf8ea135b"
            }
          },
          "metadata": {}
        }
      ]
    },
    {
      "cell_type": "code",
      "metadata": {
        "id": "xrm8HsK6cpFB",
        "colab": {
          "base_uri": "https://localhost:8080/",
          "height": 380
        },
        "outputId": "111f44e1-1eb4-4ab1-fa80-13c8fe63f139"
      },
      "source": [
        "print(\"Training resnet with pretrained weights\")\n",
        "\n",
        "## Select the device\n",
        "device = torch.device('cuda:0' if torch.cuda.is_available() else 'cpu')\n",
        "\n",
        "## train the model.\n",
        "train_optim(presnet18, epochs=3, log_frequency=100, device=device, learning_rate=1e-3)"
      ],
      "execution_count": null,
      "outputs": [
        {
          "output_type": "stream",
          "name": "stdout",
          "text": [
            "Training resnet with pretrained weights\n",
            "epoch: 001, batch: 001, loss: 2.437 \n"
          ]
        },
        {
          "output_type": "error",
          "ename": "KeyboardInterrupt",
          "evalue": "ignored",
          "traceback": [
            "\u001b[0;31m---------------------------------------------------------------------------\u001b[0m",
            "\u001b[0;31mKeyboardInterrupt\u001b[0m                         Traceback (most recent call last)",
            "\u001b[0;32m<ipython-input-22-bb27741e0068>\u001b[0m in \u001b[0;36m<module>\u001b[0;34m\u001b[0m\n\u001b[1;32m      5\u001b[0m \u001b[0;34m\u001b[0m\u001b[0m\n\u001b[1;32m      6\u001b[0m \u001b[0;31m## train the model.\u001b[0m\u001b[0;34m\u001b[0m\u001b[0;34m\u001b[0m\u001b[0;34m\u001b[0m\u001b[0m\n\u001b[0;32m----> 7\u001b[0;31m \u001b[0mtrain_optim\u001b[0m\u001b[0;34m(\u001b[0m\u001b[0mpresnet18\u001b[0m\u001b[0;34m,\u001b[0m \u001b[0mepochs\u001b[0m\u001b[0;34m=\u001b[0m\u001b[0;36m3\u001b[0m\u001b[0;34m,\u001b[0m \u001b[0mlog_frequency\u001b[0m\u001b[0;34m=\u001b[0m\u001b[0;36m100\u001b[0m\u001b[0;34m,\u001b[0m \u001b[0mdevice\u001b[0m\u001b[0;34m=\u001b[0m\u001b[0mdevice\u001b[0m\u001b[0;34m,\u001b[0m \u001b[0mlearning_rate\u001b[0m\u001b[0;34m=\u001b[0m\u001b[0;36m1e-3\u001b[0m\u001b[0;34m)\u001b[0m\u001b[0;34m\u001b[0m\u001b[0;34m\u001b[0m\u001b[0m\n\u001b[0m",
            "\u001b[0;32m<ipython-input-8-63b4d72e3f35>\u001b[0m in \u001b[0;36mtrain_optim\u001b[0;34m(model, epochs, log_frequency, device, learning_rate)\u001b[0m\n\u001b[1;32m     30\u001b[0m \u001b[0;34m\u001b[0m\u001b[0m\n\u001b[1;32m     31\u001b[0m         \u001b[0moptimizer\u001b[0m\u001b[0;34m.\u001b[0m\u001b[0mzero_grad\u001b[0m\u001b[0;34m(\u001b[0m\u001b[0;34m)\u001b[0m \u001b[0;31m# clear the gradient before backward\u001b[0m\u001b[0;34m\u001b[0m\u001b[0;34m\u001b[0m\u001b[0m\n\u001b[0;32m---> 32\u001b[0;31m         \u001b[0mloss\u001b[0m\u001b[0;34m.\u001b[0m\u001b[0mbackward\u001b[0m\u001b[0;34m(\u001b[0m\u001b[0;34m)\u001b[0m       \u001b[0;31m# update the gradient\u001b[0m\u001b[0;34m\u001b[0m\u001b[0;34m\u001b[0m\u001b[0m\n\u001b[0m\u001b[1;32m     33\u001b[0m \u001b[0;34m\u001b[0m\u001b[0m\n\u001b[1;32m     34\u001b[0m         \u001b[0moptimizer\u001b[0m\u001b[0;34m.\u001b[0m\u001b[0mstep\u001b[0m\u001b[0;34m(\u001b[0m\u001b[0;34m)\u001b[0m \u001b[0;31m# update the model parameters using the gradient\u001b[0m\u001b[0;34m\u001b[0m\u001b[0;34m\u001b[0m\u001b[0m\n",
            "\u001b[0;32m/usr/local/lib/python3.7/dist-packages/torch/_tensor.py\u001b[0m in \u001b[0;36mbackward\u001b[0;34m(self, gradient, retain_graph, create_graph, inputs)\u001b[0m\n\u001b[1;32m    394\u001b[0m                 \u001b[0mcreate_graph\u001b[0m\u001b[0;34m=\u001b[0m\u001b[0mcreate_graph\u001b[0m\u001b[0;34m,\u001b[0m\u001b[0;34m\u001b[0m\u001b[0;34m\u001b[0m\u001b[0m\n\u001b[1;32m    395\u001b[0m                 inputs=inputs)\n\u001b[0;32m--> 396\u001b[0;31m         \u001b[0mtorch\u001b[0m\u001b[0;34m.\u001b[0m\u001b[0mautograd\u001b[0m\u001b[0;34m.\u001b[0m\u001b[0mbackward\u001b[0m\u001b[0;34m(\u001b[0m\u001b[0mself\u001b[0m\u001b[0;34m,\u001b[0m \u001b[0mgradient\u001b[0m\u001b[0;34m,\u001b[0m \u001b[0mretain_graph\u001b[0m\u001b[0;34m,\u001b[0m \u001b[0mcreate_graph\u001b[0m\u001b[0;34m,\u001b[0m \u001b[0minputs\u001b[0m\u001b[0;34m=\u001b[0m\u001b[0minputs\u001b[0m\u001b[0;34m)\u001b[0m\u001b[0;34m\u001b[0m\u001b[0;34m\u001b[0m\u001b[0m\n\u001b[0m\u001b[1;32m    397\u001b[0m \u001b[0;34m\u001b[0m\u001b[0m\n\u001b[1;32m    398\u001b[0m     \u001b[0;32mdef\u001b[0m \u001b[0mregister_hook\u001b[0m\u001b[0;34m(\u001b[0m\u001b[0mself\u001b[0m\u001b[0;34m,\u001b[0m \u001b[0mhook\u001b[0m\u001b[0;34m)\u001b[0m\u001b[0;34m:\u001b[0m\u001b[0;34m\u001b[0m\u001b[0;34m\u001b[0m\u001b[0m\n",
            "\u001b[0;32m/usr/local/lib/python3.7/dist-packages/torch/autograd/__init__.py\u001b[0m in \u001b[0;36mbackward\u001b[0;34m(tensors, grad_tensors, retain_graph, create_graph, grad_variables, inputs)\u001b[0m\n\u001b[1;32m    173\u001b[0m     Variable._execution_engine.run_backward(  # Calls into the C++ engine to run the backward pass\n\u001b[1;32m    174\u001b[0m         \u001b[0mtensors\u001b[0m\u001b[0;34m,\u001b[0m \u001b[0mgrad_tensors_\u001b[0m\u001b[0;34m,\u001b[0m \u001b[0mretain_graph\u001b[0m\u001b[0;34m,\u001b[0m \u001b[0mcreate_graph\u001b[0m\u001b[0;34m,\u001b[0m \u001b[0minputs\u001b[0m\u001b[0;34m,\u001b[0m\u001b[0;34m\u001b[0m\u001b[0;34m\u001b[0m\u001b[0m\n\u001b[0;32m--> 175\u001b[0;31m         allow_unreachable=True, accumulate_grad=True)  # Calls into the C++ engine to run the backward pass\n\u001b[0m\u001b[1;32m    176\u001b[0m \u001b[0;34m\u001b[0m\u001b[0m\n\u001b[1;32m    177\u001b[0m def grad(\n",
            "\u001b[0;31mKeyboardInterrupt\u001b[0m: "
          ]
        }
      ]
    },
    {
      "cell_type": "code",
      "metadata": {
        "id": "prNJmJdhhw7A"
      },
      "source": [
        "# method 2 \n",
        "# load resnet with pretrained weights\n",
        "resnet = models.resnet18(pretrained=True)\n",
        "resnet.fc = torch.nn.Linear(512, 10)\n",
        "model = torch.nn.Sequential(\n",
        "    torch.nn.Conv2d(1, 3, (1,1), stride=(1,1), padding=0, bias=False),\n",
        "    resnet\n",
        ")\n"
      ],
      "execution_count": null,
      "outputs": []
    },
    {
      "cell_type": "code",
      "metadata": {
        "id": "EJKAHzgpchuT"
      },
      "source": [
        "print(\"Training resnet with pretrained weights\")\n",
        "\n",
        "## Select the device\n",
        "device = torch.device('cuda:0' if torch.cuda.is_available() else 'cpu')\n",
        "\n",
        "## train the model.\n",
        "train_optim(model, epochs=5, log_frequency=100, device=device, learning_rate=1e-3)"
      ],
      "execution_count": null,
      "outputs": []
    },
    {
      "cell_type": "markdown",
      "metadata": {
        "id": "sbyMoqFfdbj5"
      },
      "source": [
        "Let's now see how we can use a pretrained model as a feature extractor. Recall that when you use your model as a feature extractor, you **freeze** the model parameters. In practice, it means that the `requires_grad` field is set to `False`. When applying backpropagation, the freezed weights won't be updated. Better than this, the gradient will not be computed at all, [which saves you memory](https://discuss.pytorch.org/t/passing-a-subset-of-the-parameters-to-an-optimizer-equivalent-to-setting-requires-grad-of-subset-only-to-true/42866/2).\n",
        "\n",
        "To freeze model parameters, we can create a simple function that loops over the model parameters and set the `requires_grad` attribute to `False`"
      ]
    },
    {
      "cell_type": "code",
      "metadata": {
        "id": "24XJ6ujphDI5"
      },
      "source": [
        "def freeze_model(model):\n",
        "  for param in model.parameters():\n",
        "    param.requires_grad = False"
      ],
      "execution_count": null,
      "outputs": []
    },
    {
      "cell_type": "markdown",
      "metadata": {
        "id": "wIJPzf1tiSPi"
      },
      "source": [
        "**Question** : visualize the `requires_grad` attribute of the instanciated pretrained ResNet18 before and after applying the `freeze_model` method. Do you see the change ?  "
      ]
    },
    {
      "cell_type": "markdown",
      "metadata": {
        "id": "GklIdQkUh73Y"
      },
      "source": [
        "Pay attention at the moment when you call `freeze_model` function. If you use it after you changed some layers (like you did in the previous exercice), those layers won't be updated and no training will occure to you model. To avoid this kind of problems, you can follow these steps when using a model as a feature extractor :\n",
        "1. Instanciate a model with `pretrained=True`\n",
        "2. Use the `freeze_model` function to freeze model parameters\n",
        "3. Do the appropriate changes to adapt the model to your task."
      ]
    },
    {
      "cell_type": "markdown",
      "metadata": {
        "id": "UxqVyMxQlP2m"
      },
      "source": [
        "**Question** : how will you do if you inverted between step 2. and step 3.? "
      ]
    },
    {
      "cell_type": "markdown",
      "metadata": {
        "id": "aOh9VTywl3Ez"
      },
      "source": [
        "**Answer** : Unfreeze the parameters by looping over the parameters and set `requires_grad` back to True. Example with `presnet18`"
      ]
    },
    {
      "cell_type": "code",
      "metadata": {
        "id": "oBWx3DmEmPXh"
      },
      "source": [
        "freeze_model(presnet18)\n",
        "\n",
        "for param in presnet18.conv1.parameters():\n",
        "  param.requires_grad = True\n",
        "\n",
        "for param in presnet18.fc.parameters():\n",
        "  param.requires_grad = True"
      ],
      "execution_count": null,
      "outputs": []
    },
    {
      "cell_type": "markdown",
      "metadata": {
        "id": "0tTOYvAPm6GJ"
      },
      "source": [
        "## Exercise : \n",
        "In this exercice, you will work on CIFAR10 dataset. \n",
        "\n",
        "You are asked to use ResNet (or any other model!) as a feature extractor. \n",
        "\n",
        "Add a multi-layer perceptron of your choice to solve the classification task.\n"
      ]
    },
    {
      "cell_type": "code",
      "metadata": {
        "id": "iTGvACnx70qG"
      },
      "source": [
        "import torch\n",
        "import torchvision\n",
        "import torchvision.transforms as transforms\n",
        "from torchvision import models"
      ],
      "execution_count": null,
      "outputs": []
    },
    {
      "cell_type": "markdown",
      "metadata": {
        "id": "yqVV5Dzh8uzp"
      },
      "source": [
        "Let's load the CIFAR10 dataset. This dataset contains 60000 images from 10 classes as shown in the picture below. The images are 3 channels 32x32 pixel.\n",
        "\n",
        "![](https://pytorch.org/tutorials/_images/cifar10.png)"
      ]
    },
    {
      "cell_type": "code",
      "metadata": {
        "id": "DfCbtS7W71j_"
      },
      "source": [
        "transform = transforms.Compose(\n",
        "    [transforms.Resize((224,224)),\n",
        "     transforms.ToTensor(),\n",
        "     transforms.Normalize((0.5, 0.5, 0.5), (0.5, 0.5, 0.5))])\n",
        "\n",
        "trainset = torchvision.datasets.CIFAR10(root='./data', train=True,\n",
        "                                        download=True, transform=transform)\n",
        "trainloader = torch.utils.data.DataLoader(trainset, batch_size=4,\n",
        "                                          shuffle=True, num_workers=2)\n",
        "\n",
        "testset = torchvision.datasets.CIFAR10(root='./data', train=False,\n",
        "                                       download=True, transform=transform)\n",
        "testloader = torch.utils.data.DataLoader(testset, batch_size=4,\n",
        "                                         shuffle=False, num_workers=2)\n",
        "\n",
        "classes = ('plane', 'car', 'bird', 'cat',\n",
        "           'deer', 'dog', 'frog', 'horse', 'ship', 'truck')\n",
        "\n",
        "print(\"Number of training instances: {}\\nNumber of test instances : {}\".format(len(trainset), len(testset)))"
      ],
      "execution_count": null,
      "outputs": []
    },
    {
      "cell_type": "markdown",
      "metadata": {
        "id": "lmrnHlXe7ylr"
      },
      "source": [
        "## Correction"
      ]
    },
    {
      "cell_type": "code",
      "metadata": {
        "id": "8yB2hoVR9kib"
      },
      "source": [
        "resnet = models.resnet50(pretrained=True)\n",
        "\n",
        "freeze_model(resnet)\n",
        "\n",
        "resnet.fc = torch.nn.Sequential(\n",
        "    torch.nn.Linear(2048, 1024),\n",
        "    torch.nn.ReLU(),\n",
        "    torch.nn.Linear(1024,512),\n",
        "    torch.nn.ReLU(),\n",
        "    torch.nn.Linear(512, 10)\n",
        ")\n"
      ],
      "execution_count": null,
      "outputs": []
    },
    {
      "cell_type": "code",
      "metadata": {
        "id": "mkAzSVPLACeD"
      },
      "source": [
        "device = torch.device('cuda:0' if torch.cuda.is_available() else 'cpu')\n",
        "\n",
        "train_optim(resnet, epochs=2, log_frequency=60, device=device)"
      ],
      "execution_count": null,
      "outputs": []
    },
    {
      "cell_type": "code",
      "metadata": {
        "id": "WOhfVPp42M2D"
      },
      "source": [
        "import matplotlib.pyplot as plt\n",
        "\n",
        "\n",
        "resnet.eval()\n",
        "\n",
        "images, labels = iter(trainloader).next()\n",
        "images = images.to(device)\n",
        "\n",
        "logits = resnet(images) # pass forward\n",
        "distrib_prob = torch.nn.Softmax(dim=1)(logits)\n",
        "_, predicted = torch.max(distrib_prob , 1)     # decision rule, we select the max\n",
        "\n",
        "id_image = 1\n",
        "image = images[id_image]\n",
        "expected_label = labels[id_image]\n",
        "prediction = predicted[id_image]\n",
        "\n",
        "# plot\n",
        "figure = plt.figure()\n",
        "\n",
        "plt.axis('off')\n",
        "plt.gca().set_title(f\"expected: {classes[expected_label]} {expected_label} : prediction {classes[prediction]} {prediction}\")\n",
        "image_t = image.permute(1,2,0)\n",
        "from torch import Tensor\n",
        "plt.imshow(Tensor.cpu(image_t).numpy().squeeze())\n"
      ],
      "execution_count": null,
      "outputs": []
    },
    {
      "cell_type": "markdown",
      "metadata": {
        "id": "hAw-VIvzwSRq"
      },
      "source": [
        "Credits for the animation : \n",
        "https://github.com/vdumoulin/conv_arithmetic/blob/master/README.md"
      ]
    },
    {
      "cell_type": "markdown",
      "metadata": {
        "id": "Zu9KM9fUqxg4"
      },
      "source": [
        "https://pytorch.org/tutorials/beginner/finetuning_torchvision_models_tutorial.html"
      ]
    }
  ]
}