{
  "cells": [
    {
      "cell_type": "markdown",
      "metadata": {},
      "source": [
        "## Rapport : Résolution de Problèmes / Machine Learning\n",
        "\n",
        "#### IMT Mines Alès Octobre 2022\n",
        "##### INFRES 13 \n",
        "- **Quentin BIALOTA**\n",
        "- **Alexandre BOMPUIS**\n",
        "- **Julia LOCATELLI**\n",
        "- **Tom L'HERMENIER**\n",
        "\n",
        "![Logo IMT](https://www.fondation-mines-telecom.org/wp-content/uploads/2018/02/imt_mines_ales-300x158.jpg)\n",
        "\n",
        "---\n",
        "\n",
        "Dans le cadre de du cours de **ANN & Deep learning** à l'IMT Mines Alès, nous avons réalisé un projet de notre choix, visant à résoudre un problème de machine learning, le tout en évaluant et comparant quelques modèles pour la résolution du problème. Dans ce projet, nous avons choisi de traiter une problématique visant à prédire les vêtements qu'on peut observer dans une image donné. Cette prédiction se fera à partir de différentes caractéristiques, notamment le sexe de la personne sur l'image, les catégories du vêtement (vêtement, accessoire, etc), et d'autres.\n",
        "\n",
        "---\n",
        "\n",
        "Afin de traiter ce problème, nous avons décidé d'utiliser un dataset déjà existant et disponible sur le site Kaggle. Ce dataset nommé \"Fashion Product Images\" est accessible au lien suivant : https://www.kaggle.com/datasets/paramaggarwal/fashion-product-images-dataset"
      ]
    },
    {
      "cell_type": "markdown",
      "metadata": {},
      "source": [
        "#### Imports globaux\n",
        "\n",
        "Avant toutes choses, veuillez lancer la cellule suivante pour importer les librairies et les outils utilisés dans ce rapport"
      ]
    },
    {
      "cell_type": "code",
      "execution_count": 29,
      "metadata": {
        "colab": {
          "base_uri": "https://localhost:8080/"
        },
        "id": "ZOEi0jIRmXgw",
        "outputId": "bdfdf452-26ac-48d6-fad6-6dddb60288c8"
      },
      "outputs": [],
      "source": [
        "## Import everything needed\n",
        "\n",
        "from IPython.display import display\n",
        "\n",
        "import pandas as pd\n",
        "import numpy as np\n",
        "import torch\n",
        "import cv2\n",
        "import matplotlib.pyplot as plt"
      ]
    },
    {
      "cell_type": "markdown",
      "metadata": {},
      "source": [
        "#### Import dataset\n",
        "\n",
        "Via la cellule suivante, vous pouvez importer le dataset en local (le dataset small est disponible [ici](https://www.kaggle.com/datasets/paramaggarwal/fashion-product-images-small?resource=download))"
      ]
    },
    {
      "cell_type": "code",
      "execution_count": 30,
      "metadata": {},
      "outputs": [],
      "source": [
        "# Import dataset\n",
        "df = pd.read_csv(\"fashion-dataset-small/styles.csv\", on_bad_lines='skip')"
      ]
    },
    {
      "cell_type": "markdown",
      "metadata": {},
      "source": [
        "#### Information sur le dataset\n",
        "\n",
        "44000+ produits avec des étiquettes de catégorie et des images."
      ]
    },
    {
      "cell_type": "code",
      "execution_count": 31,
      "metadata": {
        "colab": {
          "base_uri": "https://localhost:8080/",
          "height": 479
        },
        "id": "voLg4planmU-",
        "outputId": "359f403c-80c5-4630-a0f8-762f50db595f"
      },
      "outputs": [
        {
          "data": {
            "text/plain": [
              "'Dataset size'"
            ]
          },
          "metadata": {},
          "output_type": "display_data"
        },
        {
          "data": {
            "text/plain": [
              "44424"
            ]
          },
          "metadata": {},
          "output_type": "display_data"
        },
        {
          "data": {
            "text/plain": [
              "'First ten rows of the dataset'"
            ]
          },
          "metadata": {},
          "output_type": "display_data"
        },
        {
          "data": {
            "text/html": [
              "<div>\n",
              "<style scoped>\n",
              "    .dataframe tbody tr th:only-of-type {\n",
              "        vertical-align: middle;\n",
              "    }\n",
              "\n",
              "    .dataframe tbody tr th {\n",
              "        vertical-align: top;\n",
              "    }\n",
              "\n",
              "    .dataframe thead th {\n",
              "        text-align: right;\n",
              "    }\n",
              "</style>\n",
              "<table border=\"1\" class=\"dataframe\">\n",
              "  <thead>\n",
              "    <tr style=\"text-align: right;\">\n",
              "      <th></th>\n",
              "      <th>id</th>\n",
              "      <th>gender</th>\n",
              "      <th>masterCategory</th>\n",
              "      <th>subCategory</th>\n",
              "      <th>articleType</th>\n",
              "      <th>baseColour</th>\n",
              "      <th>season</th>\n",
              "      <th>year</th>\n",
              "      <th>usage</th>\n",
              "      <th>productDisplayName</th>\n",
              "    </tr>\n",
              "  </thead>\n",
              "  <tbody>\n",
              "    <tr>\n",
              "      <th>0</th>\n",
              "      <td>15970</td>\n",
              "      <td>Men</td>\n",
              "      <td>Apparel</td>\n",
              "      <td>Topwear</td>\n",
              "      <td>Shirts</td>\n",
              "      <td>Navy Blue</td>\n",
              "      <td>Fall</td>\n",
              "      <td>2011.0</td>\n",
              "      <td>Casual</td>\n",
              "      <td>Turtle Check Men Navy Blue Shirt</td>\n",
              "    </tr>\n",
              "    <tr>\n",
              "      <th>1</th>\n",
              "      <td>39386</td>\n",
              "      <td>Men</td>\n",
              "      <td>Apparel</td>\n",
              "      <td>Bottomwear</td>\n",
              "      <td>Jeans</td>\n",
              "      <td>Blue</td>\n",
              "      <td>Summer</td>\n",
              "      <td>2012.0</td>\n",
              "      <td>Casual</td>\n",
              "      <td>Peter England Men Party Blue Jeans</td>\n",
              "    </tr>\n",
              "    <tr>\n",
              "      <th>2</th>\n",
              "      <td>59263</td>\n",
              "      <td>Women</td>\n",
              "      <td>Accessories</td>\n",
              "      <td>Watches</td>\n",
              "      <td>Watches</td>\n",
              "      <td>Silver</td>\n",
              "      <td>Winter</td>\n",
              "      <td>2016.0</td>\n",
              "      <td>Casual</td>\n",
              "      <td>Titan Women Silver Watch</td>\n",
              "    </tr>\n",
              "    <tr>\n",
              "      <th>3</th>\n",
              "      <td>21379</td>\n",
              "      <td>Men</td>\n",
              "      <td>Apparel</td>\n",
              "      <td>Bottomwear</td>\n",
              "      <td>Track Pants</td>\n",
              "      <td>Black</td>\n",
              "      <td>Fall</td>\n",
              "      <td>2011.0</td>\n",
              "      <td>Casual</td>\n",
              "      <td>Manchester United Men Solid Black Track Pants</td>\n",
              "    </tr>\n",
              "    <tr>\n",
              "      <th>4</th>\n",
              "      <td>53759</td>\n",
              "      <td>Men</td>\n",
              "      <td>Apparel</td>\n",
              "      <td>Topwear</td>\n",
              "      <td>Tshirts</td>\n",
              "      <td>Grey</td>\n",
              "      <td>Summer</td>\n",
              "      <td>2012.0</td>\n",
              "      <td>Casual</td>\n",
              "      <td>Puma Men Grey T-shirt</td>\n",
              "    </tr>\n",
              "    <tr>\n",
              "      <th>5</th>\n",
              "      <td>1855</td>\n",
              "      <td>Men</td>\n",
              "      <td>Apparel</td>\n",
              "      <td>Topwear</td>\n",
              "      <td>Tshirts</td>\n",
              "      <td>Grey</td>\n",
              "      <td>Summer</td>\n",
              "      <td>2011.0</td>\n",
              "      <td>Casual</td>\n",
              "      <td>Inkfruit Mens Chain Reaction T-shirt</td>\n",
              "    </tr>\n",
              "    <tr>\n",
              "      <th>6</th>\n",
              "      <td>30805</td>\n",
              "      <td>Men</td>\n",
              "      <td>Apparel</td>\n",
              "      <td>Topwear</td>\n",
              "      <td>Shirts</td>\n",
              "      <td>Green</td>\n",
              "      <td>Summer</td>\n",
              "      <td>2012.0</td>\n",
              "      <td>Ethnic</td>\n",
              "      <td>Fabindia Men Striped Green Shirt</td>\n",
              "    </tr>\n",
              "    <tr>\n",
              "      <th>7</th>\n",
              "      <td>26960</td>\n",
              "      <td>Women</td>\n",
              "      <td>Apparel</td>\n",
              "      <td>Topwear</td>\n",
              "      <td>Shirts</td>\n",
              "      <td>Purple</td>\n",
              "      <td>Summer</td>\n",
              "      <td>2012.0</td>\n",
              "      <td>Casual</td>\n",
              "      <td>Jealous 21 Women Purple Shirt</td>\n",
              "    </tr>\n",
              "    <tr>\n",
              "      <th>8</th>\n",
              "      <td>29114</td>\n",
              "      <td>Men</td>\n",
              "      <td>Accessories</td>\n",
              "      <td>Socks</td>\n",
              "      <td>Socks</td>\n",
              "      <td>Navy Blue</td>\n",
              "      <td>Summer</td>\n",
              "      <td>2012.0</td>\n",
              "      <td>Casual</td>\n",
              "      <td>Puma Men Pack of 3 Socks</td>\n",
              "    </tr>\n",
              "    <tr>\n",
              "      <th>9</th>\n",
              "      <td>30039</td>\n",
              "      <td>Men</td>\n",
              "      <td>Accessories</td>\n",
              "      <td>Watches</td>\n",
              "      <td>Watches</td>\n",
              "      <td>Black</td>\n",
              "      <td>Winter</td>\n",
              "      <td>2016.0</td>\n",
              "      <td>Casual</td>\n",
              "      <td>Skagen Men Black Watch</td>\n",
              "    </tr>\n",
              "  </tbody>\n",
              "</table>\n",
              "</div>"
            ],
            "text/plain": [
              "      id gender masterCategory subCategory  articleType baseColour  season  \\\n",
              "0  15970    Men        Apparel     Topwear       Shirts  Navy Blue    Fall   \n",
              "1  39386    Men        Apparel  Bottomwear        Jeans       Blue  Summer   \n",
              "2  59263  Women    Accessories     Watches      Watches     Silver  Winter   \n",
              "3  21379    Men        Apparel  Bottomwear  Track Pants      Black    Fall   \n",
              "4  53759    Men        Apparel     Topwear      Tshirts       Grey  Summer   \n",
              "5   1855    Men        Apparel     Topwear      Tshirts       Grey  Summer   \n",
              "6  30805    Men        Apparel     Topwear       Shirts      Green  Summer   \n",
              "7  26960  Women        Apparel     Topwear       Shirts     Purple  Summer   \n",
              "8  29114    Men    Accessories       Socks        Socks  Navy Blue  Summer   \n",
              "9  30039    Men    Accessories     Watches      Watches      Black  Winter   \n",
              "\n",
              "     year   usage                             productDisplayName  \n",
              "0  2011.0  Casual               Turtle Check Men Navy Blue Shirt  \n",
              "1  2012.0  Casual             Peter England Men Party Blue Jeans  \n",
              "2  2016.0  Casual                       Titan Women Silver Watch  \n",
              "3  2011.0  Casual  Manchester United Men Solid Black Track Pants  \n",
              "4  2012.0  Casual                          Puma Men Grey T-shirt  \n",
              "5  2011.0  Casual           Inkfruit Mens Chain Reaction T-shirt  \n",
              "6  2012.0  Ethnic               Fabindia Men Striped Green Shirt  \n",
              "7  2012.0  Casual                  Jealous 21 Women Purple Shirt  \n",
              "8  2012.0  Casual                       Puma Men Pack of 3 Socks  \n",
              "9  2016.0  Casual                         Skagen Men Black Watch  "
            ]
          },
          "metadata": {},
          "output_type": "display_data"
        },
        {
          "data": {
            "text/plain": [
              "Topwear                     15402\n",
              "Shoes                        7343\n",
              "Bags                         3055\n",
              "Bottomwear                   2694\n",
              "Watches                      2542\n",
              "Innerwear                    1808\n",
              "Jewellery                    1079\n",
              "Eyewear                      1073\n",
              "Fragrance                    1011\n",
              "Sandal                        963\n",
              "Wallets                       933\n",
              "Flip Flops                    913\n",
              "Belts                         811\n",
              "Socks                         698\n",
              "Lips                          527\n",
              "Dress                         478\n",
              "Loungewear and Nightwear      470\n",
              "Saree                         427\n",
              "Nails                         329\n",
              "Makeup                        307\n",
              "Headwear                      293\n",
              "Ties                          258\n",
              "Accessories                   129\n",
              "Scarves                       118\n",
              "Cufflinks                     108\n",
              "Apparel Set                   106\n",
              "Free Gifts                    104\n",
              "Stoles                         90\n",
              "Skin Care                      77\n",
              "Skin                           69\n",
              "Eyes                           43\n",
              "Mufflers                       38\n",
              "Shoe Accessories               24\n",
              "Sports Equipment               21\n",
              "Gloves                         20\n",
              "Hair                           19\n",
              "Bath and Body                  12\n",
              "Water Bottle                    7\n",
              "Perfumes                        6\n",
              "Umbrellas                       6\n",
              "Beauty Accessories              4\n",
              "Wristbands                      4\n",
              "Sports Accessories              3\n",
              "Home Furnishing                 1\n",
              "Vouchers                        1\n",
              "Name: subCategory, dtype: int64"
            ]
          },
          "metadata": {},
          "output_type": "display_data"
        },
        {
          "data": {
            "text/plain": [
              "'Number of articleType in subcategory Topwear'"
            ]
          },
          "metadata": {},
          "output_type": "display_data"
        },
        {
          "data": {
            "text/plain": [
              "Tshirts          7066\n",
              "Shirts           3217\n",
              "Kurtas           1844\n",
              "Tops             1762\n",
              "Sweatshirts       285\n",
              "Sweaters          277\n",
              "Jackets           258\n",
              "Kurtis            234\n",
              "Tunics            229\n",
              "Dupatta           116\n",
              "Suspenders         40\n",
              "Rain Jacket        18\n",
              "Waistcoat          15\n",
              "Rompers            12\n",
              "Blazers             8\n",
              "Shrug               6\n",
              "Nehru Jackets       5\n",
              "Lehenga Choli       4\n",
              "Belts               3\n",
              "Dresses             2\n",
              "Suits               1\n",
              "Name: articleType, dtype: int64"
            ]
          },
          "metadata": {},
          "output_type": "display_data"
        }
      ],
      "source": [
        "## Dataset visualization\n",
        "\n",
        "# Show dataset size\n",
        "display(\"Dataset size\", df.shape[0])\n",
        "# Show the first ten rows of the dataset\n",
        "display(\"First ten rows of the dataset\", df.head(10))\n",
        "# Show number of subcategory\n",
        "display(df.subCategory.value_counts())\n",
        "# Show number of articleType in subcategory Topwear\n",
        "display(\"Number of articleType in subcategory Topwear\", df[df.subCategory == \"Topwear\"].articleType.value_counts())"
      ]
    },
    {
      "cell_type": "markdown",
      "metadata": {},
      "source": [
        "##### Exemple d'une image contenu dans le dataset"
      ]
    },
    {
      "cell_type": "code",
      "execution_count": 32,
      "metadata": {
        "colab": {
          "base_uri": "https://localhost:8080/",
          "height": 268
        },
        "id": "bsa5lTnZr_Hm",
        "outputId": "07c2c986-90b1-4dae-c2b0-66a04c138172"
      },
      "outputs": [
        {
          "data": {
            "image/png": "[encoded data removed]",
            "text/plain": [
              "<Figure size 432x288 with 1 Axes>"
            ]
          },
          "metadata": {
            "needs_background": "light"
          },
          "output_type": "display_data"
        }
      ],
      "source": [
        "# Show an image of the dataset\n",
        "image = cv2.imread(\"fashion-dataset-small/images/18000.jpg\")\n",
        "image = cv2.cvtColor(image, cv2.COLOR_BGR2RGB)\n",
        "plt.imshow(image)\n",
        "plt.show()"
      ]
    },
    {
      "cell_type": "markdown",
      "metadata": {},
      "source": [
        "#### Structure du dataset\n",
        "\n",
        "Le dataset est composé de 10 caractéristiques (id, gender, masterCategory, subCategory, articleType, baseColour, season, year, usage, productDisplayName).\n",
        "\n",
        "Afin d'effectuer la reconnaissance de vêtements, nous avons dû dans un premier temps sélectionner la caractéristique qu'on allait utiliser plus tard pour entrainer le modèle. Dans notre cas, nous avons choisi d'utiliser la caractéristique \"subCategory\" car elle disposait d'assez de classes avec au moins 500+ données labélisées par classe.\n",
        "\n",
        "Ensuite, nous avons conservé que les classes qui correspondait à des vêtements / accessoires qui disposait de 500+ données labélisées, pour arriver à un total de 30848 données labélisées."
      ]
    },
    {
      "cell_type": "code",
      "execution_count": 33,
      "metadata": {},
      "outputs": [
        {
          "data": {
            "text/plain": [
              "'Dataset size'"
            ]
          },
          "metadata": {},
          "output_type": "display_data"
        },
        {
          "data": {
            "text/plain": [
              "30848"
            ]
          },
          "metadata": {},
          "output_type": "display_data"
        }
      ],
      "source": [
        "# Drop subCategory that is not Topwear, Bottomwear, Shoes, Sandal, Bags, Flip Flops, Dress\n",
        "df = df[df.subCategory.isin([\"Topwear\", \"Bottomwear\", \"Shoes\", \"Sandal\", \"Bags\", \"Flip Flops\", \"Dress\"])]\n",
        "\n",
        "# Show dataset size with Topwear, Bottomwear, Shoes, Sandals and Bags\n",
        "display(\"Dataset size\", df.shape[0])"
      ]
    },
    {
      "cell_type": "markdown",
      "metadata": {},
      "source": [
        "#### Instanciation du device\n",
        "\n",
        "Afin d'obtenir de meilleur performance lors de l'entrainement et de l'évaluation des différents modèles, nous allons utiliser un GPU à l'aide de cuda"
      ]
    },
    {
      "cell_type": "code",
      "execution_count": 34,
      "metadata": {},
      "outputs": [
        {
          "name": "stdout",
          "output_type": "stream",
          "text": [
            "cuda:0\n"
          ]
        }
      ],
      "source": [
        "device = torch.device('cuda:0' if torch.cuda.is_available() else 'cpu') # Select the device\n",
        "\n",
        "print(device)"
      ]
    },
    {
      "cell_type": "markdown",
      "metadata": {},
      "source": [
        "#### Classe illustrant le dataset"
      ]
    },
    {
      "cell_type": "code",
      "execution_count": 35,
      "metadata": {},
      "outputs": [],
      "source": [
        "from torch.utils.data import Dataset\n",
        "\n",
        "# Create a class for the dataset with colors pictures\n",
        "class FashionDataset(Dataset):\n",
        "    def __init__(self, df, transform=None):\n",
        "        self.df = df\n",
        "        self.transform = transform\n",
        "\n",
        "    def __len__(self):\n",
        "        return len(self.df)\n",
        "\n",
        "    def __getitem__(self, idx):\n",
        "        if torch.is_tensor(idx):\n",
        "            idx = idx.tolist()\n",
        "\n",
        "        img_name = \"fashion-dataset-small/images/\" + str(self.df.iloc[idx, 0]) + \".jpg\"\n",
        "        image = cv2.imread(img_name)\n",
        "        image = cv2.cvtColor(image, cv2.COLOR_BGR2RGB)\n",
        "        label = self.df.iloc[idx, 4]\n",
        "\n",
        "        if self.transform:\n",
        "            image = self.transform(image)\n",
        "\n",
        "        return image, label"
      ]
    },
    {
      "cell_type": "markdown",
      "metadata": {},
      "source": [
        "#### Instantiation des set d'entrainements et de tests"
      ]
    },
    {
      "cell_type": "code",
      "execution_count": 36,
      "metadata": {},
      "outputs": [
        {
          "name": "stdout",
          "output_type": "stream",
          "text": [
            "torch.Size([64, 3, 80, 60])\n",
            "('Tshirts', 'Tshirts', 'Tshirts', 'Shirts', 'Handbags', 'Tshirts', 'Tshirts', 'Kurtis', 'Handbags', 'Shirts', 'Handbags', 'Tshirts', 'Heels', 'Shirts', 'Sandals', 'Tshirts', 'Sandals', 'Flip Flops', 'Tshirts', 'Sports Shoes', 'Handbags', 'Jeans', 'Tshirts', 'Capris', 'Jackets', 'Kurtis', 'Dupatta', 'Sports Shoes', 'Shirts', 'Shirts', 'Tops', 'Tshirts', 'Tops', 'Tshirts', 'Shirts', 'Tshirts', 'Heels', 'Heels', 'Handbags', 'Tshirts', 'Shorts', 'Backpacks', 'Trousers', 'Handbags', 'Tshirts', 'Kurtas', 'Sports Shoes', 'Salwar and Dupatta', 'Casual Shoes', 'Heels', 'Kurtas', 'Flip Flops', 'Tshirts', 'Tops', 'Jeans', 'Clutches', 'Kurtas', 'Shirts', 'Tops', 'Jeans', 'Jeans', 'Sports Shoes', 'Kurtas', 'Shirts')\n"
          ]
        }
      ],
      "source": [
        "from torchvision import transforms\n",
        "\n",
        "transform = transforms.Compose([\n",
        "    transforms.ToPILImage(),\n",
        "    transforms.ToTensor(),\n",
        "    transforms.Normalize((0.5, 0.5, 0.5), (0.5, 0.5, 0.5))\n",
        "])\n",
        "\n",
        "dataset = FashionDataset(df, transform=transform)\n",
        "\n",
        "from torch.utils.data import random_split\n",
        "\n",
        "train_size = int(0.8 * len(dataset))\n",
        "test_size = len(dataset) - train_size\n",
        "train_dataset, test_dataset = random_split(dataset, [train_size, test_size])\n",
        "\n",
        "from torch.utils.data import DataLoader\n",
        "\n",
        "train_loader = DataLoader(train_dataset, batch_size=64, shuffle=True)\n",
        "test_loader = DataLoader(test_dataset, batch_size=64, shuffle=True)\n",
        "\n",
        "for batch_id, batch in enumerate(train_loader):\n",
        "    images, labels  = batch\n",
        "    if batch_id == 0:\n",
        "        print(images.shape)\n",
        "        print(labels)\n",
        "        break"
      ]
    },
    {
      "cell_type": "markdown",
      "metadata": {},
      "source": [
        "#### Fonction d'entrainement générique"
      ]
    },
    {
      "cell_type": "code",
      "execution_count": 37,
      "metadata": {},
      "outputs": [],
      "source": [
        "# Training function\n",
        "def train_optim(model, epochs, log_frequency, device, learning_rate=1e-4):\n",
        "\n",
        "  model.to(device) # we make sure the model is on the proper device\n",
        "\n",
        "  # Multiclass classification setting, we use cross-entropy\n",
        "  # note that this implementation requires the logits as input \n",
        "  # logits: values prior softmax transformation \n",
        "  loss_fn = torch.nn.CrossEntropyLoss(reduction='mean')\n",
        "\n",
        "  optimizer = torch.optim.Adam(model.parameters(), lr=learning_rate)\n",
        "  \n",
        "  for t in range(epochs):\n",
        "\n",
        "      model.train() # we specify that we are training the model\n",
        "\n",
        "      # At each epoch, the training set will be processed as a set of batches\n",
        "      for batch_id,  batch in enumerate(train_loader) : \n",
        "\n",
        "        images, labels  = batch\n",
        "\n",
        "        # we put the data on the same device\n",
        "        images , labels = images.to(device), labels.to(device)  \n",
        "        \n",
        "        y_pred = model(images) # forward pass output=logits\n",
        "\n",
        "        loss = loss_fn(y_pred, labels)\n",
        "\n",
        "        if batch_id % log_frequency == 0:\n",
        "            print(\"epoch: {:03d}, batch: {:03d}, loss: {:.3f} \".format(t+1, batch_id+1, loss.item()))\n",
        "\n",
        "        optimizer.zero_grad() # clear the gradient before backward\n",
        "        loss.backward()       # update the gradient\n",
        "\n",
        "        optimizer.step() # update the model parameters using the gradient\n",
        "\n",
        "      # Model evaluation after each step computing the accuracy\n",
        "      model.eval()\n",
        "      total = 0\n",
        "      correct = 0\n",
        "      for batch_id, batch in enumerate(test_loader):\n",
        "        images , labels = batch\n",
        "        images , labels = images.to(device), labels.to(device)\n",
        "        y_pred = model(images) # forward computes the logits\n",
        "        sf_y_pred = torch.nn.Softmax(dim=1)(y_pred) # softmax to obtain the probability distribution\n",
        "        _, predicted = torch.max(sf_y_pred , 1)     # decision rule, we select the max\n",
        "        \n",
        "        total += labels.size(0)\n",
        "        correct += (predicted == labels).sum().item()\n",
        "      \n",
        "      print(\"[validation] accuracy: {:.3f}%\\n\".format(100 * correct / total))"
      ]
    }
  ],
  "metadata": {
    "accelerator": "GPU",
    "colab": {
      "collapsed_sections": [],
      "include_colab_link": true,
      "provenance": []
    },
    "kernelspec": {
      "display_name": "Python 3.10.1 64-bit",
      "language": "python",
      "name": "python3"
    },
    "language_info": {
      "codemirror_mode": {
        "name": "ipython",
        "version": 3
      },
      "file_extension": ".py",
      "mimetype": "text/x-python",
      "name": "python",
      "nbconvert_exporter": "python",
      "pygments_lexer": "ipython3",
      "version": "3.10.1"
    },
    "vscode": {
      "interpreter": {
        "hash": "2823d83d0138f4e88bebb1ac6893599dadbc35aa0bdabe1fb606adea8faab8b6"
      }
    }
  },
  "nbformat": 4,
  "nbformat_minor": 0
}
